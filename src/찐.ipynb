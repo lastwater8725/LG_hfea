{
 "cells": [
  {
   "cell_type": "code",
   "execution_count": 331,
   "id": "b2682242-ba9a-4218-a95f-f436b7f5f8b5",
   "metadata": {},
   "outputs": [],
   "source": [
    "import pandas as pd \n",
    "import numpy as np\n",
    "import matplotlib.pyplot as plt \n",
    "import seaborn as sns "
   ]
  },
  {
   "cell_type": "code",
   "execution_count": 332,
   "id": "c4adb862-072f-4629-b517-344740dc5387",
   "metadata": {},
   "outputs": [],
   "source": [
    "train = pd.read_csv('../data/train.csv') \n",
    "test = pd.read_csv('../data/test.csv')"
   ]
  },
  {
   "cell_type": "code",
   "execution_count": 333,
   "id": "5712b288-7e69-4a94-beb8-89be8d403928",
   "metadata": {},
   "outputs": [
    {
     "name": "stdout",
     "output_type": "stream",
     "text": [
      "임신 시도 또는 마지막 임신 경과 연수    246981\n",
      "특정 시술 유형                      2\n",
      "단일 배아 이식 여부                6291\n",
      "착상 전 유전 검사 사용 여부         253633\n",
      "착상 전 유전 진단 사용 여부           6291\n",
      "배아 생성 주요 이유                6291\n",
      "총 생성 배아 수                  6291\n",
      "미세주입된 난자 수                 6291\n",
      "미세주입에서 생성된 배아 수            6291\n",
      "이식된 배아 수                   6291\n",
      "미세주입 배아 이식 수               6291\n",
      "저장된 배아 수                   6291\n",
      "미세주입 후 저장된 배아 수            6291\n",
      "해동된 배아 수                   6291\n",
      "해동 난자 수                    6291\n",
      "수집된 신선 난자 수                6291\n",
      "저장된 신선 난자 수                6291\n",
      "혼합된 난자 수                   6291\n",
      "파트너 정자와 혼합된 난자 수           6291\n",
      "기증자 정자와 혼합된 난자 수           6291\n",
      "동결 배아 사용 여부                6291\n",
      "신선 배아 사용 여부                6291\n",
      "기증 배아 사용 여부                6291\n",
      "대리모 여부                     6291\n",
      "PGD 시술 여부                254172\n",
      "PGS 시술 여부                254422\n",
      "난자 채취 경과일                 57488\n",
      "난자 해동 경과일                254915\n",
      "난자 혼합 경과일                 53735\n",
      "배아 이식 경과일                 43566\n",
      "배아 해동 경과일                215982\n",
      "dtype: int64\n"
     ]
    }
   ],
   "source": [
    "# 결측치가 존재하는 열과 개수 출력\n",
    "train_missing_values = train.isnull().sum()\n",
    "train_missing_columns = train_missing_values[train_missing_values > 0]  # 결측치가 있는 열만 필터링\n",
    "\n",
    "print(train_missing_columns)"
   ]
  },
  {
   "cell_type": "code",
   "execution_count": 334,
   "id": "f59e84b5-3571-4430-afd9-e632a575fa64",
   "metadata": {},
   "outputs": [
    {
     "name": "stdout",
     "output_type": "stream",
     "text": [
      "임신 시도 또는 마지막 임신 경과 연수    86770\n",
      "단일 배아 이식 여부               2176\n",
      "착상 전 유전 검사 사용 여부         89134\n",
      "착상 전 유전 진단 사용 여부          2176\n",
      "배아 생성 주요 이유               2176\n",
      "총 생성 배아 수                 2176\n",
      "미세주입된 난자 수                2176\n",
      "미세주입에서 생성된 배아 수           2176\n",
      "이식된 배아 수                  2176\n",
      "미세주입 배아 이식 수              2176\n",
      "저장된 배아 수                  2176\n",
      "미세주입 후 저장된 배아 수           2176\n",
      "해동된 배아 수                  2176\n",
      "해동 난자 수                   2176\n",
      "수집된 신선 난자 수               2176\n",
      "저장된 신선 난자 수               2176\n",
      "혼합된 난자 수                  2176\n",
      "파트너 정자와 혼합된 난자 수          2176\n",
      "기증자 정자와 혼합된 난자 수          2176\n",
      "동결 배아 사용 여부               2176\n",
      "신선 배아 사용 여부               2176\n",
      "기증 배아 사용 여부               2176\n",
      "대리모 여부                    2176\n",
      "PGD 시술 여부                89286\n",
      "PGS 시술 여부                89396\n",
      "난자 채취 경과일                19949\n",
      "난자 해동 경과일                89575\n",
      "난자 혼합 경과일                18579\n",
      "배아 이식 경과일                15246\n",
      "배아 해동 경과일                76117\n",
      "dtype: int64\n"
     ]
    }
   ],
   "source": [
    "# 결측치가 존재하는 열과 개수 출력\n",
    "test_missing_values = test.isnull().sum()\n",
    "test_missing_columns = test_missing_values[test_missing_values > 0]  # 결측치가 있는 열만 필터링\n",
    "\n",
    "print(test_missing_columns)"
   ]
  },
  {
   "cell_type": "code",
   "execution_count": 335,
   "id": "a616bed6-a4bb-4d06-9f2f-7eae164cff0e",
   "metadata": {},
   "outputs": [],
   "source": [
    "train.drop(columns=['임신 시도 또는 마지막 임신 경과 연수'], inplace=True)  \n",
    "test.drop(columns=['임신 시도 또는 마지막 임신 경과 연수'], inplace=True)  "
   ]
  },
  {
   "cell_type": "code",
   "execution_count": 336,
   "id": "0eb55c2e-e380-47c6-8b81-1e065a017269",
   "metadata": {},
   "outputs": [
    {
     "name": "stderr",
     "output_type": "stream",
     "text": [
      "C:\\Users\\jeongbin\\AppData\\Local\\Temp\\ipykernel_25908\\814923478.py:1: FutureWarning: A value is trying to be set on a copy of a DataFrame or Series through chained assignment using an inplace method.\n",
      "The behavior will change in pandas 3.0. This inplace method will never work because the intermediate object on which we are setting values always behaves as a copy.\n",
      "\n",
      "For example, when doing 'df[col].method(value, inplace=True)', try using 'df.method({col: value}, inplace=True)' or df[col] = df[col].method(value) instead, to perform the operation inplace on the original object.\n",
      "\n",
      "\n",
      "  train['특정 시술 유형'].fillna('UnKnown', inplace=True)\n",
      "C:\\Users\\jeongbin\\AppData\\Local\\Temp\\ipykernel_25908\\814923478.py:2: FutureWarning: A value is trying to be set on a copy of a DataFrame or Series through chained assignment using an inplace method.\n",
      "The behavior will change in pandas 3.0. This inplace method will never work because the intermediate object on which we are setting values always behaves as a copy.\n",
      "\n",
      "For example, when doing 'df[col].method(value, inplace=True)', try using 'df.method({col: value}, inplace=True)' or df[col] = df[col].method(value) instead, to perform the operation inplace on the original object.\n",
      "\n",
      "\n",
      "  test['특정 시술 유형'].fillna('UnKnown', inplace=True)\n"
     ]
    }
   ],
   "source": [
    "train['특정 시술 유형'].fillna('UnKnown', inplace=True)\n",
    "test['특정 시술 유형'].fillna('UnKnown', inplace=True)"
   ]
  },
  {
   "cell_type": "code",
   "execution_count": 337,
   "id": "30068a7c-89e8-401b-8b03-29a8d69b59bd",
   "metadata": {},
   "outputs": [],
   "source": [
    "train.drop(columns=['착상 전 유전 검사 사용 여부'], inplace=True)  \n",
    "test.drop(columns=['착상 전 유전 검사 사용 여부'], inplace=True)  "
   ]
  },
  {
   "cell_type": "code",
   "execution_count": 338,
   "id": "5a7e144c-f40f-420c-8400-fd4425b159ec",
   "metadata": {},
   "outputs": [],
   "source": [
    "train.drop(columns=['PGD 시술 여부'], inplace=True)  \n",
    "test.drop(columns=['PGD 시술 여부'], inplace=True)  "
   ]
  },
  {
   "cell_type": "code",
   "execution_count": 339,
   "id": "236e8e4d-71c0-44d5-a64c-50fe6e430927",
   "metadata": {},
   "outputs": [],
   "source": [
    "train.drop(columns=['PGS 시술 여부'], inplace=True)  \n",
    "test.drop(columns=['PGS 시술 여부'], inplace=True)  "
   ]
  },
  {
   "cell_type": "code",
   "execution_count": 340,
   "id": "47962843-8813-4440-8af1-f4850993461d",
   "metadata": {},
   "outputs": [],
   "source": [
    "train.drop(columns=['난자 해동 경과일'], inplace=True) \n",
    "test.drop(columns=['난자 해동 경과일'], inplace=True)  "
   ]
  },
  {
   "cell_type": "code",
   "execution_count": 341,
   "id": "a366f8ee-5ab9-4ee2-8968-97fe69f6d6fb",
   "metadata": {},
   "outputs": [],
   "source": [
    "train.drop(columns=['배아 해동 경과일'], inplace=True)  \n",
    "test.drop(columns=['배아 해동 경과일'], inplace=True)  "
   ]
  },
  {
   "cell_type": "code",
   "execution_count": 342,
   "id": "192a5f42-5e32-43cf-ae17-e22068f8c3dd",
   "metadata": {},
   "outputs": [],
   "source": [
    "train['난자 채취 경과일'] = train['난자 채취 경과일'].fillna(train['난자 채취 경과일'].mode()[0])\n",
    "test['난자 채취 경과일'] = test['난자 채취 경과일'].fillna(train['난자 채취 경과일'].mode()[0])"
   ]
  },
  {
   "cell_type": "code",
   "execution_count": 343,
   "id": "bb60547b-4724-43db-ba6e-8d9de9e142a1",
   "metadata": {},
   "outputs": [],
   "source": [
    "train['난자 혼합 경과일'] = train['난자 혼합 경과일'].fillna(train['난자 혼합 경과일'].mode()[0])\n",
    "test['난자 혼합 경과일'] = test['난자 혼합 경과일'].fillna(train['난자 혼합 경과일'].mode()[0])"
   ]
  },
  {
   "cell_type": "code",
   "execution_count": 344,
   "id": "56d37b9e-cad1-468b-831b-e71065729e38",
   "metadata": {},
   "outputs": [],
   "source": [
    "train['배아 이식 경과일'] = train['배아 이식 경과일'].fillna(train['배아 이식 경과일'].mode()[0])\n",
    "test['배아 이식 경과일'] = test['배아 이식 경과일'].fillna(train['배아 이식 경과일'].mode()[0])\n"
   ]
  },
  {
   "cell_type": "code",
   "execution_count": 345,
   "id": "820a0843-bbaf-4171-94bc-2401ac79b445",
   "metadata": {},
   "outputs": [
    {
     "name": "stdout",
     "output_type": "stream",
     "text": [
      "단일 배아 이식 여부         6291\n",
      "착상 전 유전 진단 사용 여부    6291\n",
      "배아 생성 주요 이유         6291\n",
      "총 생성 배아 수           6291\n",
      "미세주입된 난자 수          6291\n",
      "미세주입에서 생성된 배아 수     6291\n",
      "이식된 배아 수            6291\n",
      "미세주입 배아 이식 수        6291\n",
      "저장된 배아 수            6291\n",
      "미세주입 후 저장된 배아 수     6291\n",
      "해동된 배아 수            6291\n",
      "해동 난자 수             6291\n",
      "수집된 신선 난자 수         6291\n",
      "저장된 신선 난자 수         6291\n",
      "혼합된 난자 수            6291\n",
      "파트너 정자와 혼합된 난자 수    6291\n",
      "기증자 정자와 혼합된 난자 수    6291\n",
      "동결 배아 사용 여부         6291\n",
      "신선 배아 사용 여부         6291\n",
      "기증 배아 사용 여부         6291\n",
      "대리모 여부              6291\n",
      "dtype: int64\n"
     ]
    }
   ],
   "source": [
    "# 결측치가 존재하는 열과 개수 출력\n",
    "train_missing_values = train.isnull().sum()\n",
    "train_missing_columns = train_missing_values[train_missing_values > 0]  # 결측치가 있는 열만 필터링\n",
    "\n",
    "print(train_missing_columns)"
   ]
  },
  {
   "cell_type": "code",
   "execution_count": 346,
   "id": "97c31955-4b5f-4cfc-96ce-bc3eacfa241d",
   "metadata": {},
   "outputs": [
    {
     "name": "stdout",
     "output_type": "stream",
     "text": [
      "단일 배아 이식 여부         2176\n",
      "착상 전 유전 진단 사용 여부    2176\n",
      "배아 생성 주요 이유         2176\n",
      "총 생성 배아 수           2176\n",
      "미세주입된 난자 수          2176\n",
      "미세주입에서 생성된 배아 수     2176\n",
      "이식된 배아 수            2176\n",
      "미세주입 배아 이식 수        2176\n",
      "저장된 배아 수            2176\n",
      "미세주입 후 저장된 배아 수     2176\n",
      "해동된 배아 수            2176\n",
      "해동 난자 수             2176\n",
      "수집된 신선 난자 수         2176\n",
      "저장된 신선 난자 수         2176\n",
      "혼합된 난자 수            2176\n",
      "파트너 정자와 혼합된 난자 수    2176\n",
      "기증자 정자와 혼합된 난자 수    2176\n",
      "동결 배아 사용 여부         2176\n",
      "신선 배아 사용 여부         2176\n",
      "기증 배아 사용 여부         2176\n",
      "대리모 여부              2176\n",
      "dtype: int64\n"
     ]
    }
   ],
   "source": [
    "# 결측치가 존재하는 열과 개수 출력\n",
    "test_missing_values = test.isnull().sum()\n",
    "test_missing_columns = test_missing_values[test_missing_values > 0]  # 결측치가 있는 열만 필터링\n",
    "\n",
    "print(test_missing_columns)"
   ]
  },
  {
   "cell_type": "code",
   "execution_count": 347,
   "id": "fc84733b-7854-40b5-b1fb-7607fad4e057",
   "metadata": {},
   "outputs": [],
   "source": [
    "train.fillna(train.mode().iloc[0], inplace=True)\n",
    "test.fillna(train.mode().iloc[0], inplace=True)"
   ]
  },
  {
   "cell_type": "code",
   "execution_count": 348,
   "id": "01eba70e-091d-4c7a-9e2c-6f0b18036680",
   "metadata": {},
   "outputs": [],
   "source": [
    "df=train.copy()"
   ]
  },
  {
   "cell_type": "code",
   "execution_count": 349,
   "id": "e429b804-4169-432f-bc85-90c6f5326a37",
   "metadata": {},
   "outputs": [
    {
     "name": "stdout",
     "output_type": "stream",
     "text": [
      "train 컬럼 '총 시술 횟수'에 숫자로 변환할 수 없는 값이 있습니다:\n",
      "['0회' '1회' '2회' '6회 이상' '3회' '4회' '5회']\n",
      "train 컬럼 '클리닉 내 총 시술 횟수'에 숫자로 변환할 수 없는 값이 있습니다:\n",
      "['0회' '1회' '2회' '6회 이상' '3회' '5회' '4회']\n",
      "train 컬럼 'IVF 시술 횟수'에 숫자로 변환할 수 없는 값이 있습니다:\n",
      "['0회' '1회' '2회' '3회' '5회' '4회' '6회 이상']\n",
      "train 컬럼 'DI 시술 횟수'에 숫자로 변환할 수 없는 값이 있습니다:\n",
      "['0회' '5회' '3회' '1회' '2회' '4회' '6회 이상']\n",
      "train 컬럼 '총 임신 횟수'에 숫자로 변환할 수 없는 값이 있습니다:\n",
      "['0회' '1회' '2회' '3회' '4회' '5회' '6회 이상']\n",
      "train 컬럼 'IVF 임신 횟수'에 숫자로 변환할 수 없는 값이 있습니다:\n",
      "['0회' '1회' '2회' '3회' '4회' '5회' '6회 이상']\n",
      "train 컬럼 'DI 임신 횟수'에 숫자로 변환할 수 없는 값이 있습니다:\n",
      "['0회' '1회' '2회' '3회' '4회' '5회']\n",
      "train 컬럼 '총 출산 횟수'에 숫자로 변환할 수 없는 값이 있습니다:\n",
      "['0회' '1회' '2회' '3회' '4회' '6회 이상' '5회']\n",
      "train 컬럼 'IVF 출산 횟수'에 숫자로 변환할 수 없는 값이 있습니다:\n",
      "['0회' '1회' '2회' '3회' '4회' '5회']\n",
      "train 컬럼 'DI 출산 횟수'에 숫자로 변환할 수 없는 값이 있습니다:\n",
      "['0회' '1회' '2회' '3회' '5회']\n",
      "train 컬럼 '난자 기증자 나이'에 숫자로 변환할 수 없는 값이 있습니다:\n",
      "['알 수 없음' '만21-25세' '만31-35세' '만26-30세' '만20세 이하']\n",
      "train 컬럼 '정자 기증자 나이'에 숫자로 변환할 수 없는 값이 있습니다:\n",
      "['알 수 없음' '만26-30세' '만21-25세' '만41-45세' '만36-40세' '만31-35세' '만20세 이하']\n"
     ]
    }
   ],
   "source": [
    "# 각 컬럼에서 숫자로 변환할 수 없는 값 확인\n",
    "for col in [ '총 시술 횟수', '클리닉 내 총 시술 횟수', 'IVF 시술 횟수', 'DI 시술 횟수', '총 임신 횟수',\n",
    "            'IVF 임신 횟수', 'DI 임신 횟수', '총 출산 횟수', 'IVF 출산 횟수', 'DI 출산 횟수', '난자 기증자 나이', '정자 기증자 나이']:\n",
    "    # 변환할 수 없는 값 찾기\n",
    "    invalid_values = df[col][pd.to_numeric(df[col], errors='coerce').isna()]\n",
    "    if len(invalid_values) > 0:\n",
    "        print(f\"train 컬럼 '{col}'에 숫자로 변환할 수 없는 값이 있습니다:\")\n",
    "        print(invalid_values.unique())"
   ]
  },
  {
   "cell_type": "code",
   "execution_count": 350,
   "id": "642eae2f-f56d-4730-97c8-47d4d7405fd2",
   "metadata": {},
   "outputs": [
    {
     "name": "stdout",
     "output_type": "stream",
     "text": [
      "test 컬럼 '총 시술 횟수'에 숫자로 변환할 수 없는 값이 있습니다:\n",
      "['1회' '0회' '3회' '5회' '2회' '4회' '6회 이상']\n",
      "test 컬럼 '클리닉 내 총 시술 횟수'에 숫자로 변환할 수 없는 값이 있습니다:\n",
      "['1회' '0회' '3회' '5회' '2회' '4회' '6회 이상']\n",
      "test 컬럼 'IVF 시술 횟수'에 숫자로 변환할 수 없는 값이 있습니다:\n",
      "['1회' '0회' '5회' '2회' '4회' '3회' '6회 이상']\n",
      "test 컬럼 'DI 시술 횟수'에 숫자로 변환할 수 없는 값이 있습니다:\n",
      "['0회' '2회' '1회' '3회' '5회' '4회' '6회 이상']\n",
      "test 컬럼 '총 임신 횟수'에 숫자로 변환할 수 없는 값이 있습니다:\n",
      "['0회' '1회' '2회' '3회' '4회' '5회' '6회 이상']\n",
      "test 컬럼 'IVF 임신 횟수'에 숫자로 변환할 수 없는 값이 있습니다:\n",
      "['0회' '1회' '2회' '3회' '4회' '5회']\n",
      "test 컬럼 'DI 임신 횟수'에 숫자로 변환할 수 없는 값이 있습니다:\n",
      "['0회' '1회' '2회' '3회' '4회' '5회']\n",
      "test 컬럼 '총 출산 횟수'에 숫자로 변환할 수 없는 값이 있습니다:\n",
      "['0회' '1회' '2회' '4회' '3회' '6회 이상']\n",
      "test 컬럼 'IVF 출산 횟수'에 숫자로 변환할 수 없는 값이 있습니다:\n",
      "['0회' '1회' '2회' '4회' '3회']\n",
      "test 컬럼 'DI 출산 횟수'에 숫자로 변환할 수 없는 값이 있습니다:\n",
      "['0회' '1회' '2회' '3회' '5회']\n",
      "test 컬럼 '난자 기증자 나이'에 숫자로 변환할 수 없는 값이 있습니다:\n",
      "['알 수 없음' '만26-30세' '만21-25세' '만31-35세' '만20세 이하']\n",
      "test 컬럼 '정자 기증자 나이'에 숫자로 변환할 수 없는 값이 있습니다:\n",
      "['알 수 없음' '만36-40세' '만31-35세' '만41-45세' '만26-30세' '만21-25세' '만20세 이하']\n"
     ]
    }
   ],
   "source": [
    "# 각 컬럼에서 숫자로 변환할 수 없는 값 확인\n",
    "for col in [ '총 시술 횟수', '클리닉 내 총 시술 횟수', 'IVF 시술 횟수', 'DI 시술 횟수', '총 임신 횟수',\n",
    "            'IVF 임신 횟수', 'DI 임신 횟수', '총 출산 횟수', 'IVF 출산 횟수', 'DI 출산 횟수', '난자 기증자 나이', '정자 기증자 나이']:\n",
    "    # 변환할 수 없는 값 찾기\n",
    "    invalid_values = test[col][pd.to_numeric(test[col], errors='coerce').isna()]\n",
    "    if len(invalid_values) > 0:\n",
    "        print(f\"test 컬럼 '{col}'에 숫자로 변환할 수 없는 값이 있습니다:\")\n",
    "        print(invalid_values.unique())"
   ]
  },
  {
   "cell_type": "code",
   "execution_count": 351,
   "id": "bcf94137-cfe5-4a34-9cc3-4a6c660b002b",
   "metadata": {},
   "outputs": [],
   "source": [
    "# 숫자로 변환할 수 없는 값들 처리\n",
    "def convert_to_numeric(value):\n",
    "    # '회'를 제거하고 숫자로 변환\n",
    "    if isinstance(value, str):\n",
    "        value = value.replace('회', '').replace('회 이상', '6')  # '6회 이상'을 6으로 변경\n",
    "        try:\n",
    "            return float(value)  # 숫자로 변환\n",
    "        except ValueError:\n",
    "            return None  # 변환할 수 없으면 None 반환\n",
    "    return value\n",
    "\n",
    "# 해당 컬럼들을 변환\n",
    "for col in ['총 시술 횟수', '클리닉 내 총 시술 횟수', 'IVF 시술 횟수', 'DI 시술 횟수', '총 임신 횟수',\n",
    "            'IVF 임신 횟수', 'DI 임신 횟수', '총 출산 횟수', 'IVF 출산 횟수', 'DI 출산 횟수']:\n",
    "    df[col] = df[col].apply(convert_to_numeric)\n",
    "    test[col]=test[col].apply(convert_to_numeric)"
   ]
  },
  {
   "cell_type": "code",
   "execution_count": 352,
   "id": "3b689bc7-a296-4206-94d7-0dc6a63c88d2",
   "metadata": {},
   "outputs": [],
   "source": [
    "# '난자 기증자 나이'와 '정자 기증자 나이' 처리\n",
    "def age_to_numeric(value):\n",
    "    if isinstance(value, str):\n",
    "        if value == '알 수 없음':\n",
    "            return None  # '알 수 없음'은 NaN으로 처리\n",
    "        age_groups = {\n",
    "            '만20세 이하': 20,\n",
    "            '만21-25세': 23,\n",
    "            '만26-30세': 28,\n",
    "            '만31-35세': 33,\n",
    "            '만36-40세': 38,\n",
    "            '만41-45세': 43\n",
    "        }\n",
    "        return age_groups.get(value, None)  # 해당 연령대의 중앙값을 반환\n",
    "    return value\n",
    "\n",
    "df['난자 기증자 나이'] = df['난자 기증자 나이'].apply(age_to_numeric)\n",
    "df['정자 기증자 나이'] = df['정자 기증자 나이'].apply(age_to_numeric)\n",
    "test['난자 기증자 나이'] = test['난자 기증자 나이'].apply(age_to_numeric)\n",
    "test['정자 기증자 나이'] = test['정자 기증자 나이'].apply(age_to_numeric)"
   ]
  },
  {
   "cell_type": "code",
   "execution_count": 353,
   "id": "709dead4-3362-4bd9-b049-ba4e8d241c73",
   "metadata": {},
   "outputs": [
    {
     "name": "stdout",
     "output_type": "stream",
     "text": [
      "ID           0\n",
      "시술 시기 코드     0\n",
      "시술 당시 나이     0\n",
      "시술 유형        0\n",
      "특정 시술 유형     0\n",
      "            ..\n",
      "대리모 여부       0\n",
      "난자 채취 경과일    0\n",
      "난자 혼합 경과일    0\n",
      "배아 이식 경과일    0\n",
      "임신 성공 여부     0\n",
      "Length: 63, dtype: int64\n"
     ]
    }
   ],
   "source": [
    "# NaN 값이 있는지 다시 확인\n",
    "print(df.isna().sum())"
   ]
  },
  {
   "cell_type": "code",
   "execution_count": 354,
   "id": "0c08d5ad-cf0a-4805-94d2-528a4cbfb380",
   "metadata": {},
   "outputs": [
    {
     "name": "stdout",
     "output_type": "stream",
     "text": [
      "ID             0\n",
      "시술 시기 코드       0\n",
      "시술 당시 나이       0\n",
      "시술 유형          0\n",
      "특정 시술 유형       0\n",
      "              ..\n",
      "기증 배아 사용 여부    0\n",
      "대리모 여부         0\n",
      "난자 채취 경과일      0\n",
      "난자 혼합 경과일      0\n",
      "배아 이식 경과일      0\n",
      "Length: 62, dtype: int64\n"
     ]
    }
   ],
   "source": [
    "# NaN 값이 있는지 다시 확인\n",
    "print(test.isna().sum())"
   ]
  },
  {
   "cell_type": "code",
   "execution_count": 355,
   "id": "bb809b25-1739-4c87-8671-eb469cad1f52",
   "metadata": {},
   "outputs": [],
   "source": [
    "# 불필요한 ID 컬럼 제거\n",
    "df.drop(columns=['ID'], inplace=True)\n",
    "df.drop(columns=['시술 시기 코드'], inplace=True)\n",
    "test.drop(columns=['ID'], inplace=True)\n",
    "test.drop(columns=['시술 시기 코드'], inplace=True)"
   ]
  },
  {
   "cell_type": "code",
   "execution_count": 356,
   "id": "c56de4fb-f5ac-4fc6-abec-175fbf9a5878",
   "metadata": {},
   "outputs": [],
   "source": [
    "def categorize_treatment(x):\n",
    "    if \"IVF\" in x:\n",
    "        return \"IVF\"\n",
    "    elif \"ICSI\" in x:\n",
    "        return \"ICSI\"\n",
    "    elif \"IUI\" in x or \"ICI\" in x:\n",
    "        return \"IUI\"\n",
    "    else:\n",
    "        return \"Unknown\"\n",
    "\n",
    "# ✅ 그룹화 적용 (train & test)\n",
    "df[\"특정 시술 유형\"] = df[\"특정 시술 유형\"].apply(categorize_treatment)\n",
    "test[\"특정 시술 유형\"] = test[\"특정 시술 유형\"].apply(categorize_treatment)"
   ]
  },
  {
   "cell_type": "code",
   "execution_count": 357,
   "id": "17331fde-9330-42ed-83c7-0664de12162b",
   "metadata": {},
   "outputs": [
    {
     "name": "stderr",
     "output_type": "stream",
     "text": [
      "C:\\Users\\jeongbin\\AppData\\Local\\Temp\\ipykernel_25908\\2842533252.py:21: FutureWarning: A value is trying to be set on a copy of a DataFrame or Series through chained assignment using an inplace method.\n",
      "The behavior will change in pandas 3.0. This inplace method will never work because the intermediate object on which we are setting values always behaves as a copy.\n",
      "\n",
      "For example, when doing 'df[col].method(value, inplace=True)', try using 'df.method({col: value}, inplace=True)' or df[col] = df[col].method(value) instead, to perform the operation inplace on the original object.\n",
      "\n",
      "\n",
      "  df[col].fillna(df[col].median(), inplace=True)\n",
      "C:\\Users\\jeongbin\\AppData\\Local\\Temp\\ipykernel_25908\\2842533252.py:21: FutureWarning: A value is trying to be set on a copy of a DataFrame or Series through chained assignment using an inplace method.\n",
      "The behavior will change in pandas 3.0. This inplace method will never work because the intermediate object on which we are setting values always behaves as a copy.\n",
      "\n",
      "For example, when doing 'df[col].method(value, inplace=True)', try using 'df.method({col: value}, inplace=True)' or df[col] = df[col].method(value) instead, to perform the operation inplace on the original object.\n",
      "\n",
      "\n",
      "  df[col].fillna(df[col].median(), inplace=True)\n",
      "C:\\Users\\jeongbin\\AppData\\Local\\Temp\\ipykernel_25908\\2842533252.py:21: FutureWarning: A value is trying to be set on a copy of a DataFrame or Series through chained assignment using an inplace method.\n",
      "The behavior will change in pandas 3.0. This inplace method will never work because the intermediate object on which we are setting values always behaves as a copy.\n",
      "\n",
      "For example, when doing 'df[col].method(value, inplace=True)', try using 'df.method({col: value}, inplace=True)' or df[col] = df[col].method(value) instead, to perform the operation inplace on the original object.\n",
      "\n",
      "\n",
      "  df[col].fillna(df[col].median(), inplace=True)\n",
      "C:\\Users\\jeongbin\\AppData\\Local\\Temp\\ipykernel_25908\\2842533252.py:21: FutureWarning: A value is trying to be set on a copy of a DataFrame or Series through chained assignment using an inplace method.\n",
      "The behavior will change in pandas 3.0. This inplace method will never work because the intermediate object on which we are setting values always behaves as a copy.\n",
      "\n",
      "For example, when doing 'df[col].method(value, inplace=True)', try using 'df.method({col: value}, inplace=True)' or df[col] = df[col].method(value) instead, to perform the operation inplace on the original object.\n",
      "\n",
      "\n",
      "  df[col].fillna(df[col].median(), inplace=True)\n",
      "C:\\Users\\jeongbin\\AppData\\Local\\Temp\\ipykernel_25908\\2842533252.py:21: FutureWarning: A value is trying to be set on a copy of a DataFrame or Series through chained assignment using an inplace method.\n",
      "The behavior will change in pandas 3.0. This inplace method will never work because the intermediate object on which we are setting values always behaves as a copy.\n",
      "\n",
      "For example, when doing 'df[col].method(value, inplace=True)', try using 'df.method({col: value}, inplace=True)' or df[col] = df[col].method(value) instead, to perform the operation inplace on the original object.\n",
      "\n",
      "\n",
      "  df[col].fillna(df[col].median(), inplace=True)\n",
      "C:\\Users\\jeongbin\\AppData\\Local\\Temp\\ipykernel_25908\\2842533252.py:21: FutureWarning: A value is trying to be set on a copy of a DataFrame or Series through chained assignment using an inplace method.\n",
      "The behavior will change in pandas 3.0. This inplace method will never work because the intermediate object on which we are setting values always behaves as a copy.\n",
      "\n",
      "For example, when doing 'df[col].method(value, inplace=True)', try using 'df.method({col: value}, inplace=True)' or df[col] = df[col].method(value) instead, to perform the operation inplace on the original object.\n",
      "\n",
      "\n",
      "  df[col].fillna(df[col].median(), inplace=True)\n",
      "C:\\Users\\jeongbin\\AppData\\Local\\Temp\\ipykernel_25908\\2842533252.py:21: FutureWarning: A value is trying to be set on a copy of a DataFrame or Series through chained assignment using an inplace method.\n",
      "The behavior will change in pandas 3.0. This inplace method will never work because the intermediate object on which we are setting values always behaves as a copy.\n",
      "\n",
      "For example, when doing 'df[col].method(value, inplace=True)', try using 'df.method({col: value}, inplace=True)' or df[col] = df[col].method(value) instead, to perform the operation inplace on the original object.\n",
      "\n",
      "\n",
      "  df[col].fillna(df[col].median(), inplace=True)\n",
      "C:\\Users\\jeongbin\\AppData\\Local\\Temp\\ipykernel_25908\\2842533252.py:21: FutureWarning: A value is trying to be set on a copy of a DataFrame or Series through chained assignment using an inplace method.\n",
      "The behavior will change in pandas 3.0. This inplace method will never work because the intermediate object on which we are setting values always behaves as a copy.\n",
      "\n",
      "For example, when doing 'df[col].method(value, inplace=True)', try using 'df.method({col: value}, inplace=True)' or df[col] = df[col].method(value) instead, to perform the operation inplace on the original object.\n",
      "\n",
      "\n",
      "  df[col].fillna(df[col].median(), inplace=True)\n",
      "C:\\Users\\jeongbin\\AppData\\Local\\Temp\\ipykernel_25908\\2842533252.py:21: FutureWarning: A value is trying to be set on a copy of a DataFrame or Series through chained assignment using an inplace method.\n",
      "The behavior will change in pandas 3.0. This inplace method will never work because the intermediate object on which we are setting values always behaves as a copy.\n",
      "\n",
      "For example, when doing 'df[col].method(value, inplace=True)', try using 'df.method({col: value}, inplace=True)' or df[col] = df[col].method(value) instead, to perform the operation inplace on the original object.\n",
      "\n",
      "\n",
      "  df[col].fillna(df[col].median(), inplace=True)\n",
      "C:\\Users\\jeongbin\\AppData\\Local\\Temp\\ipykernel_25908\\2842533252.py:28: FutureWarning: A value is trying to be set on a copy of a DataFrame or Series through chained assignment using an inplace method.\n",
      "The behavior will change in pandas 3.0. This inplace method will never work because the intermediate object on which we are setting values always behaves as a copy.\n",
      "\n",
      "For example, when doing 'df[col].method(value, inplace=True)', try using 'df.method({col: value}, inplace=True)' or df[col] = df[col].method(value) instead, to perform the operation inplace on the original object.\n",
      "\n",
      "\n",
      "  test[col].fillna(df[col].median(), inplace=True)  # 훈련 데이터의 중앙값으로 결측치 채우기\n",
      "C:\\Users\\jeongbin\\AppData\\Local\\Temp\\ipykernel_25908\\2842533252.py:28: FutureWarning: A value is trying to be set on a copy of a DataFrame or Series through chained assignment using an inplace method.\n",
      "The behavior will change in pandas 3.0. This inplace method will never work because the intermediate object on which we are setting values always behaves as a copy.\n",
      "\n",
      "For example, when doing 'df[col].method(value, inplace=True)', try using 'df.method({col: value}, inplace=True)' or df[col] = df[col].method(value) instead, to perform the operation inplace on the original object.\n",
      "\n",
      "\n",
      "  test[col].fillna(df[col].median(), inplace=True)  # 훈련 데이터의 중앙값으로 결측치 채우기\n",
      "C:\\Users\\jeongbin\\AppData\\Local\\Temp\\ipykernel_25908\\2842533252.py:28: FutureWarning: A value is trying to be set on a copy of a DataFrame or Series through chained assignment using an inplace method.\n",
      "The behavior will change in pandas 3.0. This inplace method will never work because the intermediate object on which we are setting values always behaves as a copy.\n",
      "\n",
      "For example, when doing 'df[col].method(value, inplace=True)', try using 'df.method({col: value}, inplace=True)' or df[col] = df[col].method(value) instead, to perform the operation inplace on the original object.\n",
      "\n",
      "\n",
      "  test[col].fillna(df[col].median(), inplace=True)  # 훈련 데이터의 중앙값으로 결측치 채우기\n",
      "C:\\Users\\jeongbin\\AppData\\Local\\Temp\\ipykernel_25908\\2842533252.py:28: FutureWarning: A value is trying to be set on a copy of a DataFrame or Series through chained assignment using an inplace method.\n",
      "The behavior will change in pandas 3.0. This inplace method will never work because the intermediate object on which we are setting values always behaves as a copy.\n",
      "\n",
      "For example, when doing 'df[col].method(value, inplace=True)', try using 'df.method({col: value}, inplace=True)' or df[col] = df[col].method(value) instead, to perform the operation inplace on the original object.\n",
      "\n",
      "\n",
      "  test[col].fillna(df[col].median(), inplace=True)  # 훈련 데이터의 중앙값으로 결측치 채우기\n",
      "C:\\Users\\jeongbin\\AppData\\Local\\Temp\\ipykernel_25908\\2842533252.py:28: FutureWarning: A value is trying to be set on a copy of a DataFrame or Series through chained assignment using an inplace method.\n",
      "The behavior will change in pandas 3.0. This inplace method will never work because the intermediate object on which we are setting values always behaves as a copy.\n",
      "\n",
      "For example, when doing 'df[col].method(value, inplace=True)', try using 'df.method({col: value}, inplace=True)' or df[col] = df[col].method(value) instead, to perform the operation inplace on the original object.\n",
      "\n",
      "\n",
      "  test[col].fillna(df[col].median(), inplace=True)  # 훈련 데이터의 중앙값으로 결측치 채우기\n",
      "C:\\Users\\jeongbin\\AppData\\Local\\Temp\\ipykernel_25908\\2842533252.py:28: FutureWarning: A value is trying to be set on a copy of a DataFrame or Series through chained assignment using an inplace method.\n",
      "The behavior will change in pandas 3.0. This inplace method will never work because the intermediate object on which we are setting values always behaves as a copy.\n",
      "\n",
      "For example, when doing 'df[col].method(value, inplace=True)', try using 'df.method({col: value}, inplace=True)' or df[col] = df[col].method(value) instead, to perform the operation inplace on the original object.\n",
      "\n",
      "\n",
      "  test[col].fillna(df[col].median(), inplace=True)  # 훈련 데이터의 중앙값으로 결측치 채우기\n",
      "C:\\Users\\jeongbin\\AppData\\Local\\Temp\\ipykernel_25908\\2842533252.py:28: FutureWarning: A value is trying to be set on a copy of a DataFrame or Series through chained assignment using an inplace method.\n",
      "The behavior will change in pandas 3.0. This inplace method will never work because the intermediate object on which we are setting values always behaves as a copy.\n",
      "\n",
      "For example, when doing 'df[col].method(value, inplace=True)', try using 'df.method({col: value}, inplace=True)' or df[col] = df[col].method(value) instead, to perform the operation inplace on the original object.\n",
      "\n",
      "\n",
      "  test[col].fillna(df[col].median(), inplace=True)  # 훈련 데이터의 중앙값으로 결측치 채우기\n",
      "C:\\Users\\jeongbin\\AppData\\Local\\Temp\\ipykernel_25908\\2842533252.py:28: FutureWarning: A value is trying to be set on a copy of a DataFrame or Series through chained assignment using an inplace method.\n",
      "The behavior will change in pandas 3.0. This inplace method will never work because the intermediate object on which we are setting values always behaves as a copy.\n",
      "\n",
      "For example, when doing 'df[col].method(value, inplace=True)', try using 'df.method({col: value}, inplace=True)' or df[col] = df[col].method(value) instead, to perform the operation inplace on the original object.\n",
      "\n",
      "\n",
      "  test[col].fillna(df[col].median(), inplace=True)  # 훈련 데이터의 중앙값으로 결측치 채우기\n"
     ]
    }
   ],
   "source": [
    "from sklearn.preprocessing import LabelEncoder\n",
    "import numpy as np\n",
    "\n",
    "le = LabelEncoder()\n",
    "\n",
    "# 훈련 데이터에 대해 fit을 수행합니다.\n",
    "for col in ['시술 유형', '특정 시술 유형','배란 유도 유형', '배아 생성 주요 이유', '난자 출처', '정자 출처', '시술 당시 나이']:\n",
    "    # 훈련 데이터에서 fit하고 변환\n",
    "    df[col] = le.fit_transform(df[col].astype(str)) \n",
    "\n",
    "    # 테스트 데이터에서 훈련 데이터에 없는 레이블은 'unknown'으로 처리합니다.\n",
    "    test_col = test[col].astype(str)\n",
    "    test[col] = np.where(test_col.isin(le.classes_), le.transform(test_col), -1)  # -1을 'unknown'으로 대체\n",
    "\n",
    "# 결측치 처리\n",
    "for col in df.columns:\n",
    "    if df[col].isnull().sum() > 0:\n",
    "        if df[col].dtype == 'object':\n",
    "            df[col].fillna(df[col].mode()[0], inplace=True)\n",
    "        else:\n",
    "            df[col].fillna(df[col].median(), inplace=True)\n",
    "\n",
    "for col in test.columns:\n",
    "    if test[col].isnull().sum() > 0:\n",
    "        if test[col].dtype == 'object':\n",
    "            test[col].fillna(df[col].mode()[0], inplace=True)  # 훈련 데이터의 모드로 결측치 채우기\n",
    "        else:\n",
    "            test[col].fillna(df[col].median(), inplace=True)  # 훈련 데이터의 중앙값으로 결측치 채우기\n"
   ]
  },
  {
   "cell_type": "code",
   "execution_count": 358,
   "id": "fc0c713d-7f76-41d3-91d2-2114d2cc2402",
   "metadata": {},
   "outputs": [],
   "source": [
    "from sklearn.model_selection import train_test_split\n",
    "from sklearn.ensemble import RandomForestClassifier\n",
    "from xgboost import XGBClassifier\n",
    "from lightgbm import LGBMClassifier\n",
    "from sklearn.metrics import accuracy_score, f1_score, roc_auc_score"
   ]
  },
  {
   "cell_type": "code",
   "execution_count": 359,
   "id": "c671344b-a5be-48be-96ef-6e2d4a1f1382",
   "metadata": {},
   "outputs": [
    {
     "data": {
      "text/plain": [
       "'\\n# 데이터 분할\\nX = df.drop(columns=[\\'임신 성공 여부\\'])\\ny = df[\\'임신 성공 여부\\']\\nX_train, X_test, y_train, y_test = train_test_split(X, y, test_size=0.2, random_state=42)\\n\\n# 모델 학습 및 평가\\ndef evaluate_model(model, X_train, X_test, y_train, y_test):\\n    model.fit(X_train, y_train)\\n    y_pred = model.predict(X_test)\\n    y_pred_proba = model.predict_proba(X_test)[:, 1]\\n    print(f\"{model.__class__.__name__}:\")\\n    print(f\"Accuracy: {accuracy_score(y_test, y_pred):.4f}\")\\n    print(f\"F1 Score: {f1_score(y_test, y_pred):.4f}\")\\n    print(f\"ROC AUC Score: {roc_auc_score(y_test, y_pred_proba):.4f}\\n\")\\n\\n# 모델 리스트\\nmodels = [RandomForestClassifier(), XGBClassifier(use_label_encoder=False, eval_metric=\\'logloss\\'), LGBMClassifier()]\\n\\n# 모델 성능 비교\\nfor model in models:\\n    evaluate_model(model, X_train, X_test, y_train, y_test)\\n'"
      ]
     },
     "execution_count": 359,
     "metadata": {},
     "output_type": "execute_result"
    }
   ],
   "source": [
    "\"\"\"\n",
    "# 데이터 분할\n",
    "X = df.drop(columns=['임신 성공 여부'])\n",
    "y = df['임신 성공 여부']\n",
    "X_train, X_test, y_train, y_test = train_test_split(X, y, test_size=0.2, random_state=42)\n",
    "\n",
    "# 모델 학습 및 평가\n",
    "def evaluate_model(model, X_train, X_test, y_train, y_test):\n",
    "    model.fit(X_train, y_train)\n",
    "    y_pred = model.predict(X_test)\n",
    "    y_pred_proba = model.predict_proba(X_test)[:, 1]\n",
    "    print(f\"{model.__class__.__name__}:\")\n",
    "    print(f\"Accuracy: {accuracy_score(y_test, y_pred):.4f}\")\n",
    "    print(f\"F1 Score: {f1_score(y_test, y_pred):.4f}\")\n",
    "    print(f\"ROC AUC Score: {roc_auc_score(y_test, y_pred_proba):.4f}\\n\")\n",
    "\n",
    "# 모델 리스트\n",
    "models = [RandomForestClassifier(), XGBClassifier(use_label_encoder=False, eval_metric='logloss'), LGBMClassifier()]\n",
    "\n",
    "# 모델 성능 비교\n",
    "for model in models:\n",
    "    evaluate_model(model, X_train, X_test, y_train, y_test)\n",
    "\"\"\""
   ]
  },
  {
   "cell_type": "code",
   "execution_count": 360,
   "id": "a7f6e0ef-f16a-46df-82e6-4bea2389fff3",
   "metadata": {},
   "outputs": [
    {
     "data": {
      "text/plain": [
       "'\\nfrom sklearn.model_selection import RandomizedSearchCV\\nfrom lightgbm import LGBMClassifier\\nimport numpy as np\\n\\n# LGBMClassifier 모델 정의\\nlgbm = LGBMClassifier()\\n\\n# 하이퍼파라미터 분포 설정 (랜덤 서치에서는 분포를 지정)\\nparam_dist = {\\n    \\'n_estimators\\': [100, 200, 300],\\n    \\'learning_rate\\': [0.01, 0.05, 0.1],\\n    \\'max_depth\\': [3, 5, 7],\\n    \\'num_leaves\\': [31, 50, 100],\\n    \\'subsample\\': [0.7, 0.8, 1.0],\\n    \\'colsample_bytree\\': [0.7, 0.8, 1.0]\\n}\\n\\n# RandomizedSearchCV 사용: 5-fold 교차 검증, 정확도 기반 평가\\nrandom_search = RandomizedSearchCV(estimator=lgbm, param_distributions=param_dist, n_iter=50, scoring=\\'accuracy\\', cv=5, n_jobs=-1)\\n\\n# 훈련 데이터로 최적 하이퍼파라미터 탐색\\nrandom_search.fit(X_train, y_train)\\n\\n# 최적 하이퍼파라미터 출력\\nprint(f\"Best parameters: {random_search.best_params_}\")\\n\\n# 최적 모델을 이용한 예측\\nbest_model = random_search.best_estimator_\\ny_pred = best_model.predict(X_test)\\n\\n# 성능 평가\\nfrom sklearn.metrics import accuracy_score\\nprint(f\"Accuracy: {accuracy_score(y_test, y_pred)}\")\\n'"
      ]
     },
     "execution_count": 360,
     "metadata": {},
     "output_type": "execute_result"
    }
   ],
   "source": [
    "\"\"\"\n",
    "from sklearn.model_selection import RandomizedSearchCV\n",
    "from lightgbm import LGBMClassifier\n",
    "import numpy as np\n",
    "\n",
    "# LGBMClassifier 모델 정의\n",
    "lgbm = LGBMClassifier()\n",
    "\n",
    "# 하이퍼파라미터 분포 설정 (랜덤 서치에서는 분포를 지정)\n",
    "param_dist = {\n",
    "    'n_estimators': [100, 200, 300],\n",
    "    'learning_rate': [0.01, 0.05, 0.1],\n",
    "    'max_depth': [3, 5, 7],\n",
    "    'num_leaves': [31, 50, 100],\n",
    "    'subsample': [0.7, 0.8, 1.0],\n",
    "    'colsample_bytree': [0.7, 0.8, 1.0]\n",
    "}\n",
    "\n",
    "# RandomizedSearchCV 사용: 5-fold 교차 검증, 정확도 기반 평가\n",
    "random_search = RandomizedSearchCV(estimator=lgbm, param_distributions=param_dist, n_iter=50, scoring='accuracy', cv=5, n_jobs=-1)\n",
    "\n",
    "# 훈련 데이터로 최적 하이퍼파라미터 탐색\n",
    "random_search.fit(X_train, y_train)\n",
    "\n",
    "# 최적 하이퍼파라미터 출력\n",
    "print(f\"Best parameters: {random_search.best_params_}\")\n",
    "\n",
    "# 최적 모델을 이용한 예측\n",
    "best_model = random_search.best_estimator_\n",
    "y_pred = best_model.predict(X_test)\n",
    "\n",
    "# 성능 평가\n",
    "from sklearn.metrics import accuracy_score\n",
    "print(f\"Accuracy: {accuracy_score(y_test, y_pred)}\")\n",
    "\"\"\""
   ]
  },
  {
   "cell_type": "code",
   "execution_count": 361,
   "id": "d436e302-9e9b-42fb-8032-8aec59341cee",
   "metadata": {},
   "outputs": [
    {
     "data": {
      "text/plain": [
       "'\\nfrom sklearn.model_selection import RandomizedSearchCV\\nfrom lightgbm import LGBMClassifier\\nfrom sklearn.metrics import roc_auc_score\\n\\n# LGBMClassifier 모델 정의\\nlgbm = LGBMClassifier()\\n\\n# 하이퍼파라미터 분포 설정 (랜덤 서치에서는 분포를 지정)\\nparam_dist = {\\n    \\'n_estimators\\': [100, 150, 200],  # 더 적은 값으로 축소\\n    \\'learning_rate\\': [0.01, 0.05],  # 적은 값으로 설정\\n    \\'max_depth\\': [3, 5],  # 범위 축소\\n    \\'num_leaves\\': [31, 50],  # 적은 값으로 축소\\n    \\'subsample\\': [0.7, 0.8],  # 범위 축소\\n    \\'colsample_bytree\\': [0.7, 0.8]  # 범위 축소\\n}\\n\\n# RandomizedSearchCV 사용: 3-fold 교차 검증, ROC AUC 점수 기반 평가\\nrandom_search = RandomizedSearchCV(estimator=lgbm, param_distributions=param_dist, n_iter=20, scoring=\\'roc_auc\\', cv=3, n_jobs=-1, verbose=1)\\n\\n# 훈련 데이터로 최적 하이퍼파라미터 탐색\\nrandom_search.fit(X_train, y_train)\\n\\n# 최적 하이퍼파라미터 출력\\nprint(f\"Best parameters: {random_search.best_params_}\")\\n\\n# 최적 모델을 이용한 예측\\nbest_model = random_search.best_estimator_\\ny_pred = best_model.predict(X_test)\\n\\n# ROC AUC 점수 출력\\nroc_auc = roc_auc_score(y_test, best_model.predict_proba(X_test)[:, 1])\\nprint(f\"ROC AUC Score for the best model: {roc_auc:.4f}\")\\n\\n# 각 하이퍼파라미터 조합에 대한 ROC AUC 점수 출력\\nprint(\"\\nAll evaluated parameters and their ROC AUC scores:\")\\nfor mean_score, params in zip(random_search.cv_results_[\\'mean_test_score\\'], random_search.cv_results_[\\'params\\']):\\n    print(f\"ROC AUC: {mean_score:.4f} | Parameters: {params}\")\\n'"
      ]
     },
     "execution_count": 361,
     "metadata": {},
     "output_type": "execute_result"
    }
   ],
   "source": [
    "\"\"\"\n",
    "from sklearn.model_selection import RandomizedSearchCV\n",
    "from lightgbm import LGBMClassifier\n",
    "from sklearn.metrics import roc_auc_score\n",
    "\n",
    "# LGBMClassifier 모델 정의\n",
    "lgbm = LGBMClassifier()\n",
    "\n",
    "# 하이퍼파라미터 분포 설정 (랜덤 서치에서는 분포를 지정)\n",
    "param_dist = {\n",
    "    'n_estimators': [100, 150, 200],  # 더 적은 값으로 축소\n",
    "    'learning_rate': [0.01, 0.05],  # 적은 값으로 설정\n",
    "    'max_depth': [3, 5],  # 범위 축소\n",
    "    'num_leaves': [31, 50],  # 적은 값으로 축소\n",
    "    'subsample': [0.7, 0.8],  # 범위 축소\n",
    "    'colsample_bytree': [0.7, 0.8]  # 범위 축소\n",
    "}\n",
    "\n",
    "# RandomizedSearchCV 사용: 3-fold 교차 검증, ROC AUC 점수 기반 평가\n",
    "random_search = RandomizedSearchCV(estimator=lgbm, param_distributions=param_dist, n_iter=20, scoring='roc_auc', cv=3, n_jobs=-1, verbose=1)\n",
    "\n",
    "# 훈련 데이터로 최적 하이퍼파라미터 탐색\n",
    "random_search.fit(X_train, y_train)\n",
    "\n",
    "# 최적 하이퍼파라미터 출력\n",
    "print(f\"Best parameters: {random_search.best_params_}\")\n",
    "\n",
    "# 최적 모델을 이용한 예측\n",
    "best_model = random_search.best_estimator_\n",
    "y_pred = best_model.predict(X_test)\n",
    "\n",
    "# ROC AUC 점수 출력\n",
    "roc_auc = roc_auc_score(y_test, best_model.predict_proba(X_test)[:, 1])\n",
    "print(f\"ROC AUC Score for the best model: {roc_auc:.4f}\")\n",
    "\n",
    "# 각 하이퍼파라미터 조합에 대한 ROC AUC 점수 출력\n",
    "print(\"\\nAll evaluated parameters and their ROC AUC scores:\")\n",
    "for mean_score, params in zip(random_search.cv_results_['mean_test_score'], random_search.cv_results_['params']):\n",
    "    print(f\"ROC AUC: {mean_score:.4f} | Parameters: {params}\")\n",
    "\"\"\""
   ]
  },
  {
   "cell_type": "code",
   "execution_count": 362,
   "id": "b9090940-624d-47d2-924a-fd61c743ffcd",
   "metadata": {},
   "outputs": [
    {
     "name": "stdout",
     "output_type": "stream",
     "text": [
      "[LightGBM] [Warning] Found whitespace in feature_names, replace with underlines\n",
      "[LightGBM] [Info] Number of positive: 53102, number of negative: 151978\n",
      "[LightGBM] [Info] Auto-choosing row-wise multi-threading, the overhead of testing was 0.145712 seconds.\n",
      "You can set `force_row_wise=true` to remove the overhead.\n",
      "And if memory is not enough, you can set `force_col_wise=true`.\n",
      "[LightGBM] [Info] Total Bins 645\n",
      "[LightGBM] [Info] Number of data points in the train set: 205080, number of used features: 56\n",
      "[LightGBM] [Info] [binary:BoostFromScore]: pavg=0.258933 -> initscore=-1.051521\n",
      "[LightGBM] [Info] Start training from score -1.051521\n",
      "Accuracy: 0.7478\n",
      "F1 Score: 0.1792\n",
      "ROC AUC Score: 0.7376\n"
     ]
    }
   ],
   "source": [
    "# LightGBM 모델 정의 및 학습\n",
    "model = LGBMClassifier(n_estimators=100, learning_rate=0.1, random_state=42)\n",
    "model.fit(X_train, y_train)\n",
    "\n",
    "# 예측\n",
    "y_pred = model.predict(X_test)\n",
    "y_pred_proba = model.predict_proba(X_test)[:, 1]  # ROC AUC 평가를 위한 확률값\n",
    "\n",
    "# 성능 평가\n",
    "accuracy = accuracy_score(y_test, y_pred)\n",
    "f1 = f1_score(y_test, y_pred)\n",
    "roc_auc = roc_auc_score(y_test, y_pred_proba)\n",
    "\n",
    "# 결과 출력\n",
    "print(f\"Accuracy: {accuracy:.4f}\")\n",
    "print(f\"F1 Score: {f1:.4f}\")\n",
    "print(f\"ROC AUC Score: {roc_auc:.4f}\")"
   ]
  },
  {
   "cell_type": "code",
   "execution_count": 363,
   "id": "de45423d-9798-45c9-8ee0-a8934fdf0a63",
   "metadata": {},
   "outputs": [],
   "source": [
    "a=pd.read_csv('../data/sample_submission.csv')"
   ]
  },
  {
   "cell_type": "code",
   "execution_count": 369,
   "id": "fc7a2311-d5af-443f-9595-e6867264059c",
   "metadata": {},
   "outputs": [],
   "source": [
    "pred = model.predict_proba(test)[:, 1]  # 클래스 1(임신 성공) 확률만 선택\n",
    "a['probability'] = pred\n",
    "a.to_csv('prediction3.csv', index=False)"
   ]
  },
  {
   "cell_type": "code",
   "execution_count": 371,
   "id": "35c165b9-2280-4887-ab1b-d7947c69afb3",
   "metadata": {},
   "outputs": [
    {
     "name": "stdout",
     "output_type": "stream",
     "text": [
      "[LightGBM] [Warning] Found whitespace in feature_names, replace with underlines\n",
      "[LightGBM] [Info] Number of positive: 53102, number of negative: 151978\n",
      "[LightGBM] [Info] Auto-choosing row-wise multi-threading, the overhead of testing was 0.084127 seconds.\n",
      "You can set `force_row_wise=true` to remove the overhead.\n",
      "And if memory is not enough, you can set `force_col_wise=true`.\n",
      "[LightGBM] [Info] Total Bins 645\n",
      "[LightGBM] [Info] Number of data points in the train set: 205080, number of used features: 56\n",
      "[LightGBM] [Info] [binary:BoostFromScore]: pavg=0.258933 -> initscore=-1.051521\n",
      "[LightGBM] [Info] Start training from score -1.051521\n",
      "[LightGBM] [Warning] No further splits with positive gain, best gain: -inf\n",
      "[LightGBM] [Warning] No further splits with positive gain, best gain: -inf\n",
      "[LightGBM] [Warning] No further splits with positive gain, best gain: -inf\n",
      "[LightGBM] [Warning] No further splits with positive gain, best gain: -inf\n",
      "[LightGBM] [Warning] No further splits with positive gain, best gain: -inf\n",
      "[LightGBM] [Warning] No further splits with positive gain, best gain: -inf\n",
      "[LightGBM] [Warning] No further splits with positive gain, best gain: -inf\n",
      "[LightGBM] [Warning] No further splits with positive gain, best gain: -inf\n",
      "[LightGBM] [Warning] No further splits with positive gain, best gain: -inf\n",
      "[LightGBM] [Warning] No further splits with positive gain, best gain: -inf\n",
      "[LightGBM] [Warning] No further splits with positive gain, best gain: -inf\n",
      "[LightGBM] [Warning] No further splits with positive gain, best gain: -inf\n",
      "[LightGBM] [Warning] No further splits with positive gain, best gain: -inf\n",
      "[LightGBM] [Warning] No further splits with positive gain, best gain: -inf\n",
      "[LightGBM] [Warning] No further splits with positive gain, best gain: -inf\n",
      "[LightGBM] [Warning] No further splits with positive gain, best gain: -inf\n",
      "[LightGBM] [Warning] No further splits with positive gain, best gain: -inf\n",
      "[LightGBM] [Warning] No further splits with positive gain, best gain: -inf\n",
      "[LightGBM] [Warning] No further splits with positive gain, best gain: -inf\n",
      "[LightGBM] [Warning] No further splits with positive gain, best gain: -inf\n",
      "[LightGBM] [Warning] No further splits with positive gain, best gain: -inf\n",
      "[LightGBM] [Warning] No further splits with positive gain, best gain: -inf\n",
      "[LightGBM] [Warning] No further splits with positive gain, best gain: -inf\n",
      "[LightGBM] [Warning] No further splits with positive gain, best gain: -inf\n",
      "[LightGBM] [Warning] No further splits with positive gain, best gain: -inf\n",
      "[LightGBM] [Warning] No further splits with positive gain, best gain: -inf\n",
      "[LightGBM] [Warning] No further splits with positive gain, best gain: -inf\n",
      "[LightGBM] [Warning] No further splits with positive gain, best gain: -inf\n",
      "[LightGBM] [Warning] No further splits with positive gain, best gain: -inf\n",
      "[LightGBM] [Warning] No further splits with positive gain, best gain: -inf\n",
      "[LightGBM] [Warning] No further splits with positive gain, best gain: -inf\n",
      "[LightGBM] [Warning] No further splits with positive gain, best gain: -inf\n",
      "[LightGBM] [Warning] No further splits with positive gain, best gain: -inf\n",
      "[LightGBM] [Warning] No further splits with positive gain, best gain: -inf\n",
      "[LightGBM] [Warning] No further splits with positive gain, best gain: -inf\n",
      "[LightGBM] [Warning] No further splits with positive gain, best gain: -inf\n",
      "[LightGBM] [Warning] No further splits with positive gain, best gain: -inf\n",
      "[LightGBM] [Warning] No further splits with positive gain, best gain: -inf\n",
      "[LightGBM] [Warning] No further splits with positive gain, best gain: -inf\n",
      "[LightGBM] [Warning] No further splits with positive gain, best gain: -inf\n",
      "[LightGBM] [Warning] No further splits with positive gain, best gain: -inf\n",
      "[LightGBM] [Warning] No further splits with positive gain, best gain: -inf\n",
      "[LightGBM] [Warning] No further splits with positive gain, best gain: -inf\n",
      "[LightGBM] [Warning] No further splits with positive gain, best gain: -inf\n",
      "[LightGBM] [Warning] No further splits with positive gain, best gain: -inf\n",
      "[LightGBM] [Warning] No further splits with positive gain, best gain: -inf\n",
      "[LightGBM] [Warning] No further splits with positive gain, best gain: -inf\n",
      "[LightGBM] [Warning] No further splits with positive gain, best gain: -inf\n",
      "[LightGBM] [Warning] No further splits with positive gain, best gain: -inf\n",
      "[LightGBM] [Warning] No further splits with positive gain, best gain: -inf\n",
      "[LightGBM] [Warning] No further splits with positive gain, best gain: -inf\n",
      "[LightGBM] [Warning] No further splits with positive gain, best gain: -inf\n",
      "[LightGBM] [Warning] No further splits with positive gain, best gain: -inf\n",
      "[LightGBM] [Warning] No further splits with positive gain, best gain: -inf\n",
      "[LightGBM] [Warning] No further splits with positive gain, best gain: -inf\n",
      "[LightGBM] [Warning] No further splits with positive gain, best gain: -inf\n",
      "[LightGBM] [Warning] No further splits with positive gain, best gain: -inf\n",
      "[LightGBM] [Warning] No further splits with positive gain, best gain: -inf\n",
      "[LightGBM] [Warning] No further splits with positive gain, best gain: -inf\n",
      "[LightGBM] [Warning] No further splits with positive gain, best gain: -inf\n",
      "[LightGBM] [Warning] No further splits with positive gain, best gain: -inf\n",
      "[LightGBM] [Warning] No further splits with positive gain, best gain: -inf\n",
      "[LightGBM] [Warning] No further splits with positive gain, best gain: -inf\n",
      "[LightGBM] [Warning] No further splits with positive gain, best gain: -inf\n",
      "[LightGBM] [Warning] No further splits with positive gain, best gain: -inf\n",
      "[LightGBM] [Warning] No further splits with positive gain, best gain: -inf\n",
      "[LightGBM] [Warning] No further splits with positive gain, best gain: -inf\n",
      "[LightGBM] [Warning] No further splits with positive gain, best gain: -inf\n",
      "[LightGBM] [Warning] No further splits with positive gain, best gain: -inf\n",
      "[LightGBM] [Warning] No further splits with positive gain, best gain: -inf\n",
      "[LightGBM] [Warning] No further splits with positive gain, best gain: -inf\n",
      "[LightGBM] [Warning] No further splits with positive gain, best gain: -inf\n",
      "[LightGBM] [Warning] No further splits with positive gain, best gain: -inf\n",
      "[LightGBM] [Warning] No further splits with positive gain, best gain: -inf\n",
      "[LightGBM] [Warning] No further splits with positive gain, best gain: -inf\n",
      "[LightGBM] [Warning] No further splits with positive gain, best gain: -inf\n",
      "[LightGBM] [Warning] No further splits with positive gain, best gain: -inf\n",
      "[LightGBM] [Warning] No further splits with positive gain, best gain: -inf\n",
      "[LightGBM] [Warning] No further splits with positive gain, best gain: -inf\n",
      "[LightGBM] [Warning] No further splits with positive gain, best gain: -inf\n",
      "[LightGBM] [Warning] No further splits with positive gain, best gain: -inf\n",
      "[LightGBM] [Warning] No further splits with positive gain, best gain: -inf\n",
      "[LightGBM] [Warning] No further splits with positive gain, best gain: -inf\n",
      "[LightGBM] [Warning] No further splits with positive gain, best gain: -inf\n",
      "[LightGBM] [Warning] No further splits with positive gain, best gain: -inf\n",
      "[LightGBM] [Warning] No further splits with positive gain, best gain: -inf\n",
      "[LightGBM] [Warning] No further splits with positive gain, best gain: -inf\n",
      "[LightGBM] [Warning] No further splits with positive gain, best gain: -inf\n",
      "[LightGBM] [Warning] No further splits with positive gain, best gain: -inf\n",
      "[LightGBM] [Warning] No further splits with positive gain, best gain: -inf\n",
      "[LightGBM] [Warning] No further splits with positive gain, best gain: -inf\n",
      "[LightGBM] [Warning] No further splits with positive gain, best gain: -inf\n",
      "[LightGBM] [Warning] No further splits with positive gain, best gain: -inf\n",
      "[LightGBM] [Warning] No further splits with positive gain, best gain: -inf\n",
      "[LightGBM] [Warning] No further splits with positive gain, best gain: -inf\n",
      "[LightGBM] [Warning] No further splits with positive gain, best gain: -inf\n",
      "[LightGBM] [Warning] No further splits with positive gain, best gain: -inf\n",
      "[LightGBM] [Warning] No further splits with positive gain, best gain: -inf\n",
      "[LightGBM] [Warning] No further splits with positive gain, best gain: -inf\n",
      "[LightGBM] [Warning] No further splits with positive gain, best gain: -inf\n",
      "[LightGBM] [Warning] No further splits with positive gain, best gain: -inf\n",
      "[LightGBM] [Warning] No further splits with positive gain, best gain: -inf\n",
      "[LightGBM] [Warning] No further splits with positive gain, best gain: -inf\n",
      "[LightGBM] [Warning] No further splits with positive gain, best gain: -inf\n",
      "[LightGBM] [Warning] No further splits with positive gain, best gain: -inf\n",
      "[LightGBM] [Warning] No further splits with positive gain, best gain: -inf\n",
      "[LightGBM] [Warning] No further splits with positive gain, best gain: -inf\n",
      "[LightGBM] [Warning] No further splits with positive gain, best gain: -inf\n",
      "[LightGBM] [Warning] No further splits with positive gain, best gain: -inf\n",
      "[LightGBM] [Warning] No further splits with positive gain, best gain: -inf\n",
      "[LightGBM] [Warning] No further splits with positive gain, best gain: -inf\n",
      "[LightGBM] [Warning] No further splits with positive gain, best gain: -inf\n",
      "[LightGBM] [Warning] No further splits with positive gain, best gain: -inf\n",
      "[LightGBM] [Warning] No further splits with positive gain, best gain: -inf\n",
      "[LightGBM] [Warning] No further splits with positive gain, best gain: -inf\n",
      "[LightGBM] [Warning] No further splits with positive gain, best gain: -inf\n",
      "[LightGBM] [Warning] No further splits with positive gain, best gain: -inf\n",
      "[LightGBM] [Warning] No further splits with positive gain, best gain: -inf\n",
      "[LightGBM] [Warning] No further splits with positive gain, best gain: -inf\n",
      "[LightGBM] [Warning] No further splits with positive gain, best gain: -inf\n",
      "[LightGBM] [Warning] No further splits with positive gain, best gain: -inf\n",
      "[LightGBM] [Warning] No further splits with positive gain, best gain: -inf\n",
      "[LightGBM] [Warning] No further splits with positive gain, best gain: -inf\n",
      "[LightGBM] [Warning] No further splits with positive gain, best gain: -inf\n",
      "[LightGBM] [Warning] No further splits with positive gain, best gain: -inf\n",
      "[LightGBM] [Warning] No further splits with positive gain, best gain: -inf\n",
      "[LightGBM] [Warning] No further splits with positive gain, best gain: -inf\n",
      "[LightGBM] [Warning] No further splits with positive gain, best gain: -inf\n",
      "[LightGBM] [Warning] No further splits with positive gain, best gain: -inf\n",
      "[LightGBM] [Warning] No further splits with positive gain, best gain: -inf\n",
      "[LightGBM] [Warning] No further splits with positive gain, best gain: -inf\n",
      "[LightGBM] [Warning] No further splits with positive gain, best gain: -inf\n",
      "[LightGBM] [Warning] No further splits with positive gain, best gain: -inf\n",
      "[LightGBM] [Warning] No further splits with positive gain, best gain: -inf\n",
      "[LightGBM] [Warning] No further splits with positive gain, best gain: -inf\n",
      "[LightGBM] [Warning] No further splits with positive gain, best gain: -inf\n",
      "[LightGBM] [Warning] No further splits with positive gain, best gain: -inf\n",
      "[LightGBM] [Warning] No further splits with positive gain, best gain: -inf\n",
      "[LightGBM] [Warning] No further splits with positive gain, best gain: -inf\n",
      "[LightGBM] [Warning] No further splits with positive gain, best gain: -inf\n",
      "ROC AUC Score: 0.7379\n",
      "Accuracy: 0.7476\n",
      "              precision    recall  f1-score   support\n",
      "\n",
      "           0       0.76      0.97      0.85     38145\n",
      "           1       0.54      0.11      0.18     13126\n",
      "\n",
      "    accuracy                           0.75     51271\n",
      "   macro avg       0.65      0.54      0.51     51271\n",
      "weighted avg       0.70      0.75      0.68     51271\n",
      "\n"
     ]
    }
   ],
   "source": [
    "from lightgbm import LGBMClassifier\n",
    "from sklearn.metrics import roc_auc_score\n",
    "\n",
    "# 주어진 하이퍼파라미터로 LGBMClassifier 모델 정의\n",
    "lgbm_model = LGBMClassifier(\n",
    "    subsample=0.7,\n",
    "    num_leaves=31,\n",
    "    n_estimators=200,\n",
    "    max_depth=5,\n",
    "    learning_rate=0.05,\n",
    "    colsample_bytree=0.8\n",
    ")\n",
    "\n",
    "# 모델 훈련\n",
    "lgbm_model.fit(X_train, y_train)\n",
    "\n",
    "# 예측\n",
    "y_pred = lgbm_model.predict(X_test)\n",
    "y_pred_proba = lgbm_model.predict_proba(X_test)[:, 1]  # ROC AUC를 위해 확률값 추출\n",
    "\n",
    "# ROC AUC 점수 출력\n",
    "roc_auc = roc_auc_score(y_test, y_pred_proba)\n",
    "print(f\"ROC AUC Score: {roc_auc:.4f}\")\n",
    "\n",
    "# 추가적인 성능 평가 (예: accuracy, precision, recall, f1-score 등)\n",
    "from sklearn.metrics import classification_report, accuracy_score\n",
    "print(f\"Accuracy: {accuracy_score(y_test, y_pred):.4f}\")\n",
    "print(classification_report(y_test, y_pred))\n"
   ]
  },
  {
   "cell_type": "code",
   "execution_count": 373,
   "id": "d736c18d-70e8-4ea9-b87e-8947a9b2bdd8",
   "metadata": {},
   "outputs": [],
   "source": [
    "pred2 = lgbm_model.predict_proba(test)[:, 1] \n",
    "a['probability'] = pred2"
   ]
  },
  {
   "cell_type": "code",
   "execution_count": 375,
   "id": "b48ca4cc-4c6d-40dc-8b83-e81937eb87c9",
   "metadata": {},
   "outputs": [],
   "source": [
    "a.to_csv('prediction2.csv', index=False)\n"
   ]
  },
  {
   "cell_type": "code",
   "execution_count": null,
   "id": "25b29808-847b-4e9e-82a1-dfc32c674efc",
   "metadata": {},
   "outputs": [],
   "source": []
  }
 ],
 "metadata": {
  "kernelspec": {
   "display_name": "Python 3.10 (venv_310)",
   "language": "python",
   "name": "python310"
  },
  "language_info": {
   "codemirror_mode": {
    "name": "ipython",
    "version": 3
   },
   "file_extension": ".py",
   "mimetype": "text/x-python",
   "name": "python",
   "nbconvert_exporter": "python",
   "pygments_lexer": "ipython3",
   "version": "3.10.0"
  }
 },
 "nbformat": 4,
 "nbformat_minor": 5
}
