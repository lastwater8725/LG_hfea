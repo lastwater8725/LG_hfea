{
 "cells": [
  {
   "cell_type": "code",
   "execution_count": 140,
   "id": "912d5db8-07bb-47b6-a155-52745abfd708",
   "metadata": {},
   "outputs": [],
   "source": [
    "import pandas as pd\n",
    "import numpy as np\n",
    "import seaborn as sns \n",
    "import matplotlib.pyplot as plt "
   ]
  },
  {
   "cell_type": "code",
   "execution_count": 141,
   "id": "53d30088-ed35-46d2-b8c1-4627acb6cb85",
   "metadata": {},
   "outputs": [],
   "source": [
    "import matplotlib.pyplot as plt\n",
    "from matplotlib import rc\n",
    "\n",
    "# 한글 폰트 설정 (예: 맑은 고딕)\n",
    "rc('font', family='Malgun Gothic')\n",
    "\n",
    "# 음수 기호 설정 (한글 폰트와 함께 깨지지 않도록 처리)\n",
    "plt.rcParams['axes.unicode_minus'] = False"
   ]
  },
  {
   "cell_type": "code",
   "execution_count": 142,
   "id": "51020da8-1bb9-46d0-b11f-59e4fc3e8313",
   "metadata": {},
   "outputs": [],
   "source": [
    "train=pd.read_csv(\"./data/train.csv\")\n",
    "test=pd.read_csv('./data/test.csv')"
   ]
  },
  {
   "cell_type": "markdown",
   "id": "114e768c-ffed-4918-b9d3-cac77bc211ea",
   "metadata": {},
   "source": [
    "### 1. 시술 시기 코드"
   ]
  },
  {
   "cell_type": "code",
   "execution_count": 144,
   "id": "67e875c3-9e21-4afd-b67d-4f7635230e6b",
   "metadata": {},
   "outputs": [
    {
     "data": {
      "text/plain": [
       "시술 시기 코드\n",
       "TRDQAZ    38969\n",
       "TRCMWS    38090\n",
       "TRYBLT    36713\n",
       "TRVNRY    36173\n",
       "TRJXFG    36031\n",
       "TRZKPL    35544\n",
       "TRXQMD    34831\n",
       "Name: count, dtype: int64"
      ]
     },
     "execution_count": 144,
     "metadata": {},
     "output_type": "execute_result"
    }
   ],
   "source": [
    "train['시술 시기 코드'].value_counts()"
   ]
  },
  {
   "cell_type": "code",
   "execution_count": 145,
   "id": "f4fad8bf-3f2a-4858-a922-44c8a3adc28e",
   "metadata": {},
   "outputs": [
    {
     "data": {
      "text/plain": [
       "시술 시기 코드\n",
       "TRDQAZ    13610\n",
       "TRCMWS    13392\n",
       "TRYBLT    12929\n",
       "TRZKPL    12793\n",
       "TRJXFG    12764\n",
       "TRVNRY    12560\n",
       "TRXQMD    12019\n",
       "Name: count, dtype: int64"
      ]
     },
     "execution_count": 145,
     "metadata": {},
     "output_type": "execute_result"
    }
   ],
   "source": [
    "test['시술 시기 코드'].value_counts()"
   ]
  },
  {
   "cell_type": "code",
   "execution_count": 146,
   "id": "90ee65a5-2f31-4aeb-86a0-2df1c5c298fe",
   "metadata": {},
   "outputs": [
    {
     "data": {
      "text/html": [
       "<div>\n",
       "<style scoped>\n",
       "    .dataframe tbody tr th:only-of-type {\n",
       "        vertical-align: middle;\n",
       "    }\n",
       "\n",
       "    .dataframe tbody tr th {\n",
       "        vertical-align: top;\n",
       "    }\n",
       "\n",
       "    .dataframe thead th {\n",
       "        text-align: right;\n",
       "    }\n",
       "</style>\n",
       "<table border=\"1\" class=\"dataframe\">\n",
       "  <thead>\n",
       "    <tr style=\"text-align: right;\">\n",
       "      <th>임신 성공 여부</th>\n",
       "      <th>0</th>\n",
       "      <th>1</th>\n",
       "      <th>All</th>\n",
       "      <th>0</th>\n",
       "      <th>1</th>\n",
       "    </tr>\n",
       "    <tr>\n",
       "      <th>시술 시기 코드</th>\n",
       "      <th></th>\n",
       "      <th></th>\n",
       "      <th></th>\n",
       "      <th></th>\n",
       "      <th></th>\n",
       "    </tr>\n",
       "  </thead>\n",
       "  <tbody>\n",
       "    <tr>\n",
       "      <th>TRCMWS</th>\n",
       "      <td>28285</td>\n",
       "      <td>9805</td>\n",
       "      <td>38090</td>\n",
       "      <td>0.742583</td>\n",
       "      <td>0.257417</td>\n",
       "    </tr>\n",
       "    <tr>\n",
       "      <th>TRDQAZ</th>\n",
       "      <td>29405</td>\n",
       "      <td>9564</td>\n",
       "      <td>38969</td>\n",
       "      <td>0.754574</td>\n",
       "      <td>0.245426</td>\n",
       "    </tr>\n",
       "    <tr>\n",
       "      <th>TRJXFG</th>\n",
       "      <td>26437</td>\n",
       "      <td>9594</td>\n",
       "      <td>36031</td>\n",
       "      <td>0.733729</td>\n",
       "      <td>0.266271</td>\n",
       "    </tr>\n",
       "    <tr>\n",
       "      <th>TRVNRY</th>\n",
       "      <td>26776</td>\n",
       "      <td>9397</td>\n",
       "      <td>36173</td>\n",
       "      <td>0.740221</td>\n",
       "      <td>0.259779</td>\n",
       "    </tr>\n",
       "    <tr>\n",
       "      <th>TRXQMD</th>\n",
       "      <td>25910</td>\n",
       "      <td>8921</td>\n",
       "      <td>34831</td>\n",
       "      <td>0.743878</td>\n",
       "      <td>0.256122</td>\n",
       "    </tr>\n",
       "    <tr>\n",
       "      <th>TRYBLT</th>\n",
       "      <td>26834</td>\n",
       "      <td>9879</td>\n",
       "      <td>36713</td>\n",
       "      <td>0.730913</td>\n",
       "      <td>0.269087</td>\n",
       "    </tr>\n",
       "    <tr>\n",
       "      <th>TRZKPL</th>\n",
       "      <td>26476</td>\n",
       "      <td>9068</td>\n",
       "      <td>35544</td>\n",
       "      <td>0.744880</td>\n",
       "      <td>0.255120</td>\n",
       "    </tr>\n",
       "    <tr>\n",
       "      <th>All</th>\n",
       "      <td>190123</td>\n",
       "      <td>66228</td>\n",
       "      <td>256351</td>\n",
       "      <td>NaN</td>\n",
       "      <td>NaN</td>\n",
       "    </tr>\n",
       "  </tbody>\n",
       "</table>\n",
       "</div>"
      ],
      "text/plain": [
       "임신 성공 여부       0      1     All         0         1\n",
       "시술 시기 코드                                           \n",
       "TRCMWS     28285   9805   38090  0.742583  0.257417\n",
       "TRDQAZ     29405   9564   38969  0.754574  0.245426\n",
       "TRJXFG     26437   9594   36031  0.733729  0.266271\n",
       "TRVNRY     26776   9397   36173  0.740221  0.259779\n",
       "TRXQMD     25910   8921   34831  0.743878  0.256122\n",
       "TRYBLT     26834   9879   36713  0.730913  0.269087\n",
       "TRZKPL     26476   9068   35544  0.744880  0.255120\n",
       "All       190123  66228  256351       NaN       NaN"
      ]
     },
     "execution_count": 146,
     "metadata": {},
     "output_type": "execute_result"
    }
   ],
   "source": [
    "a=pd.crosstab(train['시술 시기 코드'], train['임신 성공 여부'],margins=True)\n",
    "b=pd.crosstab(train['시술 시기 코드'], train['임신 성공 여부'], normalize='index')\n",
    "pd.concat([a,b],axis=True)"
   ]
  },
  {
   "cell_type": "markdown",
   "id": "a0de83b3-54ae-44ef-84f4-25c025e20d8a",
   "metadata": {},
   "source": [
    "각 시술 시기 별 데이터의 개수가 유사하며, 임신 성공 확률 역시 비교적 유사하게 나타남. ->원-핫 인코딩"
   ]
  },
  {
   "cell_type": "markdown",
   "id": "7e636540-edec-43ca-93f5-7a032a99cec1",
   "metadata": {},
   "source": [
    "### 2. 시술 당시 나이"
   ]
  },
  {
   "cell_type": "code",
   "execution_count": 149,
   "id": "38b809c8-e2d3-400e-9c4c-165edf038a44",
   "metadata": {},
   "outputs": [
    {
     "data": {
      "text/plain": [
       "시술 당시 나이\n",
       "만18-34세    102476\n",
       "만35-37세     57780\n",
       "만38-39세     39247\n",
       "만40-42세     37348\n",
       "만43-44세     12253\n",
       "만45-50세      6918\n",
       "알 수 없음        329\n",
       "Name: count, dtype: int64"
      ]
     },
     "execution_count": 149,
     "metadata": {},
     "output_type": "execute_result"
    }
   ],
   "source": [
    "train['시술 당시 나이'].value_counts()"
   ]
  },
  {
   "cell_type": "code",
   "execution_count": 150,
   "id": "e929f0ab-cabd-4296-8fcb-f657aad4074a",
   "metadata": {},
   "outputs": [
    {
     "data": {
      "text/html": [
       "<div>\n",
       "<style scoped>\n",
       "    .dataframe tbody tr th:only-of-type {\n",
       "        vertical-align: middle;\n",
       "    }\n",
       "\n",
       "    .dataframe tbody tr th {\n",
       "        vertical-align: top;\n",
       "    }\n",
       "\n",
       "    .dataframe thead th {\n",
       "        text-align: right;\n",
       "    }\n",
       "</style>\n",
       "<table border=\"1\" class=\"dataframe\">\n",
       "  <thead>\n",
       "    <tr style=\"text-align: right;\">\n",
       "      <th>임신 성공 여부</th>\n",
       "      <th>0</th>\n",
       "      <th>1</th>\n",
       "      <th>All</th>\n",
       "      <th>0</th>\n",
       "      <th>1</th>\n",
       "    </tr>\n",
       "    <tr>\n",
       "      <th>시술 당시 나이</th>\n",
       "      <th></th>\n",
       "      <th></th>\n",
       "      <th></th>\n",
       "      <th></th>\n",
       "      <th></th>\n",
       "    </tr>\n",
       "  </thead>\n",
       "  <tbody>\n",
       "    <tr>\n",
       "      <th>만18-34세</th>\n",
       "      <td>69415</td>\n",
       "      <td>33061</td>\n",
       "      <td>102476</td>\n",
       "      <td>0.677378</td>\n",
       "      <td>0.322622</td>\n",
       "    </tr>\n",
       "    <tr>\n",
       "      <th>만35-37세</th>\n",
       "      <td>41694</td>\n",
       "      <td>16086</td>\n",
       "      <td>57780</td>\n",
       "      <td>0.721599</td>\n",
       "      <td>0.278401</td>\n",
       "    </tr>\n",
       "    <tr>\n",
       "      <th>만38-39세</th>\n",
       "      <td>30725</td>\n",
       "      <td>8522</td>\n",
       "      <td>39247</td>\n",
       "      <td>0.782862</td>\n",
       "      <td>0.217138</td>\n",
       "    </tr>\n",
       "    <tr>\n",
       "      <th>만40-42세</th>\n",
       "      <td>31395</td>\n",
       "      <td>5953</td>\n",
       "      <td>37348</td>\n",
       "      <td>0.840607</td>\n",
       "      <td>0.159393</td>\n",
       "    </tr>\n",
       "    <tr>\n",
       "      <th>만43-44세</th>\n",
       "      <td>10807</td>\n",
       "      <td>1446</td>\n",
       "      <td>12253</td>\n",
       "      <td>0.881988</td>\n",
       "      <td>0.118012</td>\n",
       "    </tr>\n",
       "    <tr>\n",
       "      <th>만45-50세</th>\n",
       "      <td>5758</td>\n",
       "      <td>1160</td>\n",
       "      <td>6918</td>\n",
       "      <td>0.832321</td>\n",
       "      <td>0.167679</td>\n",
       "    </tr>\n",
       "    <tr>\n",
       "      <th>알 수 없음</th>\n",
       "      <td>329</td>\n",
       "      <td>0</td>\n",
       "      <td>329</td>\n",
       "      <td>1.000000</td>\n",
       "      <td>0.000000</td>\n",
       "    </tr>\n",
       "    <tr>\n",
       "      <th>All</th>\n",
       "      <td>190123</td>\n",
       "      <td>66228</td>\n",
       "      <td>256351</td>\n",
       "      <td>NaN</td>\n",
       "      <td>NaN</td>\n",
       "    </tr>\n",
       "  </tbody>\n",
       "</table>\n",
       "</div>"
      ],
      "text/plain": [
       "임신 성공 여부       0      1     All         0         1\n",
       "시술 당시 나이                                           \n",
       "만18-34세    69415  33061  102476  0.677378  0.322622\n",
       "만35-37세    41694  16086   57780  0.721599  0.278401\n",
       "만38-39세    30725   8522   39247  0.782862  0.217138\n",
       "만40-42세    31395   5953   37348  0.840607  0.159393\n",
       "만43-44세    10807   1446   12253  0.881988  0.118012\n",
       "만45-50세     5758   1160    6918  0.832321  0.167679\n",
       "알 수 없음       329      0     329  1.000000  0.000000\n",
       "All       190123  66228  256351       NaN       NaN"
      ]
     },
     "execution_count": 150,
     "metadata": {},
     "output_type": "execute_result"
    }
   ],
   "source": [
    "a=pd.crosstab(train['시술 당시 나이'], train['임신 성공 여부'],margins=True)\n",
    "b=pd.crosstab(train['시술 당시 나이'], train['임신 성공 여부'], normalize='index')\n",
    "pd.concat([a,b],axis=True)"
   ]
  },
  {
   "cell_type": "markdown",
   "id": "4aa15cbd-dbdd-401c-80f0-463dd25d89c9",
   "metadata": {},
   "source": [
    "null값이 존재하진 않으나 대신 '알 수 없음'이라는 값으로 대체 되어 있음. 이 데이터는 임신 성공 확률이 0에 가까우므로, 최빈값이 아닌,\n",
    "임신 성공률이 제일 낮은 만 43-44세로 대체"
   ]
  },
  {
   "cell_type": "code",
   "execution_count": 152,
   "id": "d97b4393-8c44-4f80-811d-477696f90608",
   "metadata": {},
   "outputs": [],
   "source": [
    "train.loc[train['시술 당시 나이'] == '알 수 없음', '시술 당시 나이'] = '만 43-44세'\n"
   ]
  },
  {
   "cell_type": "code",
   "execution_count": 153,
   "id": "75f1f9a7-6563-44c6-9964-63a436b215d3",
   "metadata": {},
   "outputs": [
    {
     "data": {
      "text/plain": [
       "시술 당시 나이\n",
       "만18-34세    36178\n",
       "만35-37세    20211\n",
       "만38-39세    13611\n",
       "만40-42세    13266\n",
       "만43-44세     4272\n",
       "만45-50세     2413\n",
       "알 수 없음       116\n",
       "Name: count, dtype: int64"
      ]
     },
     "execution_count": 153,
     "metadata": {},
     "output_type": "execute_result"
    }
   ],
   "source": [
    "test['시술 당시 나이'].value_counts()"
   ]
  },
  {
   "cell_type": "code",
   "execution_count": 154,
   "id": "34b8d1d8-7132-4e95-a8b1-e0bd871d0365",
   "metadata": {},
   "outputs": [],
   "source": [
    "test.loc[test['시술 당시 나이']=='알 수 없음', '시술 당시 나이']='만 43-44세'"
   ]
  },
  {
   "cell_type": "markdown",
   "id": "4b023e0a-a915-4049-91c1-3b52007081d6",
   "metadata": {},
   "source": [
    "나이는 라벨 인코딩 사용하기"
   ]
  },
  {
   "cell_type": "markdown",
   "id": "78f4d3f1-fcc3-46eb-956a-02aea92066d3",
   "metadata": {},
   "source": [
    "### 3. 임신 시도 또는 마지막 임신 경과 연수"
   ]
  },
  {
   "cell_type": "code",
   "execution_count": 157,
   "id": "ac094b91-0e8c-42a9-a242-0aca76b40c83",
   "metadata": {},
   "outputs": [],
   "source": [
    "train.drop(columns='임신 시도 또는 마지막 임신 경과 연수', inplace=True)"
   ]
  },
  {
   "cell_type": "code",
   "execution_count": 158,
   "id": "8765dd4a-6e70-43ab-af87-76bac22b1c9f",
   "metadata": {},
   "outputs": [],
   "source": [
    "test.drop(columns='임신 시도 또는 마지막 임신 경과 연수', inplace=True)"
   ]
  },
  {
   "cell_type": "markdown",
   "id": "4d1442bc-619a-4738-97c4-635f435be6ee",
   "metadata": {},
   "source": [
    "존재하는 데이터에 비해 결측치가 훨씬 많으므로 삭제"
   ]
  },
  {
   "cell_type": "markdown",
   "id": "1f03d994-cf29-4159-925e-f8be41cac69b",
   "metadata": {},
   "source": [
    "### 4. 시술 유형"
   ]
  },
  {
   "cell_type": "code",
   "execution_count": 161,
   "id": "fca53100-dfe1-4df4-ac8e-0f356c31ab89",
   "metadata": {},
   "outputs": [
    {
     "data": {
      "text/plain": [
       "시술 유형\n",
       "IVF    250060\n",
       "DI       6291\n",
       "Name: count, dtype: int64"
      ]
     },
     "execution_count": 161,
     "metadata": {},
     "output_type": "execute_result"
    }
   ],
   "source": [
    "train['시술 유형'].value_counts()"
   ]
  },
  {
   "cell_type": "code",
   "execution_count": 162,
   "id": "905c15f6-689d-424b-b3a1-d55d43f587b3",
   "metadata": {},
   "outputs": [
    {
     "data": {
      "text/plain": [
       "시술 유형\n",
       "IVF    87891\n",
       "DI      2176\n",
       "Name: count, dtype: int64"
      ]
     },
     "execution_count": 162,
     "metadata": {},
     "output_type": "execute_result"
    }
   ],
   "source": [
    "test['시술 유형'].value_counts()"
   ]
  },
  {
   "cell_type": "code",
   "execution_count": 163,
   "id": "1213fc89-79c8-491c-9cf7-a7f832d0bb37",
   "metadata": {},
   "outputs": [
    {
     "data": {
      "text/html": [
       "<div>\n",
       "<style scoped>\n",
       "    .dataframe tbody tr th:only-of-type {\n",
       "        vertical-align: middle;\n",
       "    }\n",
       "\n",
       "    .dataframe tbody tr th {\n",
       "        vertical-align: top;\n",
       "    }\n",
       "\n",
       "    .dataframe thead th {\n",
       "        text-align: right;\n",
       "    }\n",
       "</style>\n",
       "<table border=\"1\" class=\"dataframe\">\n",
       "  <thead>\n",
       "    <tr style=\"text-align: right;\">\n",
       "      <th>임신 성공 여부</th>\n",
       "      <th>0</th>\n",
       "      <th>1</th>\n",
       "      <th>All</th>\n",
       "      <th>0</th>\n",
       "      <th>1</th>\n",
       "    </tr>\n",
       "    <tr>\n",
       "      <th>시술 유형</th>\n",
       "      <th></th>\n",
       "      <th></th>\n",
       "      <th></th>\n",
       "      <th></th>\n",
       "      <th></th>\n",
       "    </tr>\n",
       "  </thead>\n",
       "  <tbody>\n",
       "    <tr>\n",
       "      <th>DI</th>\n",
       "      <td>5480</td>\n",
       "      <td>811</td>\n",
       "      <td>6291</td>\n",
       "      <td>0.871086</td>\n",
       "      <td>0.128914</td>\n",
       "    </tr>\n",
       "    <tr>\n",
       "      <th>IVF</th>\n",
       "      <td>184643</td>\n",
       "      <td>65417</td>\n",
       "      <td>250060</td>\n",
       "      <td>0.738395</td>\n",
       "      <td>0.261605</td>\n",
       "    </tr>\n",
       "    <tr>\n",
       "      <th>All</th>\n",
       "      <td>190123</td>\n",
       "      <td>66228</td>\n",
       "      <td>256351</td>\n",
       "      <td>NaN</td>\n",
       "      <td>NaN</td>\n",
       "    </tr>\n",
       "  </tbody>\n",
       "</table>\n",
       "</div>"
      ],
      "text/plain": [
       "임신 성공 여부       0      1     All         0         1\n",
       "시술 유형                                              \n",
       "DI          5480    811    6291  0.871086  0.128914\n",
       "IVF       184643  65417  250060  0.738395  0.261605\n",
       "All       190123  66228  256351       NaN       NaN"
      ]
     },
     "execution_count": 163,
     "metadata": {},
     "output_type": "execute_result"
    }
   ],
   "source": [
    "a=pd.crosstab(train['시술 유형'], train['임신 성공 여부'],margins=True)\n",
    "b=pd.crosstab(train['시술 유형'], train['임신 성공 여부'], normalize='index')\n",
    "pd.concat([a,b],axis=True)"
   ]
  },
  {
   "cell_type": "markdown",
   "id": "b175a423-d089-459d-baac-46f19c293fe1",
   "metadata": {},
   "source": [
    "얘는 원-핫"
   ]
  },
  {
   "cell_type": "markdown",
   "id": "5f4832d1-872a-4588-8a5f-27af8320e2ef",
   "metadata": {},
   "source": [
    "### 5. 특정 시술 유형"
   ]
  },
  {
   "cell_type": "code",
   "execution_count": 166,
   "id": "c05663d9-cf08-4174-b28f-8caa9e77f6a6",
   "metadata": {},
   "outputs": [
    {
     "data": {
      "text/plain": [
       "특정 시술 유형\n",
       "ICSI                                   122368\n",
       "IVF                                     91755\n",
       "Unknown                                 26939\n",
       "IUI                                      6100\n",
       "ICSI:ICSI                                2314\n",
       "ICSI / BLASTOCYST                        1609\n",
       "IVF / BLASTOCYST                         1248\n",
       "IVF:IVF                                  1146\n",
       "ICSI:IVF                                  873\n",
       "ICSI / AH                                 769\n",
       "IVF:ICSI                                  392\n",
       "IVF / AH                                  319\n",
       "ICSI:Unknown                              207\n",
       "IVF:Unknown                               100\n",
       "ICI                                        96\n",
       "Generic DI                                 71\n",
       "IVI                                        23\n",
       "ICSI / BLASTOCYST:IVF / BLASTOCYST          6\n",
       "ICSI / BLASTOCYST :IVF / BLASTOCYST         4\n",
       "FER                                         3\n",
       "IVF / AH:ICSI / AH                          2\n",
       "GIFT                                        2\n",
       "ICSI / AH:Unknown                           2\n",
       "ICSI / BLASTOCYST :ICSI                     1\n",
       "Name: count, dtype: int64"
      ]
     },
     "execution_count": 166,
     "metadata": {},
     "output_type": "execute_result"
    }
   ],
   "source": [
    "train['특정 시술 유형'].value_counts()"
   ]
  },
  {
   "cell_type": "code",
   "execution_count": 202,
   "id": "cf71a1cf-7e33-455b-875b-a88a63379323",
   "metadata": {},
   "outputs": [
    {
     "data": {
      "text/plain": [
       "특정 시술 유형\n",
       "ICSI                  125762\n",
       "IVF                    93393\n",
       "Unknown                26939\n",
       "IUI                     6100\n",
       "ICSI / BLASTOCYST       1614\n",
       "IVF / BLASTOCYST        1248\n",
       "ICSI / AH                771\n",
       "IVF / AH                 321\n",
       "기타                       201\n",
       "Name: count, dtype: int64"
      ]
     },
     "execution_count": 202,
     "metadata": {},
     "output_type": "execute_result"
    }
   ],
   "source": [
    "# \":\"가 포함된 경우, 첫 번째 값만 남기기 (float값이 있으면 그대로 두기)\n",
    "train['특정 시술 유형'] = train['특정 시술 유형'].apply(lambda x: x.split(':')[0] if isinstance(x, str) else x)\n",
    "\n",
    "# 결과 확인\n",
    "train['특정 시술 유형'].value_counts()\n"
   ]
  },
  {
   "cell_type": "code",
   "execution_count": 197,
   "id": "7277c1aa-0c6f-4b0f-888c-f84ca4a2f28c",
   "metadata": {},
   "outputs": [
    {
     "data": {
      "text/plain": [
       "특정 시술 유형\n",
       "ICSI                  44400\n",
       "IVF                   32931\n",
       "Unknown                9216\n",
       "IUI                    2114\n",
       "ICSI / BLASTOCYST       584\n",
       "IVF / BLASTOCYST        389\n",
       "ICSI / AH               264\n",
       "IVF / AH                105\n",
       "기타                       64\n",
       "Name: count, dtype: int64"
      ]
     },
     "execution_count": 197,
     "metadata": {},
     "output_type": "execute_result"
    }
   ],
   "source": [
    "# \":\"가 포함된 경우, 첫 번째 값만 남기기 (float값이 있으면 그대로 두기)\n",
    "test['특정 시술 유형'] = test['특정 시술 유형'].apply(lambda x: x.split(':')[0] if isinstance(x, str) else x)\n",
    "\n",
    "# 결과 확인\n",
    "test['특정 시술 유형'].value_counts()"
   ]
  },
  {
   "cell_type": "code",
   "execution_count": 199,
   "id": "0de7f3af-1e6b-43fc-b7c2-28e4b906fcf1",
   "metadata": {},
   "outputs": [],
   "source": [
    "train.loc[train['특정 시술 유형'].isin(['ICI', 'Generic DI', 'IVI', 'ICSI / BLASTOCYST','FER','GIFT']), '특정 시술 유형'] = '기타'\n"
   ]
  },
  {
   "cell_type": "code",
   "execution_count": 195,
   "id": "6b6c6a77-a799-421e-9ebb-61147f3fed8c",
   "metadata": {},
   "outputs": [],
   "source": [
    "test.loc[test['특정 시술 유형'].isin(['ICI', 'Generic DI', 'IVI', 'ICSI / BLASTOCYST']), '특정 시술 유형'] = '기타'\n"
   ]
  },
  {
   "cell_type": "markdown",
   "id": "c6ad3cde-4264-49ec-8317-89c7956fabec",
   "metadata": {},
   "source": [
    "세부 수술 정보 삭제 후 주요 수술 정보만 남김.\n",
    "\n",
    "100개 이하인 수술은 기타로 너무 많은 변수가 생기는 것 방지 \n",
    "\n",
    "-> 라벨 인코딩 하기"
   ]
  },
  {
   "cell_type": "code",
   "execution_count": 204,
   "id": "90d6b214-f92e-4faa-9932-a24c61b6ef01",
   "metadata": {},
   "outputs": [
    {
     "data": {
      "text/html": [
       "<div>\n",
       "<style scoped>\n",
       "    .dataframe tbody tr th:only-of-type {\n",
       "        vertical-align: middle;\n",
       "    }\n",
       "\n",
       "    .dataframe tbody tr th {\n",
       "        vertical-align: top;\n",
       "    }\n",
       "\n",
       "    .dataframe thead th {\n",
       "        text-align: right;\n",
       "    }\n",
       "</style>\n",
       "<table border=\"1\" class=\"dataframe\">\n",
       "  <thead>\n",
       "    <tr style=\"text-align: right;\">\n",
       "      <th>임신 성공 여부</th>\n",
       "      <th>0</th>\n",
       "      <th>1</th>\n",
       "      <th>All</th>\n",
       "      <th>0</th>\n",
       "      <th>1</th>\n",
       "    </tr>\n",
       "    <tr>\n",
       "      <th>특정 시술 유형</th>\n",
       "      <th></th>\n",
       "      <th></th>\n",
       "      <th></th>\n",
       "      <th></th>\n",
       "      <th></th>\n",
       "    </tr>\n",
       "  </thead>\n",
       "  <tbody>\n",
       "    <tr>\n",
       "      <th>ICSI</th>\n",
       "      <td>92128</td>\n",
       "      <td>33634</td>\n",
       "      <td>125762</td>\n",
       "      <td>0.732558</td>\n",
       "      <td>0.267442</td>\n",
       "    </tr>\n",
       "    <tr>\n",
       "      <th>ICSI / AH</th>\n",
       "      <td>603</td>\n",
       "      <td>168</td>\n",
       "      <td>771</td>\n",
       "      <td>0.782101</td>\n",
       "      <td>0.217899</td>\n",
       "    </tr>\n",
       "    <tr>\n",
       "      <th>ICSI / BLASTOCYST</th>\n",
       "      <td>1038</td>\n",
       "      <td>576</td>\n",
       "      <td>1614</td>\n",
       "      <td>0.643123</td>\n",
       "      <td>0.356877</td>\n",
       "    </tr>\n",
       "    <tr>\n",
       "      <th>IUI</th>\n",
       "      <td>5316</td>\n",
       "      <td>784</td>\n",
       "      <td>6100</td>\n",
       "      <td>0.871475</td>\n",
       "      <td>0.128525</td>\n",
       "    </tr>\n",
       "    <tr>\n",
       "      <th>IVF</th>\n",
       "      <td>69263</td>\n",
       "      <td>24130</td>\n",
       "      <td>93393</td>\n",
       "      <td>0.741629</td>\n",
       "      <td>0.258371</td>\n",
       "    </tr>\n",
       "    <tr>\n",
       "      <th>IVF / AH</th>\n",
       "      <td>262</td>\n",
       "      <td>59</td>\n",
       "      <td>321</td>\n",
       "      <td>0.816199</td>\n",
       "      <td>0.183801</td>\n",
       "    </tr>\n",
       "    <tr>\n",
       "      <th>IVF / BLASTOCYST</th>\n",
       "      <td>791</td>\n",
       "      <td>457</td>\n",
       "      <td>1248</td>\n",
       "      <td>0.633814</td>\n",
       "      <td>0.366186</td>\n",
       "    </tr>\n",
       "    <tr>\n",
       "      <th>Unknown</th>\n",
       "      <td>20549</td>\n",
       "      <td>6390</td>\n",
       "      <td>26939</td>\n",
       "      <td>0.762797</td>\n",
       "      <td>0.237203</td>\n",
       "    </tr>\n",
       "    <tr>\n",
       "      <th>기타</th>\n",
       "      <td>171</td>\n",
       "      <td>30</td>\n",
       "      <td>201</td>\n",
       "      <td>0.850746</td>\n",
       "      <td>0.149254</td>\n",
       "    </tr>\n",
       "    <tr>\n",
       "      <th>All</th>\n",
       "      <td>190121</td>\n",
       "      <td>66228</td>\n",
       "      <td>256349</td>\n",
       "      <td>NaN</td>\n",
       "      <td>NaN</td>\n",
       "    </tr>\n",
       "  </tbody>\n",
       "</table>\n",
       "</div>"
      ],
      "text/plain": [
       "임신 성공 여부                 0      1     All         0         1\n",
       "특정 시술 유형                                                     \n",
       "ICSI                 92128  33634  125762  0.732558  0.267442\n",
       "ICSI / AH              603    168     771  0.782101  0.217899\n",
       "ICSI / BLASTOCYST     1038    576    1614  0.643123  0.356877\n",
       "IUI                   5316    784    6100  0.871475  0.128525\n",
       "IVF                  69263  24130   93393  0.741629  0.258371\n",
       "IVF / AH               262     59     321  0.816199  0.183801\n",
       "IVF / BLASTOCYST       791    457    1248  0.633814  0.366186\n",
       "Unknown              20549   6390   26939  0.762797  0.237203\n",
       "기타                     171     30     201  0.850746  0.149254\n",
       "All                 190121  66228  256349       NaN       NaN"
      ]
     },
     "execution_count": 204,
     "metadata": {},
     "output_type": "execute_result"
    }
   ],
   "source": [
    "a=pd.crosstab(train['특정 시술 유형'],train['임신 성공 여부'], margins=True)\n",
    "b=pd.crosstab(train['특정 시술 유형'], train['임신 성공 여부'],normalize='index')\n",
    "pd.concat([a,b],axis=True)"
   ]
  },
  {
   "cell_type": "code",
   "execution_count": 216,
   "id": "8ecd8e84-5a0f-4643-9f97-ba27a3f907fa",
   "metadata": {},
   "outputs": [],
   "source": [
    "# '특정 시술 유형' 컬럼이 존재하는지 확인하고, NaN 값을 'Unknown'으로 채우기\n",
    "train['특정 시술 유형'] = train['특정 시술 유형'].fillna('Unknown')\n"
   ]
  },
  {
   "cell_type": "code",
   "execution_count": 218,
   "id": "79eba527-0f24-4145-afb6-23cd997290ab",
   "metadata": {},
   "outputs": [],
   "source": [
    "test['특정 시술 유형'] = test['특정 시술 유형'].fillna('Unknown')\n"
   ]
  },
  {
   "cell_type": "markdown",
   "id": "be60bf14-9221-4e64-8398-f68b6bceb282",
   "metadata": {},
   "source": [
    "Unknown은 일단 보류"
   ]
  },
  {
   "cell_type": "markdown",
   "id": "646b1aae-cbc9-4c80-bfc0-5c5e8ecb5d11",
   "metadata": {},
   "source": [
    "### 6. 배란 자극 여부"
   ]
  },
  {
   "cell_type": "code",
   "execution_count": 208,
   "id": "fcadcee1-0be4-42d5-af35-f877c03034f3",
   "metadata": {},
   "outputs": [
    {
     "data": {
      "text/plain": [
       "배란 자극 여부\n",
       "1    197720\n",
       "0     58631\n",
       "Name: count, dtype: int64"
      ]
     },
     "execution_count": 208,
     "metadata": {},
     "output_type": "execute_result"
    }
   ],
   "source": [
    "train['배란 자극 여부'].value_counts()"
   ]
  },
  {
   "cell_type": "markdown",
   "id": "dfc71fcc-676c-4630-b3a3-c54d148cff7a",
   "metadata": {},
   "source": [
    "자료형이 int hmm"
   ]
  },
  {
   "cell_type": "markdown",
   "id": "a3772b03-abd9-4a74-9a4d-86ccb9619ae1",
   "metadata": {},
   "source": [
    "### 7. 배란 유도 유형"
   ]
  },
  {
   "cell_type": "code",
   "execution_count": 212,
   "id": "5a53c01b-0166-4124-8b85-a2ad2acda266",
   "metadata": {},
   "outputs": [
    {
     "data": {
      "text/plain": [
       "배란 유도 유형\n",
       "기록되지 않은 시행      194432\n",
       "알 수 없음           61917\n",
       "세트로타이드 (억제제)         1\n",
       "생식선 자극 호르몬           1\n",
       "Name: count, dtype: int64"
      ]
     },
     "execution_count": 212,
     "metadata": {},
     "output_type": "execute_result"
    }
   ],
   "source": [
    "train['배란 유도 유형'].value_counts()"
   ]
  },
  {
   "cell_type": "code",
   "execution_count": 214,
   "id": "39e1303e-050f-4d32-a14b-6f5c0597a63e",
   "metadata": {},
   "outputs": [
    {
     "data": {
      "text/plain": [
       "배란 유도 유형\n",
       "기록되지 않은 시행    68599\n",
       "알 수 없음        21468\n",
       "Name: count, dtype: int64"
      ]
     },
     "execution_count": 214,
     "metadata": {},
     "output_type": "execute_result"
    }
   ],
   "source": [
    "test['배란 유도 유형'].value_counts()"
   ]
  },
  {
   "cell_type": "code",
   "execution_count": 220,
   "id": "cfe9f665-addf-4ed3-889a-92d2cfc15738",
   "metadata": {},
   "outputs": [
    {
     "data": {
      "text/html": [
       "<div>\n",
       "<style scoped>\n",
       "    .dataframe tbody tr th:only-of-type {\n",
       "        vertical-align: middle;\n",
       "    }\n",
       "\n",
       "    .dataframe tbody tr th {\n",
       "        vertical-align: top;\n",
       "    }\n",
       "\n",
       "    .dataframe thead th {\n",
       "        text-align: right;\n",
       "    }\n",
       "</style>\n",
       "<table border=\"1\" class=\"dataframe\">\n",
       "  <thead>\n",
       "    <tr style=\"text-align: right;\">\n",
       "      <th>임신 성공 여부</th>\n",
       "      <th>0</th>\n",
       "      <th>1</th>\n",
       "      <th>All</th>\n",
       "      <th>0</th>\n",
       "      <th>1</th>\n",
       "    </tr>\n",
       "    <tr>\n",
       "      <th>배란 유도 유형</th>\n",
       "      <th></th>\n",
       "      <th></th>\n",
       "      <th></th>\n",
       "      <th></th>\n",
       "      <th></th>\n",
       "    </tr>\n",
       "  </thead>\n",
       "  <tbody>\n",
       "    <tr>\n",
       "      <th>기록되지 않은 시행</th>\n",
       "      <td>142245</td>\n",
       "      <td>52187</td>\n",
       "      <td>194432</td>\n",
       "      <td>0.731593</td>\n",
       "      <td>0.268407</td>\n",
       "    </tr>\n",
       "    <tr>\n",
       "      <th>생식선 자극 호르몬</th>\n",
       "      <td>0</td>\n",
       "      <td>1</td>\n",
       "      <td>1</td>\n",
       "      <td>0.000000</td>\n",
       "      <td>1.000000</td>\n",
       "    </tr>\n",
       "    <tr>\n",
       "      <th>세트로타이드 (억제제)</th>\n",
       "      <td>1</td>\n",
       "      <td>0</td>\n",
       "      <td>1</td>\n",
       "      <td>1.000000</td>\n",
       "      <td>0.000000</td>\n",
       "    </tr>\n",
       "    <tr>\n",
       "      <th>알 수 없음</th>\n",
       "      <td>47877</td>\n",
       "      <td>14040</td>\n",
       "      <td>61917</td>\n",
       "      <td>0.773245</td>\n",
       "      <td>0.226755</td>\n",
       "    </tr>\n",
       "    <tr>\n",
       "      <th>All</th>\n",
       "      <td>190123</td>\n",
       "      <td>66228</td>\n",
       "      <td>256351</td>\n",
       "      <td>NaN</td>\n",
       "      <td>NaN</td>\n",
       "    </tr>\n",
       "  </tbody>\n",
       "</table>\n",
       "</div>"
      ],
      "text/plain": [
       "임신 성공 여부           0      1     All         0         1\n",
       "배란 유도 유형                                               \n",
       "기록되지 않은 시행    142245  52187  194432  0.731593  0.268407\n",
       "생식선 자극 호르몬         0      1       1  0.000000  1.000000\n",
       "세트로타이드 (억제제)       1      0       1  1.000000  0.000000\n",
       "알 수 없음         47877  14040   61917  0.773245  0.226755\n",
       "All           190123  66228  256351       NaN       NaN"
      ]
     },
     "execution_count": 220,
     "metadata": {},
     "output_type": "execute_result"
    }
   ],
   "source": [
    "a=pd.crosstab(train['배란 유도 유형'],train['임신 성공 여부'], margins=True)\n",
    "b=pd.crosstab(train['배란 유도 유형'], train['임신 성공 여부'],normalize='index')\n",
    "pd.concat([a,b],axis=True)"
   ]
  },
  {
   "cell_type": "code",
   "execution_count": 222,
   "id": "a2cefc1a-8afc-4727-9d18-571710644e5d",
   "metadata": {},
   "outputs": [],
   "source": [
    "train.loc[train['배란 유도 유형'].isin(['생식선 자극 호르몬', '세트로타이드 (억제제)']), '배란 유도 유형'] = '기록되지 않은 시행'"
   ]
  },
  {
   "cell_type": "markdown",
   "id": "91a0a520-012d-41b3-91fe-77f8b3e94a24",
   "metadata": {},
   "source": [
    "매우 극소수인 값들이기에 기록되지 않은 시행으로 변경"
   ]
  },
  {
   "cell_type": "code",
   "execution_count": 229,
   "id": "2a2f237f-1093-4a74-ba95-fda63bfae3fe",
   "metadata": {},
   "outputs": [
    {
     "data": {
      "text/html": [
       "<div>\n",
       "<style scoped>\n",
       "    .dataframe tbody tr th:only-of-type {\n",
       "        vertical-align: middle;\n",
       "    }\n",
       "\n",
       "    .dataframe tbody tr th {\n",
       "        vertical-align: top;\n",
       "    }\n",
       "\n",
       "    .dataframe thead th {\n",
       "        text-align: right;\n",
       "    }\n",
       "</style>\n",
       "<table border=\"1\" class=\"dataframe\">\n",
       "  <thead>\n",
       "    <tr style=\"text-align: right;\">\n",
       "      <th>배란 자극 여부</th>\n",
       "      <th>0</th>\n",
       "      <th>1</th>\n",
       "      <th>All</th>\n",
       "    </tr>\n",
       "    <tr>\n",
       "      <th>배란 유도 유형</th>\n",
       "      <th></th>\n",
       "      <th></th>\n",
       "      <th></th>\n",
       "    </tr>\n",
       "  </thead>\n",
       "  <tbody>\n",
       "    <tr>\n",
       "      <th>기록되지 않은 시행</th>\n",
       "      <td>0</td>\n",
       "      <td>194434</td>\n",
       "      <td>194434</td>\n",
       "    </tr>\n",
       "    <tr>\n",
       "      <th>알 수 없음</th>\n",
       "      <td>58631</td>\n",
       "      <td>3286</td>\n",
       "      <td>61917</td>\n",
       "    </tr>\n",
       "    <tr>\n",
       "      <th>All</th>\n",
       "      <td>58631</td>\n",
       "      <td>197720</td>\n",
       "      <td>256351</td>\n",
       "    </tr>\n",
       "  </tbody>\n",
       "</table>\n",
       "</div>"
      ],
      "text/plain": [
       "배란 자극 여부        0       1     All\n",
       "배란 유도 유형                         \n",
       "기록되지 않은 시행      0  194434  194434\n",
       "알 수 없음      58631    3286   61917\n",
       "All         58631  197720  256351"
      ]
     },
     "execution_count": 229,
     "metadata": {},
     "output_type": "execute_result"
    }
   ],
   "source": [
    "a=pd.crosstab(train['배란 유도 유형'],train['배란 자극 여부'], margins=True)\n",
    "a"
   ]
  },
  {
   "cell_type": "markdown",
   "id": "8341f342-e54f-463d-890f-9fb81cfcb0c3",
   "metadata": {},
   "source": [
    "배란 자극 여부가 1인 사람들이 모두 기록되지 않은 시행으로 적혀 있으며, 변수 개수, 유사성이 매우 높음 -> 배란 유도 유형 변수 삭제"
   ]
  },
  {
   "cell_type": "code",
   "execution_count": 232,
   "id": "9dbd7c5a-66d8-4ef4-9703-6893e89a915d",
   "metadata": {},
   "outputs": [],
   "source": [
    "train.drop(columns='배란 유도 유형', inplace=True)"
   ]
  },
  {
   "cell_type": "code",
   "execution_count": 234,
   "id": "bb859cbb-184d-48a6-b235-37753fb9f759",
   "metadata": {},
   "outputs": [],
   "source": [
    "test.drop(columns='배란 유도 유형', inplace=True)"
   ]
  },
  {
   "cell_type": "markdown",
   "id": "d29f4798-68e3-410c-a6ee-298329d09f15",
   "metadata": {},
   "source": [
    "### 8. 단일 배아 이식 여부"
   ]
  },
  {
   "cell_type": "code",
   "execution_count": 237,
   "id": "09cb3438-c7de-4129-8f17-b8124292e233",
   "metadata": {},
   "outputs": [
    {
     "data": {
      "text/plain": [
       "단일 배아 이식 여부\n",
       "0.0    191677\n",
       "1.0     58383\n",
       "Name: count, dtype: int64"
      ]
     },
     "execution_count": 237,
     "metadata": {},
     "output_type": "execute_result"
    }
   ],
   "source": [
    "train['단일 배아 이식 여부'].value_counts()"
   ]
  },
  {
   "cell_type": "code",
   "execution_count": 239,
   "id": "54826f24-5c6b-4c3c-876f-f8265043c02b",
   "metadata": {},
   "outputs": [
    {
     "data": {
      "text/plain": [
       "단일 배아 이식 여부\n",
       "0.0    67431\n",
       "1.0    20460\n",
       "Name: count, dtype: int64"
      ]
     },
     "execution_count": 239,
     "metadata": {},
     "output_type": "execute_result"
    }
   ],
   "source": [
    "test['단일 배아 이식 여부'].value_counts()"
   ]
  },
  {
   "cell_type": "markdown",
   "id": "c4d14315-73e9-440d-ae6e-9739f3c57fba",
   "metadata": {},
   "source": [
    "### 9. 착상 전 유전 검사 사용 여부"
   ]
  },
  {
   "cell_type": "code",
   "execution_count": 243,
   "id": "ef1ba14d-8070-44ba-86df-583c9facd9a5",
   "metadata": {},
   "outputs": [],
   "source": [
    "train.drop(columns='착상 전 유전 검사 사용 여부',inplace=True)\n",
    "test.drop(columns='착상 전 유전 검사 사용 여부',inplace=True)"
   ]
  },
  {
   "cell_type": "markdown",
   "id": "67b880d8-fd0d-47ec-b23d-ec25c2ce87d8",
   "metadata": {},
   "source": [
    "### 10. 남성 주 불임 원인"
   ]
  },
  {
   "cell_type": "code",
   "execution_count": 246,
   "id": "aeb6f28c-6561-47a8-8f29-b7cd6e5ebb2d",
   "metadata": {},
   "outputs": [
    {
     "data": {
      "text/plain": [
       "남성 주 불임 원인\n",
       "0    249041\n",
       "1      7310\n",
       "Name: count, dtype: int64"
      ]
     },
     "execution_count": 246,
     "metadata": {},
     "output_type": "execute_result"
    }
   ],
   "source": [
    "train['남성 주 불임 원인'].value_counts()"
   ]
  },
  {
   "cell_type": "code",
   "execution_count": 248,
   "id": "68a199e8-04f1-438d-9364-430b015f61a2",
   "metadata": {},
   "outputs": [
    {
     "data": {
      "text/plain": [
       "남성 주 불임 원인\n",
       "0    87459\n",
       "1     2608\n",
       "Name: count, dtype: int64"
      ]
     },
     "execution_count": 248,
     "metadata": {},
     "output_type": "execute_result"
    }
   ],
   "source": [
    "test['남성 주 불임 원인'].value_counts()"
   ]
  },
  {
   "cell_type": "code",
   "execution_count": 255,
   "id": "07fa06a4-487b-4cb9-b4a7-0675a3daa0ab",
   "metadata": {},
   "outputs": [
    {
     "data": {
      "text/html": [
       "<div>\n",
       "<style scoped>\n",
       "    .dataframe tbody tr th:only-of-type {\n",
       "        vertical-align: middle;\n",
       "    }\n",
       "\n",
       "    .dataframe tbody tr th {\n",
       "        vertical-align: top;\n",
       "    }\n",
       "\n",
       "    .dataframe thead th {\n",
       "        text-align: right;\n",
       "    }\n",
       "</style>\n",
       "<table border=\"1\" class=\"dataframe\">\n",
       "  <thead>\n",
       "    <tr style=\"text-align: right;\">\n",
       "      <th>임신 성공 여부</th>\n",
       "      <th>0</th>\n",
       "      <th>1</th>\n",
       "      <th>All</th>\n",
       "      <th>0</th>\n",
       "      <th>1</th>\n",
       "    </tr>\n",
       "    <tr>\n",
       "      <th>남성 주 불임 원인</th>\n",
       "      <th></th>\n",
       "      <th></th>\n",
       "      <th></th>\n",
       "      <th></th>\n",
       "      <th></th>\n",
       "    </tr>\n",
       "  </thead>\n",
       "  <tbody>\n",
       "    <tr>\n",
       "      <th>0</th>\n",
       "      <td>184421</td>\n",
       "      <td>64620</td>\n",
       "      <td>249041</td>\n",
       "      <td>0.740525</td>\n",
       "      <td>0.259475</td>\n",
       "    </tr>\n",
       "    <tr>\n",
       "      <th>1</th>\n",
       "      <td>5702</td>\n",
       "      <td>1608</td>\n",
       "      <td>7310</td>\n",
       "      <td>0.780027</td>\n",
       "      <td>0.219973</td>\n",
       "    </tr>\n",
       "    <tr>\n",
       "      <th>All</th>\n",
       "      <td>190123</td>\n",
       "      <td>66228</td>\n",
       "      <td>256351</td>\n",
       "      <td>NaN</td>\n",
       "      <td>NaN</td>\n",
       "    </tr>\n",
       "  </tbody>\n",
       "</table>\n",
       "</div>"
      ],
      "text/plain": [
       "임신 성공 여부         0      1     All         0         1\n",
       "남성 주 불임 원인                                           \n",
       "0           184421  64620  249041  0.740525  0.259475\n",
       "1             5702   1608    7310  0.780027  0.219973\n",
       "All         190123  66228  256351       NaN       NaN"
      ]
     },
     "execution_count": 255,
     "metadata": {},
     "output_type": "execute_result"
    }
   ],
   "source": [
    "a=pd.crosstab(train['남성 주 불임 원인'],train['임신 성공 여부'], margins=True)\n",
    "b=pd.crosstab(train['남성 주 불임 원인'], train['임신 성공 여부'],normalize='index')\n",
    "pd.concat([a,b],axis=True)"
   ]
  },
  {
   "cell_type": "markdown",
   "id": "80604229-7542-42e6-ae81-42a9b435b586",
   "metadata": {},
   "source": [
    "이게 임신 여부와 상관이 있을까?"
   ]
  },
  {
   "cell_type": "markdown",
   "id": "c0d83287-3d98-4314-8c83-ec96858c2263",
   "metadata": {},
   "source": [
    "### 11. 남성 부 불임 원인"
   ]
  },
  {
   "cell_type": "code",
   "execution_count": 251,
   "id": "7fa20eb7-71bf-42f3-81e3-a9a522ee2949",
   "metadata": {},
   "outputs": [
    {
     "data": {
      "text/plain": [
       "남성 부 불임 원인\n",
       "0    252989\n",
       "1      3362\n",
       "Name: count, dtype: int64"
      ]
     },
     "execution_count": 251,
     "metadata": {},
     "output_type": "execute_result"
    }
   ],
   "source": [
    "train['남성 부 불임 원인'].value_counts()"
   ]
  },
  {
   "cell_type": "code",
   "execution_count": 253,
   "id": "e26dd824-cd9f-42d7-926f-b6753c97370d",
   "metadata": {},
   "outputs": [
    {
     "data": {
      "text/plain": [
       "남성 부 불임 원인\n",
       "0    88908\n",
       "1     1159\n",
       "Name: count, dtype: int64"
      ]
     },
     "execution_count": 253,
     "metadata": {},
     "output_type": "execute_result"
    }
   ],
   "source": [
    "test['남성 부 불임 원인'].value_counts()"
   ]
  },
  {
   "cell_type": "code",
   "execution_count": 258,
   "id": "93758af9-22d8-4003-9eac-e67958e2ddf4",
   "metadata": {},
   "outputs": [
    {
     "data": {
      "text/html": [
       "<div>\n",
       "<style scoped>\n",
       "    .dataframe tbody tr th:only-of-type {\n",
       "        vertical-align: middle;\n",
       "    }\n",
       "\n",
       "    .dataframe tbody tr th {\n",
       "        vertical-align: top;\n",
       "    }\n",
       "\n",
       "    .dataframe thead th {\n",
       "        text-align: right;\n",
       "    }\n",
       "</style>\n",
       "<table border=\"1\" class=\"dataframe\">\n",
       "  <thead>\n",
       "    <tr style=\"text-align: right;\">\n",
       "      <th>임신 성공 여부</th>\n",
       "      <th>0</th>\n",
       "      <th>1</th>\n",
       "      <th>All</th>\n",
       "      <th>0</th>\n",
       "      <th>1</th>\n",
       "    </tr>\n",
       "    <tr>\n",
       "      <th>남성 부 불임 원인</th>\n",
       "      <th></th>\n",
       "      <th></th>\n",
       "      <th></th>\n",
       "      <th></th>\n",
       "      <th></th>\n",
       "    </tr>\n",
       "  </thead>\n",
       "  <tbody>\n",
       "    <tr>\n",
       "      <th>0</th>\n",
       "      <td>187425</td>\n",
       "      <td>65564</td>\n",
       "      <td>252989</td>\n",
       "      <td>0.740842</td>\n",
       "      <td>0.259158</td>\n",
       "    </tr>\n",
       "    <tr>\n",
       "      <th>1</th>\n",
       "      <td>2698</td>\n",
       "      <td>664</td>\n",
       "      <td>3362</td>\n",
       "      <td>0.802499</td>\n",
       "      <td>0.197501</td>\n",
       "    </tr>\n",
       "    <tr>\n",
       "      <th>All</th>\n",
       "      <td>190123</td>\n",
       "      <td>66228</td>\n",
       "      <td>256351</td>\n",
       "      <td>NaN</td>\n",
       "      <td>NaN</td>\n",
       "    </tr>\n",
       "  </tbody>\n",
       "</table>\n",
       "</div>"
      ],
      "text/plain": [
       "임신 성공 여부         0      1     All         0         1\n",
       "남성 부 불임 원인                                           \n",
       "0           187425  65564  252989  0.740842  0.259158\n",
       "1             2698    664    3362  0.802499  0.197501\n",
       "All         190123  66228  256351       NaN       NaN"
      ]
     },
     "execution_count": 258,
     "metadata": {},
     "output_type": "execute_result"
    }
   ],
   "source": [
    "a=pd.crosstab(train['남성 부 불임 원인'],train['임신 성공 여부'], margins=True)\n",
    "b=pd.crosstab(train['남성 부 불임 원인'], train['임신 성공 여부'],normalize='index')\n",
    "pd.concat([a,b],axis=True)"
   ]
  },
  {
   "cell_type": "code",
   "execution_count": null,
   "id": "8c80091b-814c-4de0-b0b5-a730ea635565",
   "metadata": {},
   "outputs": [],
   "source": []
  }
 ],
 "metadata": {
  "kernelspec": {
   "display_name": "Python 3 (ipykernel)",
   "language": "python",
   "name": "python3"
  },
  "language_info": {
   "codemirror_mode": {
    "name": "ipython",
    "version": 3
   },
   "file_extension": ".py",
   "mimetype": "text/x-python",
   "name": "python",
   "nbconvert_exporter": "python",
   "pygments_lexer": "ipython3",
   "version": "3.12.4"
  }
 },
 "nbformat": 4,
 "nbformat_minor": 5
}
