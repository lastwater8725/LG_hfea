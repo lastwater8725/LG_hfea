{
 "cells": [
  {
   "cell_type": "markdown",
   "id": "5fc4089b-d495-4617-975e-1b44990fda4e",
   "metadata": {},
   "source": [
    "# LG_aimers 해커톤 프로젝트\n",
    "\n",
    "## 안정빈"
   ]
  },
  {
   "cell_type": "code",
   "execution_count": 3,
   "id": "b8cf7c0d-8baf-40df-aee1-b1cde55e147b",
   "metadata": {},
   "outputs": [],
   "source": [
    "import pandas as pd \n",
    "import numpy as np\n",
    "import matplotlib.pyplot as plt \n",
    "import seaborn as sns "
   ]
  },
  {
   "cell_type": "code",
   "execution_count": 4,
   "id": "34c75dff-eff7-4618-ad16-2cc066f7726b",
   "metadata": {},
   "outputs": [],
   "source": [
    "import matplotlib.pyplot as plt\n",
    "from matplotlib import rc\n",
    "\n",
    "# 한글 폰트 설정 (예: 맑은 고딕)\n",
    "rc('font', family='Malgun Gothic')\n",
    "\n",
    "# 음수 기호 설정 (한글 폰트와 함께 깨지지 않도록 처리)\n",
    "plt.rcParams['axes.unicode_minus'] = False\n",
    "\n"
   ]
  },
  {
   "cell_type": "code",
   "execution_count": 5,
   "id": "668bf619-d2ce-4892-8217-1241ccd5dc23",
   "metadata": {},
   "outputs": [],
   "source": [
    "train = pd.read_csv('../data/train.csv') \n",
    "test = pd.read_csv('../data/test.csv') "
   ]
  },
  {
   "cell_type": "code",
   "execution_count": 6,
   "id": "f9054485-7f28-4073-a8c2-fd6869c52337",
   "metadata": {},
   "outputs": [
    {
     "data": {
      "text/html": [
       "<div>\n",
       "<style scoped>\n",
       "    .dataframe tbody tr th:only-of-type {\n",
       "        vertical-align: middle;\n",
       "    }\n",
       "\n",
       "    .dataframe tbody tr th {\n",
       "        vertical-align: top;\n",
       "    }\n",
       "\n",
       "    .dataframe thead th {\n",
       "        text-align: right;\n",
       "    }\n",
       "</style>\n",
       "<table border=\"1\" class=\"dataframe\">\n",
       "  <thead>\n",
       "    <tr style=\"text-align: right;\">\n",
       "      <th></th>\n",
       "      <th>ID</th>\n",
       "      <th>시술 시기 코드</th>\n",
       "      <th>시술 당시 나이</th>\n",
       "      <th>임신 시도 또는 마지막 임신 경과 연수</th>\n",
       "      <th>시술 유형</th>\n",
       "      <th>특정 시술 유형</th>\n",
       "      <th>배란 자극 여부</th>\n",
       "      <th>배란 유도 유형</th>\n",
       "      <th>단일 배아 이식 여부</th>\n",
       "      <th>착상 전 유전 검사 사용 여부</th>\n",
       "      <th>...</th>\n",
       "      <th>기증 배아 사용 여부</th>\n",
       "      <th>대리모 여부</th>\n",
       "      <th>PGD 시술 여부</th>\n",
       "      <th>PGS 시술 여부</th>\n",
       "      <th>난자 채취 경과일</th>\n",
       "      <th>난자 해동 경과일</th>\n",
       "      <th>난자 혼합 경과일</th>\n",
       "      <th>배아 이식 경과일</th>\n",
       "      <th>배아 해동 경과일</th>\n",
       "      <th>임신 성공 여부</th>\n",
       "    </tr>\n",
       "  </thead>\n",
       "  <tbody>\n",
       "    <tr>\n",
       "      <th>0</th>\n",
       "      <td>TRAIN_000000</td>\n",
       "      <td>TRZKPL</td>\n",
       "      <td>만18-34세</td>\n",
       "      <td>NaN</td>\n",
       "      <td>IVF</td>\n",
       "      <td>ICSI</td>\n",
       "      <td>1</td>\n",
       "      <td>기록되지 않은 시행</td>\n",
       "      <td>0.0</td>\n",
       "      <td>NaN</td>\n",
       "      <td>...</td>\n",
       "      <td>0.0</td>\n",
       "      <td>0.0</td>\n",
       "      <td>NaN</td>\n",
       "      <td>NaN</td>\n",
       "      <td>0.0</td>\n",
       "      <td>NaN</td>\n",
       "      <td>0.0</td>\n",
       "      <td>3.0</td>\n",
       "      <td>NaN</td>\n",
       "      <td>0</td>\n",
       "    </tr>\n",
       "    <tr>\n",
       "      <th>1</th>\n",
       "      <td>TRAIN_000001</td>\n",
       "      <td>TRYBLT</td>\n",
       "      <td>만45-50세</td>\n",
       "      <td>NaN</td>\n",
       "      <td>IVF</td>\n",
       "      <td>ICSI</td>\n",
       "      <td>0</td>\n",
       "      <td>알 수 없음</td>\n",
       "      <td>0.0</td>\n",
       "      <td>NaN</td>\n",
       "      <td>...</td>\n",
       "      <td>0.0</td>\n",
       "      <td>0.0</td>\n",
       "      <td>NaN</td>\n",
       "      <td>NaN</td>\n",
       "      <td>0.0</td>\n",
       "      <td>NaN</td>\n",
       "      <td>0.0</td>\n",
       "      <td>NaN</td>\n",
       "      <td>NaN</td>\n",
       "      <td>0</td>\n",
       "    </tr>\n",
       "    <tr>\n",
       "      <th>2</th>\n",
       "      <td>TRAIN_000002</td>\n",
       "      <td>TRVNRY</td>\n",
       "      <td>만18-34세</td>\n",
       "      <td>NaN</td>\n",
       "      <td>IVF</td>\n",
       "      <td>IVF</td>\n",
       "      <td>1</td>\n",
       "      <td>기록되지 않은 시행</td>\n",
       "      <td>0.0</td>\n",
       "      <td>NaN</td>\n",
       "      <td>...</td>\n",
       "      <td>0.0</td>\n",
       "      <td>0.0</td>\n",
       "      <td>NaN</td>\n",
       "      <td>NaN</td>\n",
       "      <td>0.0</td>\n",
       "      <td>NaN</td>\n",
       "      <td>0.0</td>\n",
       "      <td>2.0</td>\n",
       "      <td>NaN</td>\n",
       "      <td>0</td>\n",
       "    </tr>\n",
       "    <tr>\n",
       "      <th>3</th>\n",
       "      <td>TRAIN_000003</td>\n",
       "      <td>TRJXFG</td>\n",
       "      <td>만35-37세</td>\n",
       "      <td>NaN</td>\n",
       "      <td>IVF</td>\n",
       "      <td>ICSI</td>\n",
       "      <td>1</td>\n",
       "      <td>기록되지 않은 시행</td>\n",
       "      <td>0.0</td>\n",
       "      <td>NaN</td>\n",
       "      <td>...</td>\n",
       "      <td>0.0</td>\n",
       "      <td>0.0</td>\n",
       "      <td>NaN</td>\n",
       "      <td>NaN</td>\n",
       "      <td>0.0</td>\n",
       "      <td>NaN</td>\n",
       "      <td>0.0</td>\n",
       "      <td>NaN</td>\n",
       "      <td>NaN</td>\n",
       "      <td>0</td>\n",
       "    </tr>\n",
       "    <tr>\n",
       "      <th>4</th>\n",
       "      <td>TRAIN_000004</td>\n",
       "      <td>TRVNRY</td>\n",
       "      <td>만18-34세</td>\n",
       "      <td>NaN</td>\n",
       "      <td>IVF</td>\n",
       "      <td>ICSI</td>\n",
       "      <td>1</td>\n",
       "      <td>기록되지 않은 시행</td>\n",
       "      <td>0.0</td>\n",
       "      <td>NaN</td>\n",
       "      <td>...</td>\n",
       "      <td>0.0</td>\n",
       "      <td>0.0</td>\n",
       "      <td>NaN</td>\n",
       "      <td>NaN</td>\n",
       "      <td>0.0</td>\n",
       "      <td>NaN</td>\n",
       "      <td>0.0</td>\n",
       "      <td>3.0</td>\n",
       "      <td>NaN</td>\n",
       "      <td>0</td>\n",
       "    </tr>\n",
       "  </tbody>\n",
       "</table>\n",
       "<p>5 rows × 69 columns</p>\n",
       "</div>"
      ],
      "text/plain": [
       "             ID 시술 시기 코드 시술 당시 나이  임신 시도 또는 마지막 임신 경과 연수 시술 유형 특정 시술 유형  \\\n",
       "0  TRAIN_000000   TRZKPL  만18-34세                    NaN   IVF     ICSI   \n",
       "1  TRAIN_000001   TRYBLT  만45-50세                    NaN   IVF     ICSI   \n",
       "2  TRAIN_000002   TRVNRY  만18-34세                    NaN   IVF      IVF   \n",
       "3  TRAIN_000003   TRJXFG  만35-37세                    NaN   IVF     ICSI   \n",
       "4  TRAIN_000004   TRVNRY  만18-34세                    NaN   IVF     ICSI   \n",
       "\n",
       "   배란 자극 여부    배란 유도 유형  단일 배아 이식 여부  착상 전 유전 검사 사용 여부  ...  기증 배아 사용 여부  \\\n",
       "0         1  기록되지 않은 시행          0.0               NaN  ...          0.0   \n",
       "1         0      알 수 없음          0.0               NaN  ...          0.0   \n",
       "2         1  기록되지 않은 시행          0.0               NaN  ...          0.0   \n",
       "3         1  기록되지 않은 시행          0.0               NaN  ...          0.0   \n",
       "4         1  기록되지 않은 시행          0.0               NaN  ...          0.0   \n",
       "\n",
       "   대리모 여부  PGD 시술 여부  PGS 시술 여부  난자 채취 경과일  난자 해동 경과일  난자 혼합 경과일  배아 이식 경과일  \\\n",
       "0     0.0        NaN        NaN        0.0        NaN        0.0        3.0   \n",
       "1     0.0        NaN        NaN        0.0        NaN        0.0        NaN   \n",
       "2     0.0        NaN        NaN        0.0        NaN        0.0        2.0   \n",
       "3     0.0        NaN        NaN        0.0        NaN        0.0        NaN   \n",
       "4     0.0        NaN        NaN        0.0        NaN        0.0        3.0   \n",
       "\n",
       "   배아 해동 경과일  임신 성공 여부  \n",
       "0        NaN         0  \n",
       "1        NaN         0  \n",
       "2        NaN         0  \n",
       "3        NaN         0  \n",
       "4        NaN         0  \n",
       "\n",
       "[5 rows x 69 columns]"
      ]
     },
     "execution_count": 6,
     "metadata": {},
     "output_type": "execute_result"
    }
   ],
   "source": [
    "train.head()"
   ]
  },
  {
   "cell_type": "code",
   "execution_count": 7,
   "id": "58c313d2-909e-48f3-a25d-aa24a01d1236",
   "metadata": {
    "scrolled": true
   },
   "outputs": [
    {
     "name": "stdout",
     "output_type": "stream",
     "text": [
      "<class 'pandas.core.frame.DataFrame'>\n",
      "RangeIndex: 256351 entries, 0 to 256350\n",
      "Data columns (total 69 columns):\n",
      " #   Column                 Non-Null Count   Dtype  \n",
      "---  ------                 --------------   -----  \n",
      " 0   ID                     256351 non-null  object \n",
      " 1   시술 시기 코드               256351 non-null  object \n",
      " 2   시술 당시 나이               256351 non-null  object \n",
      " 3   임신 시도 또는 마지막 임신 경과 연수  9370 non-null    float64\n",
      " 4   시술 유형                  256351 non-null  object \n",
      " 5   특정 시술 유형               256349 non-null  object \n",
      " 6   배란 자극 여부               256351 non-null  int64  \n",
      " 7   배란 유도 유형               256351 non-null  object \n",
      " 8   단일 배아 이식 여부            250060 non-null  float64\n",
      " 9   착상 전 유전 검사 사용 여부       2718 non-null    float64\n",
      " 10  착상 전 유전 진단 사용 여부       250060 non-null  float64\n",
      " 11  남성 주 불임 원인             256351 non-null  int64  \n",
      " 12  남성 부 불임 원인             256351 non-null  int64  \n",
      " 13  여성 주 불임 원인             256351 non-null  int64  \n",
      " 14  여성 부 불임 원인             256351 non-null  int64  \n",
      " 15  부부 주 불임 원인             256351 non-null  int64  \n",
      " 16  부부 부 불임 원인             256351 non-null  int64  \n",
      " 17  불명확 불임 원인              256351 non-null  int64  \n",
      " 18  불임 원인 - 난관 질환          256351 non-null  int64  \n",
      " 19  불임 원인 - 남성 요인          256351 non-null  int64  \n",
      " 20  불임 원인 - 배란 장애          256351 non-null  int64  \n",
      " 21  불임 원인 - 여성 요인          256351 non-null  int64  \n",
      " 22  불임 원인 - 자궁경부 문제        256351 non-null  int64  \n",
      " 23  불임 원인 - 자궁내막증          256351 non-null  int64  \n",
      " 24  불임 원인 - 정자 농도          256351 non-null  int64  \n",
      " 25  불임 원인 - 정자 면역학적 요인     256351 non-null  int64  \n",
      " 26  불임 원인 - 정자 운동성         256351 non-null  int64  \n",
      " 27  불임 원인 - 정자 형태          256351 non-null  int64  \n",
      " 28  배아 생성 주요 이유            250060 non-null  object \n",
      " 29  총 시술 횟수                256351 non-null  object \n",
      " 30  클리닉 내 총 시술 횟수          256351 non-null  object \n",
      " 31  IVF 시술 횟수              256351 non-null  object \n",
      " 32  DI 시술 횟수               256351 non-null  object \n",
      " 33  총 임신 횟수                256351 non-null  object \n",
      " 34  IVF 임신 횟수              256351 non-null  object \n",
      " 35  DI 임신 횟수               256351 non-null  object \n",
      " 36  총 출산 횟수                256351 non-null  object \n",
      " 37  IVF 출산 횟수              256351 non-null  object \n",
      " 38  DI 출산 횟수               256351 non-null  object \n",
      " 39  총 생성 배아 수              250060 non-null  float64\n",
      " 40  미세주입된 난자 수             250060 non-null  float64\n",
      " 41  미세주입에서 생성된 배아 수        250060 non-null  float64\n",
      " 42  이식된 배아 수               250060 non-null  float64\n",
      " 43  미세주입 배아 이식 수           250060 non-null  float64\n",
      " 44  저장된 배아 수               250060 non-null  float64\n",
      " 45  미세주입 후 저장된 배아 수        250060 non-null  float64\n",
      " 46  해동된 배아 수               250060 non-null  float64\n",
      " 47  해동 난자 수                250060 non-null  float64\n",
      " 48  수집된 신선 난자 수            250060 non-null  float64\n",
      " 49  저장된 신선 난자 수            250060 non-null  float64\n",
      " 50  혼합된 난자 수               250060 non-null  float64\n",
      " 51  파트너 정자와 혼합된 난자 수       250060 non-null  float64\n",
      " 52  기증자 정자와 혼합된 난자 수       250060 non-null  float64\n",
      " 53  난자 출처                  256351 non-null  object \n",
      " 54  정자 출처                  256351 non-null  object \n",
      " 55  난자 기증자 나이              256351 non-null  object \n",
      " 56  정자 기증자 나이              256351 non-null  object \n",
      " 57  동결 배아 사용 여부            250060 non-null  float64\n",
      " 58  신선 배아 사용 여부            250060 non-null  float64\n",
      " 59  기증 배아 사용 여부            250060 non-null  float64\n",
      " 60  대리모 여부                 250060 non-null  float64\n",
      " 61  PGD 시술 여부              2179 non-null    float64\n",
      " 62  PGS 시술 여부              1929 non-null    float64\n",
      " 63  난자 채취 경과일              198863 non-null  float64\n",
      " 64  난자 해동 경과일              1436 non-null    float64\n",
      " 65  난자 혼합 경과일              202616 non-null  float64\n",
      " 66  배아 이식 경과일              212785 non-null  float64\n",
      " 67  배아 해동 경과일              40369 non-null   float64\n",
      " 68  임신 성공 여부               256351 non-null  int64  \n",
      "dtypes: float64(29), int64(19), object(21)\n",
      "memory usage: 135.0+ MB\n"
     ]
    }
   ],
   "source": [
    "train.info()"
   ]
  },
  {
   "cell_type": "markdown",
   "id": "81411a70-ee5c-4b9f-8578-0b90d30a2c42",
   "metadata": {},
   "source": [
    "## 3.EDA"
   ]
  },
  {
   "cell_type": "markdown",
   "id": "c5231412-df88-42a9-8716-1fe061667eeb",
   "metadata": {},
   "source": [
    "### 1. 임신 성공 여부"
   ]
  },
  {
   "cell_type": "code",
   "execution_count": 10,
   "id": "c04867ef-62a3-4a80-a8ee-811374113a8f",
   "metadata": {},
   "outputs": [
    {
     "data": {
      "text/plain": [
       "배아 생성 주요 이유\n",
       "현재 시술용                 233732\n",
       "배아 저장용                   9192\n",
       "기증용, 현재 시술용              3784\n",
       "난자 저장용                   1959\n",
       "기증용                      1108\n",
       "기증용, 배아 저장용               125\n",
       "배아 저장용, 현재 시술용             83\n",
       "기증용, 난자 저장용                44\n",
       "기증용, 배아 저장용, 현재 시술용        20\n",
       "난자 저장용, 배아 저장용              6\n",
       "난자 저장용, 현재 시술용              5\n",
       "연구용, 현재 시술용                 1\n",
       "난자 저장용, 배아 저장용, 연구용         1\n",
       "Name: count, dtype: int64"
      ]
     },
     "execution_count": 10,
     "metadata": {},
     "output_type": "execute_result"
    }
   ],
   "source": [
    "train['배아 생성 주요 이유'].value_counts()"
   ]
  },
  {
   "cell_type": "code",
   "execution_count": 11,
   "id": "00901a98-f57c-4a95-985f-fe05ab39f355",
   "metadata": {},
   "outputs": [
    {
     "data": {
      "image/png": "[encoded data removed]",
      "text/plain": [
       "<Figure size 600x600 with 1 Axes>"
      ]
     },
     "metadata": {},
     "output_type": "display_data"
    }
   ],
   "source": [
    "# '임신 성공 여부' 데이터 값과 개수 계산\n",
    "success_counts = train['임신 성공 여부'].value_counts()\n",
    "\n",
    "plt.figure(figsize=(6, 6))\n",
    "plt.pie(success_counts, labels=['임신 실패','임신 성공'], autopct='%1.2f%%', startangle=90, colors=['lightcoral', 'skyblue'])\n",
    "plt.title('임신 성공 여부 분포')\n",
    "plt.tight_layout()\n",
    "plt.show()"
   ]
  },
  {
   "cell_type": "markdown",
   "id": "a3ba7b5b-4cb7-4edd-8a7a-ffedaa0a27c1",
   "metadata": {},
   "source": [
    "전체 데이터를 보면 74.2%에 가까운 확률로 임신이 실패한 것을 알 수 있다."
   ]
  },
  {
   "cell_type": "markdown",
   "id": "3465c275-47b2-46d9-abbb-7905e3ca6dbd",
   "metadata": {},
   "source": [
    "### 2. 시술 당시 나이"
   ]
  },
  {
   "cell_type": "code",
   "execution_count": 14,
   "id": "d1304344-da3c-4569-9f78-f4d094f306e6",
   "metadata": {},
   "outputs": [
    {
     "data": {
      "image/png": "[encoded data removed]",
      "text/plain": [
       "<Figure size 1800x600 with 2 Axes>"
      ]
     },
     "metadata": {},
     "output_type": "display_data"
    }
   ],
   "source": [
    "age_order = ['만18-34세', '만35-37세', '만38-39세', '만40-42세', '만43-44세', '만45-50세', '알 수 없음']\n",
    "\n",
    "# '시술 당시 나이'와 '임신 성공 여부'에 따른 데이터 개수 계산\n",
    "count_data = train.groupby(['시술 당시 나이', '임신 성공 여부']).size().unstack(fill_value=0)\n",
    "\n",
    "# 각 나이대별로 임신 성공 여부의 비율 계산\n",
    "percentage_data = count_data.div(count_data.sum(axis=1), axis=0)\n",
    "\n",
    "# 나이 순서에 맞게 정렬\n",
    "percentage_data = percentage_data.reindex(age_order)\n",
    "\n",
    "\n",
    "fig, axes = plt.subplots(1, 2, figsize=(18, 6), sharey=False)\n",
    "\n",
    "sns.countplot(data=train, x='시술 당시 나이', hue='시술 당시 나이', order=age_order, palette='viridis', ax=axes[0])\n",
    "axes[0].set_title('시술 당시 나이 분포 (그래프 1)', fontsize=16)\n",
    "axes[0].set_xlabel('시술 당시 나이', fontsize=12)\n",
    "axes[0].set_ylabel('빈도', fontsize=12)\n",
    "axes[0].tick_params(axis='x', rotation=45)\n",
    "\n",
    "\n",
    "percentage_data.plot(kind='bar', stacked=True, color=['lightcoral', 'skyblue'], ax=axes[1])\n",
    "axes[1].set_title('시술 당시 나이별 임신 성공 여부 비율', fontsize=16)\n",
    "axes[1].set_xlabel('시술 당시 나이', fontsize=12)\n",
    "axes[1].set_ylabel('비율', fontsize=12)\n",
    "axes[1].legend(title='임신 성공 여부', loc='upper right')\n",
    "\n",
    "\n",
    "plt.tight_layout()\n",
    "plt.show()\n"
   ]
  },
  {
   "cell_type": "markdown",
   "id": "417f3691-afed-454d-9fa0-d85c8520aee2",
   "metadata": {},
   "source": [
    "젊을수록, 임신 성공 확률이 높은 것을 알 수 있다."
   ]
  },
  {
   "cell_type": "markdown",
   "id": "8ae45a17-5e80-4309-b614-67dece752019",
   "metadata": {},
   "source": [
    "### 3. 시술유형"
   ]
  },
  {
   "cell_type": "code",
   "execution_count": 17,
   "id": "b640ae1b-8213-4b96-9bb2-4003d60bf2b7",
   "metadata": {},
   "outputs": [
    {
     "data": {
      "text/plain": [
       "시술 유형\n",
       "IVF    250060\n",
       "DI       6291\n",
       "Name: count, dtype: int64"
      ]
     },
     "execution_count": 17,
     "metadata": {},
     "output_type": "execute_result"
    }
   ],
   "source": [
    "train['시술 유형'].value_counts()"
   ]
  },
  {
   "cell_type": "code",
   "execution_count": 18,
   "id": "d1b0f554-bf1d-4fe2-9eae-3d044c1fd750",
   "metadata": {},
   "outputs": [
    {
     "data": {
      "image/png": "[encoded data removed]",
      "text/plain": [
       "<Figure size 1800x600 with 3 Axes>"
      ]
     },
     "metadata": {},
     "output_type": "display_data"
    }
   ],
   "source": [
    "type_counts = train['시술 유형'].value_counts()\n",
    "ivf=train[train['시술 유형']=='IVF']\n",
    "di=train[train['시술 유형']=='DI']\n",
    "ivf_counts=ivf['임신 성공 여부'].value_counts()\n",
    "di_counts=di['임신 성공 여부'].value_counts()\n",
    "\n",
    "fig, axes=plt.subplots(1, 3, figsize=(18, 6))\n",
    "\n",
    "axes[0].pie(type_counts, labels=type_counts.index, autopct='%1.2f%%', startangle=90, \n",
    "        colors=['lightcoral', 'skyblue'])\n",
    "axes[0].set_title('시술 유형')\n",
    "\n",
    "axes[1].pie(ivf_counts, labels=ivf_counts.index, autopct='%1.2f%%', startangle=90, \n",
    "        colors=['lightcoral', 'skyblue'])\n",
    "axes[1].set_title('IVF 시술 임신 성공 여부')\n",
    "\n",
    "axes[2].pie(di_counts, labels=di_counts.index, autopct='%1.2f%%', startangle=90, \n",
    "        colors=['lightcoral', 'skyblue'])\n",
    "axes[2].set_title('DI 시술 임신 성공 여부')\n",
    "\n",
    "plt.tight_layout()\n",
    "plt.show()"
   ]
  },
  {
   "cell_type": "markdown",
   "id": "7bc1d4c7-c419-4a20-a513-62a7ea6a142c",
   "metadata": {},
   "source": [
    "대부분의 사람들이 IVF 시술을 받았고, IVF 시술의 임신 성공 확률이 DI 시술에 비해 높은 확률을 보이고 있다."
   ]
  },
  {
   "cell_type": "markdown",
   "id": "a195e21b-654a-4de1-8636-ef03924713e8",
   "metadata": {},
   "source": [
    "### 4. 특정 시술 유형"
   ]
  },
  {
   "cell_type": "code",
   "execution_count": 21,
   "id": "65ec9fa7-c99c-46b8-b9ef-1d9904c64dcc",
   "metadata": {},
   "outputs": [
    {
     "data": {
      "text/plain": [
       "특정 시술 유형\n",
       "ICSI                                   122368\n",
       "IVF                                     91755\n",
       "Unknown                                 26939\n",
       "IUI                                      6100\n",
       "ICSI:ICSI                                2314\n",
       "ICSI / BLASTOCYST                        1609\n",
       "IVF / BLASTOCYST                         1248\n",
       "IVF:IVF                                  1146\n",
       "ICSI:IVF                                  873\n",
       "ICSI / AH                                 769\n",
       "IVF:ICSI                                  392\n",
       "IVF / AH                                  319\n",
       "ICSI:Unknown                              207\n",
       "IVF:Unknown                               100\n",
       "ICI                                        96\n",
       "Generic DI                                 71\n",
       "IVI                                        23\n",
       "ICSI / BLASTOCYST:IVF / BLASTOCYST          6\n",
       "ICSI / BLASTOCYST :IVF / BLASTOCYST         4\n",
       "FER                                         3\n",
       "GIFT                                        2\n",
       "IVF / AH:ICSI / AH                          2\n",
       "ICSI / AH:Unknown                           2\n",
       "ICSI / BLASTOCYST :ICSI                     1\n",
       "Name: count, dtype: int64"
      ]
     },
     "execution_count": 21,
     "metadata": {},
     "output_type": "execute_result"
    }
   ],
   "source": [
    "train['특정 시술 유형'].value_counts()"
   ]
  },
  {
   "cell_type": "markdown",
   "id": "c0760beb-20a7-4124-b681-43e50fa2ee04",
   "metadata": {},
   "source": [
    "### 5. 배란 자극 여부"
   ]
  },
  {
   "cell_type": "code",
   "execution_count": 23,
   "id": "76f5356b-2618-4813-a632-223ce31c2c0c",
   "metadata": {},
   "outputs": [
    {
     "data": {
      "text/plain": [
       "배란 자극 여부\n",
       "1    197720\n",
       "0     58631\n",
       "Name: count, dtype: int64"
      ]
     },
     "execution_count": 23,
     "metadata": {},
     "output_type": "execute_result"
    }
   ],
   "source": [
    "train['배란 자극 여부'].value_counts()"
   ]
  },
  {
   "cell_type": "code",
   "execution_count": 24,
   "id": "b6b364c9-e8d7-4904-a8d8-cd1fe669e1b4",
   "metadata": {},
   "outputs": [
    {
     "data": {
      "image/png": "[encoded data removed]",
      "text/plain": [
       "<Figure size 1800x600 with 3 Axes>"
      ]
     },
     "metadata": {},
     "output_type": "display_data"
    }
   ],
   "source": [
    "type_counts = train['배란 자극 여부'].value_counts()\n",
    "true=train[train['배란 자극 여부']==1]\n",
    "false=train[train['배란 자극 여부']==0]\n",
    "true_counts=true['임신 성공 여부'].value_counts()\n",
    "false_counts=false['임신 성공 여부'].value_counts()\n",
    "\n",
    "fig, axes=plt.subplots(1, 3, figsize=(18, 6))\n",
    "\n",
    "axes[0].pie(type_counts, labels=type_counts.index, autopct='%1.2f%%', startangle=90, \n",
    "        colors=['lightcoral', 'skyblue'])\n",
    "axes[0].set_title('배란 자극 여부')\n",
    "\n",
    "axes[1].pie(true_counts, labels=true_counts.index, autopct='%1.2f%%', startangle=90, \n",
    "        colors=['lightcoral', 'skyblue'])\n",
    "axes[1].set_title('배란 자극 진행-> 임신 성공 여부')\n",
    "\n",
    "axes[2].pie(false_counts, labels=false_counts.index, autopct='%1.2f%%', startangle=90, \n",
    "        colors=['lightcoral', 'skyblue'])\n",
    "axes[2].set_title('배란 자극 미진행-> 임신 성공 여부')\n",
    "\n",
    "plt.tight_layout()\n",
    "plt.show()"
   ]
  },
  {
   "cell_type": "markdown",
   "id": "c51ea353-10a3-4354-8867-17af3fcbb9b6",
   "metadata": {},
   "source": [
    "첫 번째 그래프의 1은 배란 자극을 시행한 경우이며, 0은 시행하지 않은 경우를 의미한다. 77.1%의 환자는 배란 자극을 진행하였고, 배란 자극을 진행한 환자의 임신 성공 확률이 진행하지 않은 환자에 비해 3%정도 높게 나타나는 것을 알 수 있다."
   ]
  },
  {
   "cell_type": "markdown",
   "id": "fab49693-4694-4bb7-b30c-6997662aab2f",
   "metadata": {},
   "source": [
    "### 6. 배란 유도 유형"
   ]
  },
  {
   "cell_type": "code",
   "execution_count": 27,
   "id": "d6e0912c-876d-47c8-a3b0-96a2f07ca088",
   "metadata": {},
   "outputs": [
    {
     "data": {
      "text/plain": [
       "배란 유도 유형\n",
       "기록되지 않은 시행      194432\n",
       "알 수 없음           61917\n",
       "세트로타이드 (억제제)         1\n",
       "생식선 자극 호르몬           1\n",
       "Name: count, dtype: int64"
      ]
     },
     "execution_count": 27,
     "metadata": {},
     "output_type": "execute_result"
    }
   ],
   "source": [
    "train['배란 유도 유형'].value_counts()"
   ]
  },
  {
   "cell_type": "code",
   "execution_count": 28,
   "id": "bb0f3ec8-92dd-4e53-9222-f3928b64821d",
   "metadata": {},
   "outputs": [
    {
     "data": {
      "text/plain": [
       "배란 유도 유형\n",
       "알 수 없음    58631\n",
       "Name: count, dtype: int64"
      ]
     },
     "execution_count": 28,
     "metadata": {},
     "output_type": "execute_result"
    }
   ],
   "source": [
    "a=train[train['배란 자극 여부']==0]\n",
    "a['배란 유도 유형'].value_counts()"
   ]
  },
  {
   "cell_type": "markdown",
   "id": "5d97ddca-4b0e-45aa-b0c2-20a0e2b9bdd2",
   "metadata": {},
   "source": [
    "## 4. 결측치 대체"
   ]
  },
  {
   "cell_type": "code",
   "execution_count": 30,
   "id": "46aa7e88-5f36-49e6-9e40-5e784452261c",
   "metadata": {},
   "outputs": [
    {
     "name": "stdout",
     "output_type": "stream",
     "text": [
      "임신 시도 또는 마지막 임신 경과 연수    246981\n",
      "특정 시술 유형                      2\n",
      "단일 배아 이식 여부                6291\n",
      "착상 전 유전 검사 사용 여부         253633\n",
      "착상 전 유전 진단 사용 여부           6291\n",
      "배아 생성 주요 이유                6291\n",
      "총 생성 배아 수                  6291\n",
      "미세주입된 난자 수                 6291\n",
      "미세주입에서 생성된 배아 수            6291\n",
      "이식된 배아 수                   6291\n",
      "미세주입 배아 이식 수               6291\n",
      "저장된 배아 수                   6291\n",
      "미세주입 후 저장된 배아 수            6291\n",
      "해동된 배아 수                   6291\n",
      "해동 난자 수                    6291\n",
      "수집된 신선 난자 수                6291\n",
      "저장된 신선 난자 수                6291\n",
      "혼합된 난자 수                   6291\n",
      "파트너 정자와 혼합된 난자 수           6291\n",
      "기증자 정자와 혼합된 난자 수           6291\n",
      "동결 배아 사용 여부                6291\n",
      "신선 배아 사용 여부                6291\n",
      "기증 배아 사용 여부                6291\n",
      "대리모 여부                     6291\n",
      "PGD 시술 여부                254172\n",
      "PGS 시술 여부                254422\n",
      "난자 채취 경과일                 57488\n",
      "난자 해동 경과일                254915\n",
      "난자 혼합 경과일                 53735\n",
      "배아 이식 경과일                 43566\n",
      "배아 해동 경과일                215982\n",
      "dtype: int64\n"
     ]
    }
   ],
   "source": [
    "# 결측치가 존재하는 열과 개수 출력\n",
    "train_missing_values = train.isnull().sum()\n",
    "train_missing_columns = train_missing_values[train_missing_values > 0]  # 결측치가 있는 열만 필터링\n",
    "\n",
    "print(train_missing_columns)"
   ]
  },
  {
   "cell_type": "code",
   "execution_count": 31,
   "id": "ab1d4298-09b7-41ba-a78c-b0f0bdc23718",
   "metadata": {},
   "outputs": [
    {
     "name": "stdout",
     "output_type": "stream",
     "text": [
      "임신 시도 또는 마지막 임신 경과 연수    86770\n",
      "단일 배아 이식 여부               2176\n",
      "착상 전 유전 검사 사용 여부         89134\n",
      "착상 전 유전 진단 사용 여부          2176\n",
      "배아 생성 주요 이유               2176\n",
      "총 생성 배아 수                 2176\n",
      "미세주입된 난자 수                2176\n",
      "미세주입에서 생성된 배아 수           2176\n",
      "이식된 배아 수                  2176\n",
      "미세주입 배아 이식 수              2176\n",
      "저장된 배아 수                  2176\n",
      "미세주입 후 저장된 배아 수           2176\n",
      "해동된 배아 수                  2176\n",
      "해동 난자 수                   2176\n",
      "수집된 신선 난자 수               2176\n",
      "저장된 신선 난자 수               2176\n",
      "혼합된 난자 수                  2176\n",
      "파트너 정자와 혼합된 난자 수          2176\n",
      "기증자 정자와 혼합된 난자 수          2176\n",
      "동결 배아 사용 여부               2176\n",
      "신선 배아 사용 여부               2176\n",
      "기증 배아 사용 여부               2176\n",
      "대리모 여부                    2176\n",
      "PGD 시술 여부                89286\n",
      "PGS 시술 여부                89396\n",
      "난자 채취 경과일                19949\n",
      "난자 해동 경과일                89575\n",
      "난자 혼합 경과일                18579\n",
      "배아 이식 경과일                15246\n",
      "배아 해동 경과일                76117\n",
      "dtype: int64\n"
     ]
    }
   ],
   "source": [
    "# 결측치가 존재하는 열과 개수 출력\n",
    "test_missing_values = test.isnull().sum()\n",
    "test_missing_columns = test_missing_values[test_missing_values > 0]  # 결측치가 있는 열만 필터링\n",
    "\n",
    "print(test_missing_columns)"
   ]
  },
  {
   "cell_type": "markdown",
   "id": "8a3663dd-716d-49c7-9ae9-ca68015a9e57",
   "metadata": {},
   "source": [
    "### 1. 임신 시도 또는 마지막 임신 경과 연수"
   ]
  },
  {
   "cell_type": "code",
   "execution_count": 33,
   "id": "c3a77a3f-aab0-4af6-9654-138264e71bd6",
   "metadata": {},
   "outputs": [],
   "source": [
    "train.drop(columns=['임신 시도 또는 마지막 임신 경과 연수'], inplace=True)  \n",
    "test.drop(columns=['임신 시도 또는 마지막 임신 경과 연수'], inplace=True)  "
   ]
  },
  {
   "cell_type": "markdown",
   "id": "d4c58f90-7e15-4df1-a55b-b2df0789c120",
   "metadata": {},
   "source": [
    "### 2. 특정 시술 유형"
   ]
  },
  {
   "cell_type": "code",
   "execution_count": 35,
   "id": "163e1617-d606-4774-b7b5-2e2825f3ec5c",
   "metadata": {},
   "outputs": [
    {
     "data": {
      "text/plain": [
       "특정 시술 유형\n",
       "ICSI                                   122368\n",
       "IVF                                     91755\n",
       "Unknown                                 26939\n",
       "IUI                                      6100\n",
       "ICSI:ICSI                                2314\n",
       "ICSI / BLASTOCYST                        1609\n",
       "IVF / BLASTOCYST                         1248\n",
       "IVF:IVF                                  1146\n",
       "ICSI:IVF                                  873\n",
       "ICSI / AH                                 769\n",
       "IVF:ICSI                                  392\n",
       "IVF / AH                                  319\n",
       "ICSI:Unknown                              207\n",
       "IVF:Unknown                               100\n",
       "ICI                                        96\n",
       "Generic DI                                 71\n",
       "IVI                                        23\n",
       "ICSI / BLASTOCYST:IVF / BLASTOCYST          6\n",
       "ICSI / BLASTOCYST :IVF / BLASTOCYST         4\n",
       "FER                                         3\n",
       "GIFT                                        2\n",
       "IVF / AH:ICSI / AH                          2\n",
       "ICSI / AH:Unknown                           2\n",
       "ICSI / BLASTOCYST :ICSI                     1\n",
       "Name: count, dtype: int64"
      ]
     },
     "execution_count": 35,
     "metadata": {},
     "output_type": "execute_result"
    }
   ],
   "source": [
    "train['특정 시술 유형'].value_counts()"
   ]
  },
  {
   "cell_type": "code",
   "execution_count": 36,
   "id": "5d361af9-8048-4c04-9b0d-5515eba80526",
   "metadata": {},
   "outputs": [
    {
     "name": "stderr",
     "output_type": "stream",
     "text": [
      "C:\\Users\\jeongbin\\AppData\\Local\\Temp\\ipykernel_13404\\814923478.py:1: FutureWarning: A value is trying to be set on a copy of a DataFrame or Series through chained assignment using an inplace method.\n",
      "The behavior will change in pandas 3.0. This inplace method will never work because the intermediate object on which we are setting values always behaves as a copy.\n",
      "\n",
      "For example, when doing 'df[col].method(value, inplace=True)', try using 'df.method({col: value}, inplace=True)' or df[col] = df[col].method(value) instead, to perform the operation inplace on the original object.\n",
      "\n",
      "\n",
      "  train['특정 시술 유형'].fillna('UnKnown', inplace=True)\n",
      "C:\\Users\\jeongbin\\AppData\\Local\\Temp\\ipykernel_13404\\814923478.py:2: FutureWarning: A value is trying to be set on a copy of a DataFrame or Series through chained assignment using an inplace method.\n",
      "The behavior will change in pandas 3.0. This inplace method will never work because the intermediate object on which we are setting values always behaves as a copy.\n",
      "\n",
      "For example, when doing 'df[col].method(value, inplace=True)', try using 'df.method({col: value}, inplace=True)' or df[col] = df[col].method(value) instead, to perform the operation inplace on the original object.\n",
      "\n",
      "\n",
      "  test['특정 시술 유형'].fillna('UnKnown', inplace=True)\n"
     ]
    }
   ],
   "source": [
    "train['특정 시술 유형'].fillna('UnKnown', inplace=True)\n",
    "test['특정 시술 유형'].fillna('UnKnown', inplace=True)"
   ]
  },
  {
   "cell_type": "markdown",
   "id": "41afa09f-25e3-42d1-887e-6e9b3984747f",
   "metadata": {},
   "source": [
    "### 3. 착상 전 유전 검사 사용 여부"
   ]
  },
  {
   "cell_type": "code",
   "execution_count": 38,
   "id": "fea6b7c4-7f44-4f98-a64b-095456429dc6",
   "metadata": {},
   "outputs": [],
   "source": [
    "train.drop(columns=['착상 전 유전 검사 사용 여부'], inplace=True)  \n",
    "test.drop(columns=['착상 전 유전 검사 사용 여부'], inplace=True)  "
   ]
  },
  {
   "cell_type": "markdown",
   "id": "abe638cf-0d08-4f76-b1eb-965d32a0e00c",
   "metadata": {},
   "source": [
    "### 4. PGD 시술 여부"
   ]
  },
  {
   "cell_type": "code",
   "execution_count": 40,
   "id": "515c1729-0fb5-42c1-b477-e05d71a48ef3",
   "metadata": {},
   "outputs": [],
   "source": [
    "train.drop(columns=['PGD 시술 여부'], inplace=True)  \n",
    "test.drop(columns=['PGD 시술 여부'], inplace=True)  "
   ]
  },
  {
   "cell_type": "markdown",
   "id": "9dfece04-2add-4ab9-abde-74663f340e75",
   "metadata": {},
   "source": [
    "### 5. PGS 시술 여부"
   ]
  },
  {
   "cell_type": "code",
   "execution_count": 42,
   "id": "08a73de0-81a3-456d-b34c-3d50031a49f5",
   "metadata": {},
   "outputs": [],
   "source": [
    "train.drop(columns=['PGS 시술 여부'], inplace=True)  \n",
    "test.drop(columns=['PGS 시술 여부'], inplace=True)  "
   ]
  },
  {
   "cell_type": "markdown",
   "id": "7b578e28-7184-4084-8dd3-8c8468fca1e2",
   "metadata": {},
   "source": [
    "### 6. 난자 해동 경과일"
   ]
  },
  {
   "cell_type": "code",
   "execution_count": 44,
   "id": "460257db-c46a-429b-bcf2-3e2fd796d79b",
   "metadata": {},
   "outputs": [],
   "source": [
    "train.drop(columns=['난자 해동 경과일'], inplace=True) \n",
    "test.drop(columns=['난자 해동 경과일'], inplace=True)  "
   ]
  },
  {
   "cell_type": "markdown",
   "id": "230afc15-2898-4ac8-812b-6910c1a9b8d5",
   "metadata": {},
   "source": [
    "### 7.배아 해동 경과일"
   ]
  },
  {
   "cell_type": "code",
   "execution_count": 46,
   "id": "4520e30b-0456-4822-bea0-f1e002c63358",
   "metadata": {},
   "outputs": [],
   "source": [
    "train.drop(columns=['배아 해동 경과일'], inplace=True)  \n",
    "test.drop(columns=['배아 해동 경과일'], inplace=True)  "
   ]
  },
  {
   "cell_type": "markdown",
   "id": "74219f16-36e5-49ea-9e58-1b49cf3ace1b",
   "metadata": {},
   "source": [
    "### 8. 난자 채취 경과일"
   ]
  },
  {
   "cell_type": "code",
   "execution_count": 48,
   "id": "2c4e4a88-699c-4bf6-a4ba-beb9eb225ac1",
   "metadata": {},
   "outputs": [
    {
     "data": {
      "text/plain": [
       "난자 채취 경과일\n",
       "0.0    198863\n",
       "Name: count, dtype: int64"
      ]
     },
     "execution_count": 48,
     "metadata": {},
     "output_type": "execute_result"
    }
   ],
   "source": [
    "train['난자 채취 경과일'].value_counts()"
   ]
  },
  {
   "cell_type": "code",
   "execution_count": 49,
   "id": "e5065def-278e-4e4e-8ece-c12482a260a2",
   "metadata": {},
   "outputs": [],
   "source": [
    "train['난자 채취 경과일'] = train['난자 채취 경과일'].fillna(train['난자 채취 경과일'].mode()[0])\n",
    "test['난자 채취 경과일'] = test['난자 채취 경과일'].fillna(train['난자 채취 경과일'].mode()[0])"
   ]
  },
  {
   "cell_type": "markdown",
   "id": "327533df-8e25-4057-9a80-e64e9f597272",
   "metadata": {},
   "source": [
    "### 9. 난자 혼합 경과일"
   ]
  },
  {
   "cell_type": "code",
   "execution_count": 51,
   "id": "0dbe932b-c553-4fd8-9c4e-dcf09e3ba97d",
   "metadata": {},
   "outputs": [
    {
     "data": {
      "text/plain": [
       "난자 혼합 경과일\n",
       "0.0    201920\n",
       "1.0       488\n",
       "2.0       102\n",
       "3.0        68\n",
       "5.0        24\n",
       "6.0         8\n",
       "4.0         5\n",
       "7.0         1\n",
       "Name: count, dtype: int64"
      ]
     },
     "execution_count": 51,
     "metadata": {},
     "output_type": "execute_result"
    }
   ],
   "source": [
    "train['난자 혼합 경과일'].value_counts()"
   ]
  },
  {
   "cell_type": "code",
   "execution_count": 52,
   "id": "5d9f7bcd-078a-449e-86ba-d6f7950e90d4",
   "metadata": {},
   "outputs": [],
   "source": [
    "train['난자 혼합 경과일'] = train['난자 혼합 경과일'].fillna(train['난자 혼합 경과일'].mode()[0])\n",
    "test['난자 혼합 경과일'] = test['난자 혼합 경과일'].fillna(train['난자 혼합 경과일'].mode()[0])"
   ]
  },
  {
   "cell_type": "markdown",
   "id": "7116411c-3290-4c35-8abf-4dd29612bfca",
   "metadata": {},
   "source": [
    "### 10. 배아 이식 경과일"
   ]
  },
  {
   "cell_type": "code",
   "execution_count": 54,
   "id": "a70a21fa-ac3b-4c92-80fc-e67534ea91a4",
   "metadata": {},
   "outputs": [
    {
     "data": {
      "text/plain": [
       "배아 이식 경과일\n",
       "0.0    24904\n",
       "1.0     6053\n",
       "2.0    35078\n",
       "3.0    57924\n",
       "4.0     4504\n",
       "5.0    81459\n",
       "6.0     2773\n",
       "7.0       90\n",
       "Name: count, dtype: int64"
      ]
     },
     "execution_count": 54,
     "metadata": {},
     "output_type": "execute_result"
    }
   ],
   "source": [
    "train['배아 이식 경과일'].value_counts().sort_index()"
   ]
  },
  {
   "cell_type": "code",
   "execution_count": 55,
   "id": "3a31f5cb-03df-4345-aea3-222a1e8b4bed",
   "metadata": {},
   "outputs": [],
   "source": [
    "train['배아 이식 경과일'] = train['배아 이식 경과일'].fillna(train['배아 이식 경과일'].mode()[0])\n",
    "test['배아 이식 경과일'] = test['배아 이식 경과일'].fillna(train['배아 이식 경과일'].mode()[0])\n"
   ]
  },
  {
   "cell_type": "code",
   "execution_count": 56,
   "id": "4317eb7d-291f-43df-828f-52bf697e0193",
   "metadata": {},
   "outputs": [
    {
     "name": "stdout",
     "output_type": "stream",
     "text": [
      "단일 배아 이식 여부         6291\n",
      "착상 전 유전 진단 사용 여부    6291\n",
      "배아 생성 주요 이유         6291\n",
      "총 생성 배아 수           6291\n",
      "미세주입된 난자 수          6291\n",
      "미세주입에서 생성된 배아 수     6291\n",
      "이식된 배아 수            6291\n",
      "미세주입 배아 이식 수        6291\n",
      "저장된 배아 수            6291\n",
      "미세주입 후 저장된 배아 수     6291\n",
      "해동된 배아 수            6291\n",
      "해동 난자 수             6291\n",
      "수집된 신선 난자 수         6291\n",
      "저장된 신선 난자 수         6291\n",
      "혼합된 난자 수            6291\n",
      "파트너 정자와 혼합된 난자 수    6291\n",
      "기증자 정자와 혼합된 난자 수    6291\n",
      "동결 배아 사용 여부         6291\n",
      "신선 배아 사용 여부         6291\n",
      "기증 배아 사용 여부         6291\n",
      "대리모 여부              6291\n",
      "dtype: int64\n"
     ]
    }
   ],
   "source": [
    "# 결측치가 존재하는 열과 개수 출력\n",
    "train_missing_values = train.isnull().sum()\n",
    "train_missing_columns = train_missing_values[train_missing_values > 0]  # 결측치가 있는 열만 필터링\n",
    "\n",
    "print(train_missing_columns)"
   ]
  },
  {
   "cell_type": "code",
   "execution_count": 57,
   "id": "01965cbc-b83c-48c0-9d12-d4550adf7549",
   "metadata": {},
   "outputs": [
    {
     "name": "stdout",
     "output_type": "stream",
     "text": [
      "단일 배아 이식 여부         2176\n",
      "착상 전 유전 진단 사용 여부    2176\n",
      "배아 생성 주요 이유         2176\n",
      "총 생성 배아 수           2176\n",
      "미세주입된 난자 수          2176\n",
      "미세주입에서 생성된 배아 수     2176\n",
      "이식된 배아 수            2176\n",
      "미세주입 배아 이식 수        2176\n",
      "저장된 배아 수            2176\n",
      "미세주입 후 저장된 배아 수     2176\n",
      "해동된 배아 수            2176\n",
      "해동 난자 수             2176\n",
      "수집된 신선 난자 수         2176\n",
      "저장된 신선 난자 수         2176\n",
      "혼합된 난자 수            2176\n",
      "파트너 정자와 혼합된 난자 수    2176\n",
      "기증자 정자와 혼합된 난자 수    2176\n",
      "동결 배아 사용 여부         2176\n",
      "신선 배아 사용 여부         2176\n",
      "기증 배아 사용 여부         2176\n",
      "대리모 여부              2176\n",
      "dtype: int64\n"
     ]
    }
   ],
   "source": [
    "# 결측치가 존재하는 열과 개수 출력\n",
    "test_missing_values = test.isnull().sum()\n",
    "test_missing_columns = test_missing_values[test_missing_values > 0]  # 결측치가 있는 열만 필터링\n",
    "\n",
    "print(test_missing_columns)"
   ]
  },
  {
   "cell_type": "code",
   "execution_count": 58,
   "id": "faad0909-fb63-45fc-8205-8e07588ee9a3",
   "metadata": {},
   "outputs": [
    {
     "name": "stdout",
     "output_type": "stream",
     "text": [
      "<class 'pandas.core.frame.DataFrame'>\n",
      "RangeIndex: 256351 entries, 0 to 256350\n",
      "Data columns (total 63 columns):\n",
      " #   Column              Non-Null Count   Dtype  \n",
      "---  ------              --------------   -----  \n",
      " 0   ID                  256351 non-null  object \n",
      " 1   시술 시기 코드            256351 non-null  object \n",
      " 2   시술 당시 나이            256351 non-null  object \n",
      " 3   시술 유형               256351 non-null  object \n",
      " 4   특정 시술 유형            256351 non-null  object \n",
      " 5   배란 자극 여부            256351 non-null  int64  \n",
      " 6   배란 유도 유형            256351 non-null  object \n",
      " 7   단일 배아 이식 여부         250060 non-null  float64\n",
      " 8   착상 전 유전 진단 사용 여부    250060 non-null  float64\n",
      " 9   남성 주 불임 원인          256351 non-null  int64  \n",
      " 10  남성 부 불임 원인          256351 non-null  int64  \n",
      " 11  여성 주 불임 원인          256351 non-null  int64  \n",
      " 12  여성 부 불임 원인          256351 non-null  int64  \n",
      " 13  부부 주 불임 원인          256351 non-null  int64  \n",
      " 14  부부 부 불임 원인          256351 non-null  int64  \n",
      " 15  불명확 불임 원인           256351 non-null  int64  \n",
      " 16  불임 원인 - 난관 질환       256351 non-null  int64  \n",
      " 17  불임 원인 - 남성 요인       256351 non-null  int64  \n",
      " 18  불임 원인 - 배란 장애       256351 non-null  int64  \n",
      " 19  불임 원인 - 여성 요인       256351 non-null  int64  \n",
      " 20  불임 원인 - 자궁경부 문제     256351 non-null  int64  \n",
      " 21  불임 원인 - 자궁내막증       256351 non-null  int64  \n",
      " 22  불임 원인 - 정자 농도       256351 non-null  int64  \n",
      " 23  불임 원인 - 정자 면역학적 요인  256351 non-null  int64  \n",
      " 24  불임 원인 - 정자 운동성      256351 non-null  int64  \n",
      " 25  불임 원인 - 정자 형태       256351 non-null  int64  \n",
      " 26  배아 생성 주요 이유         250060 non-null  object \n",
      " 27  총 시술 횟수             256351 non-null  object \n",
      " 28  클리닉 내 총 시술 횟수       256351 non-null  object \n",
      " 29  IVF 시술 횟수           256351 non-null  object \n",
      " 30  DI 시술 횟수            256351 non-null  object \n",
      " 31  총 임신 횟수             256351 non-null  object \n",
      " 32  IVF 임신 횟수           256351 non-null  object \n",
      " 33  DI 임신 횟수            256351 non-null  object \n",
      " 34  총 출산 횟수             256351 non-null  object \n",
      " 35  IVF 출산 횟수           256351 non-null  object \n",
      " 36  DI 출산 횟수            256351 non-null  object \n",
      " 37  총 생성 배아 수           250060 non-null  float64\n",
      " 38  미세주입된 난자 수          250060 non-null  float64\n",
      " 39  미세주입에서 생성된 배아 수     250060 non-null  float64\n",
      " 40  이식된 배아 수            250060 non-null  float64\n",
      " 41  미세주입 배아 이식 수        250060 non-null  float64\n",
      " 42  저장된 배아 수            250060 non-null  float64\n",
      " 43  미세주입 후 저장된 배아 수     250060 non-null  float64\n",
      " 44  해동된 배아 수            250060 non-null  float64\n",
      " 45  해동 난자 수             250060 non-null  float64\n",
      " 46  수집된 신선 난자 수         250060 non-null  float64\n",
      " 47  저장된 신선 난자 수         250060 non-null  float64\n",
      " 48  혼합된 난자 수            250060 non-null  float64\n",
      " 49  파트너 정자와 혼합된 난자 수    250060 non-null  float64\n",
      " 50  기증자 정자와 혼합된 난자 수    250060 non-null  float64\n",
      " 51  난자 출처               256351 non-null  object \n",
      " 52  정자 출처               256351 non-null  object \n",
      " 53  난자 기증자 나이           256351 non-null  object \n",
      " 54  정자 기증자 나이           256351 non-null  object \n",
      " 55  동결 배아 사용 여부         250060 non-null  float64\n",
      " 56  신선 배아 사용 여부         250060 non-null  float64\n",
      " 57  기증 배아 사용 여부         250060 non-null  float64\n",
      " 58  대리모 여부              250060 non-null  float64\n",
      " 59  난자 채취 경과일           256351 non-null  float64\n",
      " 60  난자 혼합 경과일           256351 non-null  float64\n",
      " 61  배아 이식 경과일           256351 non-null  float64\n",
      " 62  임신 성공 여부            256351 non-null  int64  \n",
      "dtypes: float64(23), int64(19), object(21)\n",
      "memory usage: 123.2+ MB\n"
     ]
    }
   ],
   "source": [
    "train.info()"
   ]
  },
  {
   "cell_type": "code",
   "execution_count": 59,
   "id": "845aeeff-ef26-4900-9935-bb6500f209cc",
   "metadata": {},
   "outputs": [],
   "source": [
    "train.fillna(train.mode().iloc[0], inplace=True)\n",
    "test.fillna(train.mode().iloc[0], inplace=True)"
   ]
  },
  {
   "cell_type": "markdown",
   "id": "1c2a5cc2-b9ba-48a6-93a4-2bd1eaa0d637",
   "metadata": {},
   "source": [
    "## 5. 모델 학습"
   ]
  },
  {
   "cell_type": "code",
   "execution_count": 61,
   "id": "c1f10bd8-c589-4604-b86c-5192136cdba2",
   "metadata": {},
   "outputs": [
    {
     "name": "stdout",
     "output_type": "stream",
     "text": [
      "Requirement already satisfied: xgboost in c:\\users\\jeongbin\\projects\\lg_aimers_project\\venv_310\\lib\\site-packages (2.1.3)Note: you may need to restart the kernel to use updated packages.\n",
      "\n",
      "Requirement already satisfied: numpy in c:\\users\\jeongbin\\projects\\lg_aimers_project\\venv_310\\lib\\site-packages (from xgboost) (2.0.2)\n",
      "Requirement already satisfied: scipy in c:\\users\\jeongbin\\projects\\lg_aimers_project\\venv_310\\lib\\site-packages (from xgboost) (1.15.1)\n"
     ]
    }
   ],
   "source": [
    "pip install xgboost"
   ]
  },
  {
   "cell_type": "code",
   "execution_count": 62,
   "id": "9a54bb0a-62b0-4be2-9a72-5996a15f9812",
   "metadata": {},
   "outputs": [
    {
     "name": "stdout",
     "output_type": "stream",
     "text": [
      "^C\n",
      "Note: you may need to restart the kernel to use updated packages.\n",
      "Requirement already satisfied: lightgbm in c:\\users\\jeongbin\\projects\\lg_aimers_project\\venv_310\\lib\\site-packages (4.5.0)\n",
      "Requirement already satisfied: numpy>=1.17.0 in c:\\users\\jeongbin\\projects\\lg_aimers_project\\venv_310\\lib\\site-packages (from lightgbm) (2.0.2)\n",
      "Requirement already satisfied: scipy in c:\\users\\jeongbin\\projects\\lg_aimers_project\\venv_310\\lib\\site-packages (from lightgbm) (1.15.1)\n"
     ]
    }
   ],
   "source": [
    "pip install lightgbm"
   ]
  },
  {
   "cell_type": "code",
   "execution_count": 63,
   "id": "ab599d2f-6d57-4707-b70c-fbac95f717b2",
   "metadata": {},
   "outputs": [],
   "source": [
    "df = train.copy()"
   ]
  },
  {
   "cell_type": "code",
   "execution_count": 64,
   "id": "fd4cf3be-f401-464f-9244-a0b043a5e2fa",
   "metadata": {},
   "outputs": [
    {
     "name": "stdout",
     "output_type": "stream",
     "text": [
      "train 컬럼 '총 시술 횟수'에 숫자로 변환할 수 없는 값이 있습니다:\n",
      "['0회' '1회' '2회' '6회 이상' '3회' '4회' '5회']\n",
      "train 컬럼 '클리닉 내 총 시술 횟수'에 숫자로 변환할 수 없는 값이 있습니다:\n",
      "['0회' '1회' '2회' '6회 이상' '3회' '5회' '4회']\n",
      "train 컬럼 'IVF 시술 횟수'에 숫자로 변환할 수 없는 값이 있습니다:\n",
      "['0회' '1회' '2회' '3회' '5회' '4회' '6회 이상']\n",
      "train 컬럼 'DI 시술 횟수'에 숫자로 변환할 수 없는 값이 있습니다:\n",
      "['0회' '5회' '3회' '1회' '2회' '4회' '6회 이상']\n",
      "train 컬럼 '총 임신 횟수'에 숫자로 변환할 수 없는 값이 있습니다:\n",
      "['0회' '1회' '2회' '3회' '4회' '5회' '6회 이상']\n",
      "train 컬럼 'IVF 임신 횟수'에 숫자로 변환할 수 없는 값이 있습니다:\n",
      "['0회' '1회' '2회' '3회' '4회' '5회' '6회 이상']\n",
      "train 컬럼 'DI 임신 횟수'에 숫자로 변환할 수 없는 값이 있습니다:\n",
      "['0회' '1회' '2회' '3회' '4회' '5회']\n",
      "train 컬럼 '총 출산 횟수'에 숫자로 변환할 수 없는 값이 있습니다:\n",
      "['0회' '1회' '2회' '3회' '4회' '6회 이상' '5회']\n",
      "train 컬럼 'IVF 출산 횟수'에 숫자로 변환할 수 없는 값이 있습니다:\n",
      "['0회' '1회' '2회' '3회' '4회' '5회']\n",
      "train 컬럼 'DI 출산 횟수'에 숫자로 변환할 수 없는 값이 있습니다:\n",
      "['0회' '1회' '2회' '3회' '5회']\n",
      "train 컬럼 '난자 기증자 나이'에 숫자로 변환할 수 없는 값이 있습니다:\n",
      "['알 수 없음' '만21-25세' '만31-35세' '만26-30세' '만20세 이하']\n",
      "train 컬럼 '정자 기증자 나이'에 숫자로 변환할 수 없는 값이 있습니다:\n",
      "['알 수 없음' '만26-30세' '만21-25세' '만41-45세' '만36-40세' '만31-35세' '만20세 이하']\n"
     ]
    }
   ],
   "source": [
    "# 각 컬럼에서 숫자로 변환할 수 없는 값 확인\n",
    "for col in [ '총 시술 횟수', '클리닉 내 총 시술 횟수', 'IVF 시술 횟수', 'DI 시술 횟수', '총 임신 횟수',\n",
    "            'IVF 임신 횟수', 'DI 임신 횟수', '총 출산 횟수', 'IVF 출산 횟수', 'DI 출산 횟수', '난자 기증자 나이', '정자 기증자 나이']:\n",
    "    # 변환할 수 없는 값 찾기\n",
    "    invalid_values = df[col][pd.to_numeric(df[col], errors='coerce').isna()]\n",
    "    if len(invalid_values) > 0:\n",
    "        print(f\"train 컬럼 '{col}'에 숫자로 변환할 수 없는 값이 있습니다:\")\n",
    "        print(invalid_values.unique())\n"
   ]
  },
  {
   "cell_type": "code",
   "execution_count": 65,
   "id": "c8c0a13b-1a6f-4a0e-acc1-39b9a090d9f6",
   "metadata": {},
   "outputs": [
    {
     "name": "stdout",
     "output_type": "stream",
     "text": [
      "test 컬럼 '정자 기증자 나이'에 숫자로 변환할 수 없는 값이 있습니다:\n",
      "['알 수 없음' '만36-40세' '만31-35세' '만41-45세' '만26-30세' '만21-25세' '만20세 이하']\n"
     ]
    }
   ],
   "source": [
    "    # 변환할 수 없는 값 찾기\n",
    "    invalid_values = test[col][pd.to_numeric(test[col], errors='coerce').isna()]\n",
    "    if len(invalid_values) > 0:\n",
    "        print(f\"test 컬럼 '{col}'에 숫자로 변환할 수 없는 값이 있습니다:\")\n",
    "        print(invalid_values.unique())"
   ]
  },
  {
   "cell_type": "code",
   "execution_count": 66,
   "id": "99971d0c-bfd4-45f7-b9f9-15a5f9700c79",
   "metadata": {},
   "outputs": [
    {
     "name": "stdout",
     "output_type": "stream",
     "text": [
      "ID           0\n",
      "시술 시기 코드     0\n",
      "시술 당시 나이     0\n",
      "시술 유형        0\n",
      "특정 시술 유형     0\n",
      "            ..\n",
      "대리모 여부       0\n",
      "난자 채취 경과일    0\n",
      "난자 혼합 경과일    0\n",
      "배아 이식 경과일    0\n",
      "임신 성공 여부     0\n",
      "Length: 63, dtype: int64\n"
     ]
    }
   ],
   "source": [
    "# 숫자로 변환할 수 없는 값들 처리\n",
    "def convert_to_numeric(value):\n",
    "    # '회'를 제거하고 숫자로 변환\n",
    "    if isinstance(value, str):\n",
    "        value = value.replace('회', '').replace('회 이상', '6')  # '6회 이상'을 6으로 변경\n",
    "        try:\n",
    "            return float(value)  # 숫자로 변환\n",
    "        except ValueError:\n",
    "            return None  # 변환할 수 없으면 None 반환\n",
    "    return value\n",
    "\n",
    "# 해당 컬럼들을 변환\n",
    "for col in ['총 시술 횟수', '클리닉 내 총 시술 횟수', 'IVF 시술 횟수', 'DI 시술 횟수', '총 임신 횟수',\n",
    "            'IVF 임신 횟수', 'DI 임신 횟수', '총 출산 횟수', 'IVF 출산 횟수', 'DI 출산 횟수']:\n",
    "    df[col] = df[col].apply(convert_to_numeric)\n",
    "\n",
    "# '난자 기증자 나이'와 '정자 기증자 나이' 처리\n",
    "def age_to_numeric(value):\n",
    "    if isinstance(value, str):\n",
    "        if value == '알 수 없음':\n",
    "            return None  # '알 수 없음'은 NaN으로 처리\n",
    "        age_groups = {\n",
    "            '만20세 이하': 20,\n",
    "            '만21-25세': 23,\n",
    "            '만26-30세': 28,\n",
    "            '만31-35세': 33,\n",
    "            '만36-40세': 38,\n",
    "            '만41-45세': 43\n",
    "        }\n",
    "        return age_groups.get(value, None)  # 해당 연령대의 중앙값을 반환\n",
    "    return value\n",
    "\n",
    "df['난자 기증자 나이'] = df['난자 기증자 나이'].apply(age_to_numeric)\n",
    "df['정자 기증자 나이'] = df['정자 기증자 나이'].apply(age_to_numeric)\n",
    "\n",
    "# NaN 값이 있는지 다시 확인\n",
    "print(df.isna().sum())\n"
   ]
  },
  {
   "cell_type": "code",
   "execution_count": 67,
   "id": "a130de07-9bad-44d8-8f6a-502a369b8054",
   "metadata": {},
   "outputs": [
    {
     "name": "stderr",
     "output_type": "stream",
     "text": [
      "C:\\Users\\jeongbin\\projects\\lg_aimers_project\\venv_310\\lib\\site-packages\\numpy\\lib\\_nanfunctions_impl.py:1231: RuntimeWarning: Mean of empty slice\n",
      "  return np.nanmean(a, axis, out=out, keepdims=keepdims)\n",
      "C:\\Users\\jeongbin\\AppData\\Local\\Temp\\ipykernel_13404\\1995634058.py:31: FutureWarning: A value is trying to be set on a copy of a DataFrame or Series through chained assignment using an inplace method.\n",
      "The behavior will change in pandas 3.0. This inplace method will never work because the intermediate object on which we are setting values always behaves as a copy.\n",
      "\n",
      "For example, when doing 'df[col].method(value, inplace=True)', try using 'df.method({col: value}, inplace=True)' or df[col] = df[col].method(value) instead, to perform the operation inplace on the original object.\n",
      "\n",
      "\n",
      "  df[col].fillna(df[col].median(), inplace=True)\n",
      "C:\\Users\\jeongbin\\projects\\lg_aimers_project\\venv_310\\lib\\site-packages\\numpy\\lib\\_nanfunctions_impl.py:1231: RuntimeWarning: Mean of empty slice\n",
      "  return np.nanmean(a, axis, out=out, keepdims=keepdims)\n",
      "C:\\Users\\jeongbin\\AppData\\Local\\Temp\\ipykernel_13404\\1995634058.py:31: FutureWarning: A value is trying to be set on a copy of a DataFrame or Series through chained assignment using an inplace method.\n",
      "The behavior will change in pandas 3.0. This inplace method will never work because the intermediate object on which we are setting values always behaves as a copy.\n",
      "\n",
      "For example, when doing 'df[col].method(value, inplace=True)', try using 'df.method({col: value}, inplace=True)' or df[col] = df[col].method(value) instead, to perform the operation inplace on the original object.\n",
      "\n",
      "\n",
      "  df[col].fillna(df[col].median(), inplace=True)\n",
      "C:\\Users\\jeongbin\\projects\\lg_aimers_project\\venv_310\\lib\\site-packages\\numpy\\lib\\_nanfunctions_impl.py:1231: RuntimeWarning: Mean of empty slice\n",
      "  return np.nanmean(a, axis, out=out, keepdims=keepdims)\n",
      "C:\\Users\\jeongbin\\AppData\\Local\\Temp\\ipykernel_13404\\1995634058.py:31: FutureWarning: A value is trying to be set on a copy of a DataFrame or Series through chained assignment using an inplace method.\n",
      "The behavior will change in pandas 3.0. This inplace method will never work because the intermediate object on which we are setting values always behaves as a copy.\n",
      "\n",
      "For example, when doing 'df[col].method(value, inplace=True)', try using 'df.method({col: value}, inplace=True)' or df[col] = df[col].method(value) instead, to perform the operation inplace on the original object.\n",
      "\n",
      "\n",
      "  df[col].fillna(df[col].median(), inplace=True)\n",
      "C:\\Users\\jeongbin\\projects\\lg_aimers_project\\venv_310\\lib\\site-packages\\numpy\\lib\\_nanfunctions_impl.py:1231: RuntimeWarning: Mean of empty slice\n",
      "  return np.nanmean(a, axis, out=out, keepdims=keepdims)\n",
      "C:\\Users\\jeongbin\\AppData\\Local\\Temp\\ipykernel_13404\\1995634058.py:31: FutureWarning: A value is trying to be set on a copy of a DataFrame or Series through chained assignment using an inplace method.\n",
      "The behavior will change in pandas 3.0. This inplace method will never work because the intermediate object on which we are setting values always behaves as a copy.\n",
      "\n",
      "For example, when doing 'df[col].method(value, inplace=True)', try using 'df.method({col: value}, inplace=True)' or df[col] = df[col].method(value) instead, to perform the operation inplace on the original object.\n",
      "\n",
      "\n",
      "  df[col].fillna(df[col].median(), inplace=True)\n",
      "C:\\Users\\jeongbin\\projects\\lg_aimers_project\\venv_310\\lib\\site-packages\\numpy\\lib\\_nanfunctions_impl.py:1231: RuntimeWarning: Mean of empty slice\n",
      "  return np.nanmean(a, axis, out=out, keepdims=keepdims)\n",
      "C:\\Users\\jeongbin\\AppData\\Local\\Temp\\ipykernel_13404\\1995634058.py:31: FutureWarning: A value is trying to be set on a copy of a DataFrame or Series through chained assignment using an inplace method.\n",
      "The behavior will change in pandas 3.0. This inplace method will never work because the intermediate object on which we are setting values always behaves as a copy.\n",
      "\n",
      "For example, when doing 'df[col].method(value, inplace=True)', try using 'df.method({col: value}, inplace=True)' or df[col] = df[col].method(value) instead, to perform the operation inplace on the original object.\n",
      "\n",
      "\n",
      "  df[col].fillna(df[col].median(), inplace=True)\n",
      "C:\\Users\\jeongbin\\projects\\lg_aimers_project\\venv_310\\lib\\site-packages\\numpy\\lib\\_nanfunctions_impl.py:1231: RuntimeWarning: Mean of empty slice\n",
      "  return np.nanmean(a, axis, out=out, keepdims=keepdims)\n",
      "C:\\Users\\jeongbin\\AppData\\Local\\Temp\\ipykernel_13404\\1995634058.py:31: FutureWarning: A value is trying to be set on a copy of a DataFrame or Series through chained assignment using an inplace method.\n",
      "The behavior will change in pandas 3.0. This inplace method will never work because the intermediate object on which we are setting values always behaves as a copy.\n",
      "\n",
      "For example, when doing 'df[col].method(value, inplace=True)', try using 'df.method({col: value}, inplace=True)' or df[col] = df[col].method(value) instead, to perform the operation inplace on the original object.\n",
      "\n",
      "\n",
      "  df[col].fillna(df[col].median(), inplace=True)\n",
      "C:\\Users\\jeongbin\\projects\\lg_aimers_project\\venv_310\\lib\\site-packages\\numpy\\lib\\_nanfunctions_impl.py:1231: RuntimeWarning: Mean of empty slice\n",
      "  return np.nanmean(a, axis, out=out, keepdims=keepdims)\n",
      "C:\\Users\\jeongbin\\AppData\\Local\\Temp\\ipykernel_13404\\1995634058.py:31: FutureWarning: A value is trying to be set on a copy of a DataFrame or Series through chained assignment using an inplace method.\n",
      "The behavior will change in pandas 3.0. This inplace method will never work because the intermediate object on which we are setting values always behaves as a copy.\n",
      "\n",
      "For example, when doing 'df[col].method(value, inplace=True)', try using 'df.method({col: value}, inplace=True)' or df[col] = df[col].method(value) instead, to perform the operation inplace on the original object.\n",
      "\n",
      "\n",
      "  df[col].fillna(df[col].median(), inplace=True)\n",
      "C:\\Users\\jeongbin\\projects\\lg_aimers_project\\venv_310\\lib\\site-packages\\numpy\\lib\\_nanfunctions_impl.py:1231: RuntimeWarning: Mean of empty slice\n",
      "  return np.nanmean(a, axis, out=out, keepdims=keepdims)\n",
      "C:\\Users\\jeongbin\\AppData\\Local\\Temp\\ipykernel_13404\\1995634058.py:31: FutureWarning: A value is trying to be set on a copy of a DataFrame or Series through chained assignment using an inplace method.\n",
      "The behavior will change in pandas 3.0. This inplace method will never work because the intermediate object on which we are setting values always behaves as a copy.\n",
      "\n",
      "For example, when doing 'df[col].method(value, inplace=True)', try using 'df.method({col: value}, inplace=True)' or df[col] = df[col].method(value) instead, to perform the operation inplace on the original object.\n",
      "\n",
      "\n",
      "  df[col].fillna(df[col].median(), inplace=True)\n",
      "C:\\Users\\jeongbin\\projects\\lg_aimers_project\\venv_310\\lib\\site-packages\\numpy\\lib\\_nanfunctions_impl.py:1231: RuntimeWarning: Mean of empty slice\n",
      "  return np.nanmean(a, axis, out=out, keepdims=keepdims)\n",
      "C:\\Users\\jeongbin\\AppData\\Local\\Temp\\ipykernel_13404\\1995634058.py:31: FutureWarning: A value is trying to be set on a copy of a DataFrame or Series through chained assignment using an inplace method.\n",
      "The behavior will change in pandas 3.0. This inplace method will never work because the intermediate object on which we are setting values always behaves as a copy.\n",
      "\n",
      "For example, when doing 'df[col].method(value, inplace=True)', try using 'df.method({col: value}, inplace=True)' or df[col] = df[col].method(value) instead, to perform the operation inplace on the original object.\n",
      "\n",
      "\n",
      "  df[col].fillna(df[col].median(), inplace=True)\n",
      "C:\\Users\\jeongbin\\projects\\lg_aimers_project\\venv_310\\lib\\site-packages\\numpy\\lib\\_nanfunctions_impl.py:1231: RuntimeWarning: Mean of empty slice\n",
      "  return np.nanmean(a, axis, out=out, keepdims=keepdims)\n",
      "C:\\Users\\jeongbin\\AppData\\Local\\Temp\\ipykernel_13404\\1995634058.py:31: FutureWarning: A value is trying to be set on a copy of a DataFrame or Series through chained assignment using an inplace method.\n",
      "The behavior will change in pandas 3.0. This inplace method will never work because the intermediate object on which we are setting values always behaves as a copy.\n",
      "\n",
      "For example, when doing 'df[col].method(value, inplace=True)', try using 'df.method({col: value}, inplace=True)' or df[col] = df[col].method(value) instead, to perform the operation inplace on the original object.\n",
      "\n",
      "\n",
      "  df[col].fillna(df[col].median(), inplace=True)\n",
      "C:\\Users\\jeongbin\\projects\\lg_aimers_project\\venv_310\\lib\\site-packages\\numpy\\lib\\_nanfunctions_impl.py:1231: RuntimeWarning: Mean of empty slice\n",
      "  return np.nanmean(a, axis, out=out, keepdims=keepdims)\n",
      "C:\\Users\\jeongbin\\AppData\\Local\\Temp\\ipykernel_13404\\1995634058.py:31: FutureWarning: A value is trying to be set on a copy of a DataFrame or Series through chained assignment using an inplace method.\n",
      "The behavior will change in pandas 3.0. This inplace method will never work because the intermediate object on which we are setting values always behaves as a copy.\n",
      "\n",
      "For example, when doing 'df[col].method(value, inplace=True)', try using 'df.method({col: value}, inplace=True)' or df[col] = df[col].method(value) instead, to perform the operation inplace on the original object.\n",
      "\n",
      "\n",
      "  df[col].fillna(df[col].median(), inplace=True)\n",
      "C:\\Users\\jeongbin\\projects\\lg_aimers_project\\venv_310\\lib\\site-packages\\numpy\\lib\\_nanfunctions_impl.py:1231: RuntimeWarning: Mean of empty slice\n",
      "  return np.nanmean(a, axis, out=out, keepdims=keepdims)\n",
      "C:\\Users\\jeongbin\\AppData\\Local\\Temp\\ipykernel_13404\\1995634058.py:31: FutureWarning: A value is trying to be set on a copy of a DataFrame or Series through chained assignment using an inplace method.\n",
      "The behavior will change in pandas 3.0. This inplace method will never work because the intermediate object on which we are setting values always behaves as a copy.\n",
      "\n",
      "For example, when doing 'df[col].method(value, inplace=True)', try using 'df.method({col: value}, inplace=True)' or df[col] = df[col].method(value) instead, to perform the operation inplace on the original object.\n",
      "\n",
      "\n",
      "  df[col].fillna(df[col].median(), inplace=True)\n"
     ]
    },
    {
     "name": "stdout",
     "output_type": "stream",
     "text": [
      "RandomForestClassifier:\n",
      "Accuracy: 0.7106\n",
      "F1 Score: 0.3126\n",
      "ROC AUC Score: 0.6745\n",
      "\n"
     ]
    },
    {
     "name": "stderr",
     "output_type": "stream",
     "text": [
      "C:\\Users\\jeongbin\\projects\\lg_aimers_project\\venv_310\\lib\\site-packages\\xgboost\\core.py:158: UserWarning: [01:37:02] WARNING: C:\\buildkite-agent\\builds\\buildkite-windows-cpu-autoscaling-group-i-0c55ff5f71b100e98-1\\xgboost\\xgboost-ci-windows\\src\\learner.cc:740: \n",
      "Parameters: { \"use_label_encoder\" } are not used.\n",
      "\n",
      "  warnings.warn(smsg, UserWarning)\n"
     ]
    },
    {
     "name": "stdout",
     "output_type": "stream",
     "text": [
      "XGBClassifier:\n",
      "Accuracy: 0.7455\n",
      "F1 Score: 0.2039\n",
      "ROC AUC Score: 0.7318\n",
      "\n",
      "[LightGBM] [Warning] Found whitespace in feature_names, replace with underlines\n",
      "[LightGBM] [Info] Number of positive: 53102, number of negative: 151978\n",
      "[LightGBM] [Info] Auto-choosing row-wise multi-threading, the overhead of testing was 0.073928 seconds.\n",
      "You can set `force_row_wise=true` to remove the overhead.\n",
      "And if memory is not enough, you can set `force_col_wise=true`.\n",
      "[LightGBM] [Info] Total Bins 590\n",
      "[LightGBM] [Info] Number of data points in the train set: 205080, number of used features: 44\n",
      "[LightGBM] [Info] [binary:BoostFromScore]: pavg=0.258933 -> initscore=-1.051521\n",
      "[LightGBM] [Info] Start training from score -1.051521\n",
      "LGBMClassifier:\n",
      "Accuracy: 0.7476\n",
      "F1 Score: 0.1730\n",
      "ROC AUC Score: 0.7343\n",
      "\n"
     ]
    }
   ],
   "source": [
    "import pandas as pd\n",
    "from sklearn.model_selection import train_test_split\n",
    "from sklearn.preprocessing import OneHotEncoder, LabelEncoder\n",
    "from sklearn.ensemble import RandomForestClassifier\n",
    "from xgboost import XGBClassifier\n",
    "from lightgbm import LGBMClassifier\n",
    "from sklearn.metrics import accuracy_score, f1_score, roc_auc_score\n",
    "\n",
    "# 데이터 로드\n",
    "df = train.copy()  # 데이터 파일명 변경 필요\n",
    "\n",
    "# 불필요한 ID 컬럼 제거\n",
    "df.drop(columns=['ID'], inplace=True)\n",
    "df.drop(columns=['시술 시기 코드'], inplace=True)\n",
    "\n",
    "# 숫자형으로 변환할 수 있는 object 타입 컬럼 변환 (변환 불가한 값은 NaN 처리)\n",
    "for col in [ '총 시술 횟수', '클리닉 내 총 시술 횟수', 'IVF 시술 횟수', 'DI 시술 횟수', '총 임신 횟수',\n",
    "            'IVF 임신 횟수', 'DI 임신 횟수', '총 출산 횟수', 'IVF 출산 횟수', 'DI 출산 횟수', '난자 기증자 나이', '정자 기증자 나이']:\n",
    "    df[col] = pd.to_numeric(df[col], errors='coerce')  # 변환할 수 없으면 NaN 처리\n",
    "\n",
    "# 범주형 데이터 LabelEncoding 처리 (OneHotEncoding이 아닌)\n",
    "le = LabelEncoder()\n",
    "for col in ['시술 유형', '특정 시술 유형', '배란 유도 유형', '배아 생성 주요 이유', '난자 출처', '정자 출처','시술 당시 나이']:\n",
    "    df[col] = le.fit_transform(df[col].astype(str))  # Label Encoding을 위해 객체형을 문자열로 변환\n",
    "\n",
    "for col in df.columns:\n",
    "    if df[col].isnull().sum() > 0:\n",
    "        if df[col].dtype == 'object':\n",
    "            df[col].fillna(df[col].mode()[0], inplace=True)\n",
    "        else:\n",
    "            df[col].fillna(df[col].median(), inplace=True)\n",
    "\n",
    "# 데이터 분할\n",
    "X = df.drop(columns=['임신 성공 여부'])\n",
    "y = df['임신 성공 여부']\n",
    "X_train, X_test, y_train, y_test = train_test_split(X, y, test_size=0.2, random_state=42)\n",
    "\n",
    "# 모델 학습 및 평가\n",
    "def evaluate_model(model, X_train, X_test, y_train, y_test):\n",
    "    model.fit(X_train, y_train)\n",
    "    y_pred = model.predict(X_test)\n",
    "    y_pred_proba = model.predict_proba(X_test)[:, 1]\n",
    "    print(f\"{model.__class__.__name__}:\")\n",
    "    print(f\"Accuracy: {accuracy_score(y_test, y_pred):.4f}\")\n",
    "    print(f\"F1 Score: {f1_score(y_test, y_pred):.4f}\")\n",
    "    print(f\"ROC AUC Score: {roc_auc_score(y_test, y_pred_proba):.4f}\\n\")\n",
    "\n",
    "# 모델 리스트\n",
    "models = [RandomForestClassifier(), XGBClassifier(use_label_encoder=False, eval_metric='logloss'), LGBMClassifier()]\n",
    "\n",
    "# 모델 성능 비교\n",
    "for model in models:\n",
    "    evaluate_model(model, X_train, X_test, y_train, y_test)\n"
   ]
  },
  {
   "cell_type": "code",
   "execution_count": 68,
   "id": "4f223663-111a-4586-8387-76f53d1da701",
   "metadata": {},
   "outputs": [
    {
     "name": "stdout",
     "output_type": "stream",
     "text": [
      "[LightGBM] [Warning] Found whitespace in feature_names, replace with underlines\n",
      "[LightGBM] [Info] Number of positive: 53102, number of negative: 151978\n",
      "[LightGBM] [Info] Auto-choosing row-wise multi-threading, the overhead of testing was 0.048038 seconds.\n",
      "You can set `force_row_wise=true` to remove the overhead.\n",
      "And if memory is not enough, you can set `force_col_wise=true`.\n",
      "[LightGBM] [Info] Total Bins 590\n",
      "[LightGBM] [Info] Number of data points in the train set: 205080, number of used features: 44\n",
      "[LightGBM] [Info] [binary:BoostFromScore]: pavg=0.258933 -> initscore=-1.051521\n",
      "[LightGBM] [Info] Start training from score -1.051521\n",
      "Accuracy: 0.7476\n",
      "F1 Score: 0.1730\n",
      "ROC AUC Score: 0.7343\n"
     ]
    }
   ],
   "source": [
    "# LightGBM 모델 정의 및 학습\n",
    "model = LGBMClassifier(n_estimators=100, learning_rate=0.1, random_state=42)\n",
    "model.fit(X_train, y_train)\n",
    "\n",
    "# 예측\n",
    "y_pred = model.predict(X_test)\n",
    "y_pred_proba = model.predict_proba(X_test)[:, 1]  # ROC AUC 평가를 위한 확률값\n",
    "\n",
    "# 성능 평가\n",
    "accuracy = accuracy_score(y_test, y_pred)\n",
    "f1 = f1_score(y_test, y_pred)\n",
    "roc_auc = roc_auc_score(y_test, y_pred_proba)\n",
    "\n",
    "# 결과 출력\n",
    "print(f\"Accuracy: {accuracy:.4f}\")\n",
    "print(f\"F1 Score: {f1:.4f}\")\n",
    "print(f\"ROC AUC Score: {roc_auc:.4f}\")\n"
   ]
  },
  {
   "cell_type": "code",
   "execution_count": 69,
   "id": "dbfe7da5-6810-4aeb-a1e5-f322e9e20e78",
   "metadata": {},
   "outputs": [
    {
     "name": "stdout",
     "output_type": "stream",
     "text": [
      "컬럼 '총 시술 횟수'에 숫자로 변환할 수 없는 값이 있습니다:\n",
      "['1회' '0회' '3회' '5회' '2회' '4회' '6회 이상']\n",
      "컬럼 '클리닉 내 총 시술 횟수'에 숫자로 변환할 수 없는 값이 있습니다:\n",
      "['1회' '0회' '3회' '5회' '2회' '4회' '6회 이상']\n",
      "컬럼 'IVF 시술 횟수'에 숫자로 변환할 수 없는 값이 있습니다:\n",
      "['1회' '0회' '5회' '2회' '4회' '3회' '6회 이상']\n",
      "컬럼 'DI 시술 횟수'에 숫자로 변환할 수 없는 값이 있습니다:\n",
      "['0회' '2회' '1회' '3회' '5회' '4회' '6회 이상']\n",
      "컬럼 '총 임신 횟수'에 숫자로 변환할 수 없는 값이 있습니다:\n",
      "['0회' '1회' '2회' '3회' '4회' '5회' '6회 이상']\n",
      "컬럼 'IVF 임신 횟수'에 숫자로 변환할 수 없는 값이 있습니다:\n",
      "['0회' '1회' '2회' '3회' '4회' '5회']\n",
      "컬럼 'DI 임신 횟수'에 숫자로 변환할 수 없는 값이 있습니다:\n",
      "['0회' '1회' '2회' '3회' '4회' '5회']\n",
      "컬럼 '총 출산 횟수'에 숫자로 변환할 수 없는 값이 있습니다:\n",
      "['0회' '1회' '2회' '4회' '3회' '6회 이상']\n",
      "컬럼 'IVF 출산 횟수'에 숫자로 변환할 수 없는 값이 있습니다:\n",
      "['0회' '1회' '2회' '4회' '3회']\n",
      "컬럼 'DI 출산 횟수'에 숫자로 변환할 수 없는 값이 있습니다:\n",
      "['0회' '1회' '2회' '3회' '5회']\n",
      "컬럼 '난자 기증자 나이'에 숫자로 변환할 수 없는 값이 있습니다:\n",
      "['알 수 없음' '만26-30세' '만21-25세' '만31-35세' '만20세 이하']\n",
      "컬럼 '정자 기증자 나이'에 숫자로 변환할 수 없는 값이 있습니다:\n",
      "['알 수 없음' '만36-40세' '만31-35세' '만41-45세' '만26-30세' '만21-25세' '만20세 이하']\n"
     ]
    }
   ],
   "source": [
    "# 각 컬럼에서 숫자로 변환할 수 없는 값 확인\n",
    "for col in [ '총 시술 횟수', '클리닉 내 총 시술 횟수', 'IVF 시술 횟수', 'DI 시술 횟수', '총 임신 횟수',\n",
    "            'IVF 임신 횟수', 'DI 임신 횟수', '총 출산 횟수', 'IVF 출산 횟수', 'DI 출산 횟수', '난자 기증자 나이', '정자 기증자 나이']:\n",
    "    # 변환할 수 없는 값 찾기\n",
    "    invalid_values = test[col][pd.to_numeric(test[col], errors='coerce').isna()]\n",
    "    if len(invalid_values) > 0:\n",
    "        print(f\"컬럼 '{col}'에 숫자로 변환할 수 없는 값이 있습니다:\")\n",
    "        print(invalid_values.unique())"
   ]
  },
  {
   "cell_type": "code",
   "execution_count": 70,
   "id": "b6105dda-68bf-433c-a56e-86e90b180734",
   "metadata": {},
   "outputs": [
    {
     "name": "stdout",
     "output_type": "stream",
     "text": [
      "ID             0\n",
      "시술 시기 코드       0\n",
      "시술 당시 나이       0\n",
      "시술 유형          0\n",
      "특정 시술 유형       0\n",
      "              ..\n",
      "기증 배아 사용 여부    0\n",
      "대리모 여부         0\n",
      "난자 채취 경과일      0\n",
      "난자 혼합 경과일      0\n",
      "배아 이식 경과일      0\n",
      "Length: 62, dtype: int64\n"
     ]
    }
   ],
   "source": [
    "# 숫자로 변환할 수 없는 값들 처리\n",
    "def convert_to_numeric(value):\n",
    "    # '회'를 제거하고 숫자로 변환\n",
    "    if isinstance(value, str):\n",
    "        value = value.replace('회', '').replace('회 이상', '6')  # '6회 이상'을 6으로 변경\n",
    "        try:\n",
    "            return float(value)  # 숫자로 변환\n",
    "        except ValueError:\n",
    "            return None  # 변환할 수 없으면 None 반환\n",
    "    return value\n",
    "\n",
    "# 해당 컬럼들을 변환\n",
    "for col in ['총 시술 횟수', '클리닉 내 총 시술 횟수', 'IVF 시술 횟수', 'DI 시술 횟수', '총 임신 횟수',\n",
    "            'IVF 임신 횟수', 'DI 임신 횟수', '총 출산 횟수', 'IVF 출산 횟수', 'DI 출산 횟수']:\n",
    "    test[col] = test[col].apply(convert_to_numeric)\n",
    "\n",
    "# '난자 기증자 나이'와 '정자 기증자 나이' 처리\n",
    "def age_to_numeric(value):\n",
    "    if isinstance(value, str):\n",
    "        if value == '알 수 없음':\n",
    "            return None  # '알 수 없음'은 NaN으로 처리\n",
    "        age_groups = {\n",
    "            '만20세 이하': 20,\n",
    "            '만21-25세': 23,\n",
    "            '만26-30세': 28,\n",
    "            '만31-35세': 33,\n",
    "            '만36-40세': 38,\n",
    "            '만41-45세': 43\n",
    "        }\n",
    "        return age_groups.get(value, None)  # 해당 연령대의 중앙값을 반환\n",
    "    return value\n",
    "\n",
    "test['난자 기증자 나이'] = test['난자 기증자 나이'].apply(age_to_numeric)\n",
    "test['정자 기증자 나이'] = test['정자 기증자 나이'].apply(age_to_numeric)\n",
    "\n",
    "# NaN 값이 있는지 다시 확인\n",
    "print(test.isna().sum())"
   ]
  },
  {
   "cell_type": "code",
   "execution_count": 71,
   "id": "2e25c9f4-fd16-4373-987d-dbd9ac81e571",
   "metadata": {},
   "outputs": [
    {
     "name": "stderr",
     "output_type": "stream",
     "text": [
      "C:\\Users\\jeongbin\\projects\\lg_aimers_project\\venv_310\\lib\\site-packages\\numpy\\lib\\_nanfunctions_impl.py:1231: RuntimeWarning: Mean of empty slice\n",
      "  return np.nanmean(a, axis, out=out, keepdims=keepdims)\n",
      "C:\\Users\\jeongbin\\AppData\\Local\\Temp\\ipykernel_13404\\3728999842.py:21: FutureWarning: A value is trying to be set on a copy of a DataFrame or Series through chained assignment using an inplace method.\n",
      "The behavior will change in pandas 3.0. This inplace method will never work because the intermediate object on which we are setting values always behaves as a copy.\n",
      "\n",
      "For example, when doing 'df[col].method(value, inplace=True)', try using 'df.method({col: value}, inplace=True)' or df[col] = df[col].method(value) instead, to perform the operation inplace on the original object.\n",
      "\n",
      "\n",
      "  test[col].fillna(df[col].median(), inplace=True)\n",
      "C:\\Users\\jeongbin\\projects\\lg_aimers_project\\venv_310\\lib\\site-packages\\numpy\\lib\\_nanfunctions_impl.py:1231: RuntimeWarning: Mean of empty slice\n",
      "  return np.nanmean(a, axis, out=out, keepdims=keepdims)\n",
      "C:\\Users\\jeongbin\\AppData\\Local\\Temp\\ipykernel_13404\\3728999842.py:21: FutureWarning: A value is trying to be set on a copy of a DataFrame or Series through chained assignment using an inplace method.\n",
      "The behavior will change in pandas 3.0. This inplace method will never work because the intermediate object on which we are setting values always behaves as a copy.\n",
      "\n",
      "For example, when doing 'df[col].method(value, inplace=True)', try using 'df.method({col: value}, inplace=True)' or df[col] = df[col].method(value) instead, to perform the operation inplace on the original object.\n",
      "\n",
      "\n",
      "  test[col].fillna(df[col].median(), inplace=True)\n",
      "C:\\Users\\jeongbin\\projects\\lg_aimers_project\\venv_310\\lib\\site-packages\\numpy\\lib\\_nanfunctions_impl.py:1231: RuntimeWarning: Mean of empty slice\n",
      "  return np.nanmean(a, axis, out=out, keepdims=keepdims)\n",
      "C:\\Users\\jeongbin\\AppData\\Local\\Temp\\ipykernel_13404\\3728999842.py:21: FutureWarning: A value is trying to be set on a copy of a DataFrame or Series through chained assignment using an inplace method.\n",
      "The behavior will change in pandas 3.0. This inplace method will never work because the intermediate object on which we are setting values always behaves as a copy.\n",
      "\n",
      "For example, when doing 'df[col].method(value, inplace=True)', try using 'df.method({col: value}, inplace=True)' or df[col] = df[col].method(value) instead, to perform the operation inplace on the original object.\n",
      "\n",
      "\n",
      "  test[col].fillna(df[col].median(), inplace=True)\n",
      "C:\\Users\\jeongbin\\projects\\lg_aimers_project\\venv_310\\lib\\site-packages\\numpy\\lib\\_nanfunctions_impl.py:1231: RuntimeWarning: Mean of empty slice\n",
      "  return np.nanmean(a, axis, out=out, keepdims=keepdims)\n",
      "C:\\Users\\jeongbin\\AppData\\Local\\Temp\\ipykernel_13404\\3728999842.py:21: FutureWarning: A value is trying to be set on a copy of a DataFrame or Series through chained assignment using an inplace method.\n",
      "The behavior will change in pandas 3.0. This inplace method will never work because the intermediate object on which we are setting values always behaves as a copy.\n",
      "\n",
      "For example, when doing 'df[col].method(value, inplace=True)', try using 'df.method({col: value}, inplace=True)' or df[col] = df[col].method(value) instead, to perform the operation inplace on the original object.\n",
      "\n",
      "\n",
      "  test[col].fillna(df[col].median(), inplace=True)\n",
      "C:\\Users\\jeongbin\\projects\\lg_aimers_project\\venv_310\\lib\\site-packages\\numpy\\lib\\_nanfunctions_impl.py:1231: RuntimeWarning: Mean of empty slice\n",
      "  return np.nanmean(a, axis, out=out, keepdims=keepdims)\n",
      "C:\\Users\\jeongbin\\AppData\\Local\\Temp\\ipykernel_13404\\3728999842.py:21: FutureWarning: A value is trying to be set on a copy of a DataFrame or Series through chained assignment using an inplace method.\n",
      "The behavior will change in pandas 3.0. This inplace method will never work because the intermediate object on which we are setting values always behaves as a copy.\n",
      "\n",
      "For example, when doing 'df[col].method(value, inplace=True)', try using 'df.method({col: value}, inplace=True)' or df[col] = df[col].method(value) instead, to perform the operation inplace on the original object.\n",
      "\n",
      "\n",
      "  test[col].fillna(df[col].median(), inplace=True)\n",
      "C:\\Users\\jeongbin\\projects\\lg_aimers_project\\venv_310\\lib\\site-packages\\numpy\\lib\\_nanfunctions_impl.py:1231: RuntimeWarning: Mean of empty slice\n",
      "  return np.nanmean(a, axis, out=out, keepdims=keepdims)\n",
      "C:\\Users\\jeongbin\\AppData\\Local\\Temp\\ipykernel_13404\\3728999842.py:21: FutureWarning: A value is trying to be set on a copy of a DataFrame or Series through chained assignment using an inplace method.\n",
      "The behavior will change in pandas 3.0. This inplace method will never work because the intermediate object on which we are setting values always behaves as a copy.\n",
      "\n",
      "For example, when doing 'df[col].method(value, inplace=True)', try using 'df.method({col: value}, inplace=True)' or df[col] = df[col].method(value) instead, to perform the operation inplace on the original object.\n",
      "\n",
      "\n",
      "  test[col].fillna(df[col].median(), inplace=True)\n",
      "C:\\Users\\jeongbin\\projects\\lg_aimers_project\\venv_310\\lib\\site-packages\\numpy\\lib\\_nanfunctions_impl.py:1231: RuntimeWarning: Mean of empty slice\n",
      "  return np.nanmean(a, axis, out=out, keepdims=keepdims)\n",
      "C:\\Users\\jeongbin\\AppData\\Local\\Temp\\ipykernel_13404\\3728999842.py:21: FutureWarning: A value is trying to be set on a copy of a DataFrame or Series through chained assignment using an inplace method.\n",
      "The behavior will change in pandas 3.0. This inplace method will never work because the intermediate object on which we are setting values always behaves as a copy.\n",
      "\n",
      "For example, when doing 'df[col].method(value, inplace=True)', try using 'df.method({col: value}, inplace=True)' or df[col] = df[col].method(value) instead, to perform the operation inplace on the original object.\n",
      "\n",
      "\n",
      "  test[col].fillna(df[col].median(), inplace=True)\n",
      "C:\\Users\\jeongbin\\projects\\lg_aimers_project\\venv_310\\lib\\site-packages\\numpy\\lib\\_nanfunctions_impl.py:1231: RuntimeWarning: Mean of empty slice\n",
      "  return np.nanmean(a, axis, out=out, keepdims=keepdims)\n",
      "C:\\Users\\jeongbin\\AppData\\Local\\Temp\\ipykernel_13404\\3728999842.py:21: FutureWarning: A value is trying to be set on a copy of a DataFrame or Series through chained assignment using an inplace method.\n",
      "The behavior will change in pandas 3.0. This inplace method will never work because the intermediate object on which we are setting values always behaves as a copy.\n",
      "\n",
      "For example, when doing 'df[col].method(value, inplace=True)', try using 'df.method({col: value}, inplace=True)' or df[col] = df[col].method(value) instead, to perform the operation inplace on the original object.\n",
      "\n",
      "\n",
      "  test[col].fillna(df[col].median(), inplace=True)\n"
     ]
    }
   ],
   "source": [
    "# 불필요한 ID 컬럼 제거\n",
    "test_c=test.copy()\n",
    "test.drop(columns=['ID'], inplace=True)\n",
    "test.drop(columns=['시술 시기 코드'], inplace=True)\n",
    "\n",
    "# 숫자형으로 변환할 수 있는 object 타입 컬럼 변환 (변환 불가한 값은 NaN 처리)\n",
    "for col in [ '총 시술 횟수', '클리닉 내 총 시술 횟수', 'IVF 시술 횟수', 'DI 시술 횟수', '총 임신 횟수',\n",
    "            'IVF 임신 횟수', 'DI 임신 횟수', '총 출산 횟수', 'IVF 출산 횟수', 'DI 출산 횟수', '난자 기증자 나이', '정자 기증자 나이']:\n",
    "    test[col] = pd.to_numeric(test[col], errors='coerce')  # 변환할 수 없으면 NaN 처리\n",
    "\n",
    "# 범주형 데이터 LabelEncoding 처리 (OneHotEncoding이 아닌)\n",
    "le = LabelEncoder()\n",
    "for col in ['시술 유형', '특정 시술 유형', '배란 유도 유형', '배아 생성 주요 이유', '난자 출처', '정자 출처','시술 당시 나이']:\n",
    "    test[col] = le.fit_transform(test[col].astype(str))  # Label Encoding을 위해 객체형을 문자열로 변환\n",
    "\n",
    "for col in test.columns:\n",
    "    if test[col].isnull().sum() > 0:\n",
    "        if test[col].dtype == 'object':\n",
    "            test[col].fillna(df[col].mode()[0], inplace=True)\n",
    "        else:\n",
    "            test[col].fillna(df[col].median(), inplace=True)\n"
   ]
  },
  {
   "cell_type": "code",
   "execution_count": 72,
   "id": "be9ae4a5-f112-43f8-8862-6bf7ad868e01",
   "metadata": {},
   "outputs": [],
   "source": [
    "pred = model.predict_proba(test)[:, 1]  # 클래스 1(임신 성공) 확률만 선택\n",
    "test_c['probability'] = pred\n"
   ]
  },
  {
   "cell_type": "code",
   "execution_count": 73,
   "id": "9358cee5-21d9-4b30-a976-a17ca8eabafc",
   "metadata": {},
   "outputs": [
    {
     "name": "stdout",
     "output_type": "stream",
     "text": [
      "<class 'pandas.core.frame.DataFrame'>\n",
      "RangeIndex: 90067 entries, 0 to 90066\n",
      "Data columns (total 63 columns):\n",
      " #   Column              Non-Null Count  Dtype  \n",
      "---  ------              --------------  -----  \n",
      " 0   ID                  90067 non-null  object \n",
      " 1   시술 시기 코드            90067 non-null  object \n",
      " 2   시술 당시 나이            90067 non-null  object \n",
      " 3   시술 유형               90067 non-null  object \n",
      " 4   특정 시술 유형            90067 non-null  object \n",
      " 5   배란 자극 여부            90067 non-null  int64  \n",
      " 6   배란 유도 유형            90067 non-null  object \n",
      " 7   단일 배아 이식 여부         90067 non-null  float64\n",
      " 8   착상 전 유전 진단 사용 여부    90067 non-null  float64\n",
      " 9   남성 주 불임 원인          90067 non-null  int64  \n",
      " 10  남성 부 불임 원인          90067 non-null  int64  \n",
      " 11  여성 주 불임 원인          90067 non-null  int64  \n",
      " 12  여성 부 불임 원인          90067 non-null  int64  \n",
      " 13  부부 주 불임 원인          90067 non-null  int64  \n",
      " 14  부부 부 불임 원인          90067 non-null  int64  \n",
      " 15  불명확 불임 원인           90067 non-null  int64  \n",
      " 16  불임 원인 - 난관 질환       90067 non-null  int64  \n",
      " 17  불임 원인 - 남성 요인       90067 non-null  int64  \n",
      " 18  불임 원인 - 배란 장애       90067 non-null  int64  \n",
      " 19  불임 원인 - 여성 요인       90067 non-null  int64  \n",
      " 20  불임 원인 - 자궁경부 문제     90067 non-null  int64  \n",
      " 21  불임 원인 - 자궁내막증       90067 non-null  int64  \n",
      " 22  불임 원인 - 정자 농도       90067 non-null  int64  \n",
      " 23  불임 원인 - 정자 면역학적 요인  90067 non-null  int64  \n",
      " 24  불임 원인 - 정자 운동성      90067 non-null  int64  \n",
      " 25  불임 원인 - 정자 형태       90067 non-null  int64  \n",
      " 26  배아 생성 주요 이유         90067 non-null  object \n",
      " 27  총 시술 횟수             85274 non-null  float64\n",
      " 28  클리닉 내 총 시술 횟수       87810 non-null  float64\n",
      " 29  IVF 시술 횟수           86501 non-null  float64\n",
      " 30  DI 시술 횟수            89415 non-null  float64\n",
      " 31  총 임신 횟수             90066 non-null  float64\n",
      " 32  IVF 임신 횟수           90067 non-null  float64\n",
      " 33  DI 임신 횟수            90067 non-null  float64\n",
      " 34  총 출산 횟수             90066 non-null  float64\n",
      " 35  IVF 출산 횟수           90067 non-null  float64\n",
      " 36  DI 출산 횟수            90067 non-null  float64\n",
      " 37  총 생성 배아 수           90067 non-null  float64\n",
      " 38  미세주입된 난자 수          90067 non-null  float64\n",
      " 39  미세주입에서 생성된 배아 수     90067 non-null  float64\n",
      " 40  이식된 배아 수            90067 non-null  float64\n",
      " 41  미세주입 배아 이식 수        90067 non-null  float64\n",
      " 42  저장된 배아 수            90067 non-null  float64\n",
      " 43  미세주입 후 저장된 배아 수     90067 non-null  float64\n",
      " 44  해동된 배아 수            90067 non-null  float64\n",
      " 45  해동 난자 수             90067 non-null  float64\n",
      " 46  수집된 신선 난자 수         90067 non-null  float64\n",
      " 47  저장된 신선 난자 수         90067 non-null  float64\n",
      " 48  혼합된 난자 수            90067 non-null  float64\n",
      " 49  파트너 정자와 혼합된 난자 수    90067 non-null  float64\n",
      " 50  기증자 정자와 혼합된 난자 수    90067 non-null  float64\n",
      " 51  난자 출처               90067 non-null  object \n",
      " 52  정자 출처               90067 non-null  object \n",
      " 53  난자 기증자 나이           4894 non-null   float64\n",
      " 54  정자 기증자 나이           9024 non-null   float64\n",
      " 55  동결 배아 사용 여부         90067 non-null  float64\n",
      " 56  신선 배아 사용 여부         90067 non-null  float64\n",
      " 57  기증 배아 사용 여부         90067 non-null  float64\n",
      " 58  대리모 여부              90067 non-null  float64\n",
      " 59  난자 채취 경과일           90067 non-null  float64\n",
      " 60  난자 혼합 경과일           90067 non-null  float64\n",
      " 61  배아 이식 경과일           90067 non-null  float64\n",
      " 62  probability         90067 non-null  float64\n",
      "dtypes: float64(36), int64(18), object(9)\n",
      "memory usage: 43.3+ MB\n"
     ]
    }
   ],
   "source": [
    "test_c.info()"
   ]
  },
  {
   "cell_type": "code",
   "execution_count": 74,
   "id": "3a294935-b699-4132-ae9f-174e51a2db1a",
   "metadata": {},
   "outputs": [],
   "source": [
    "test_c = test_c[['ID', 'probability']]"
   ]
  },
  {
   "cell_type": "code",
   "execution_count": 75,
   "id": "d761d3bc-d9e2-40a4-9216-eeb3a595aee4",
   "metadata": {},
   "outputs": [
    {
     "data": {
      "text/html": [
       "<div>\n",
       "<style scoped>\n",
       "    .dataframe tbody tr th:only-of-type {\n",
       "        vertical-align: middle;\n",
       "    }\n",
       "\n",
       "    .dataframe tbody tr th {\n",
       "        vertical-align: top;\n",
       "    }\n",
       "\n",
       "    .dataframe thead th {\n",
       "        text-align: right;\n",
       "    }\n",
       "</style>\n",
       "<table border=\"1\" class=\"dataframe\">\n",
       "  <thead>\n",
       "    <tr style=\"text-align: right;\">\n",
       "      <th></th>\n",
       "      <th>ID</th>\n",
       "      <th>probability</th>\n",
       "    </tr>\n",
       "  </thead>\n",
       "  <tbody>\n",
       "    <tr>\n",
       "      <th>0</th>\n",
       "      <td>TEST_00000</td>\n",
       "      <td>0.000459</td>\n",
       "    </tr>\n",
       "    <tr>\n",
       "      <th>1</th>\n",
       "      <td>TEST_00001</td>\n",
       "      <td>0.000588</td>\n",
       "    </tr>\n",
       "    <tr>\n",
       "      <th>2</th>\n",
       "      <td>TEST_00002</td>\n",
       "      <td>0.141150</td>\n",
       "    </tr>\n",
       "    <tr>\n",
       "      <th>3</th>\n",
       "      <td>TEST_00003</td>\n",
       "      <td>0.122576</td>\n",
       "    </tr>\n",
       "    <tr>\n",
       "      <th>4</th>\n",
       "      <td>TEST_00004</td>\n",
       "      <td>0.545300</td>\n",
       "    </tr>\n",
       "  </tbody>\n",
       "</table>\n",
       "</div>"
      ],
      "text/plain": [
       "           ID  probability\n",
       "0  TEST_00000     0.000459\n",
       "1  TEST_00001     0.000588\n",
       "2  TEST_00002     0.141150\n",
       "3  TEST_00003     0.122576\n",
       "4  TEST_00004     0.545300"
      ]
     },
     "execution_count": 75,
     "metadata": {},
     "output_type": "execute_result"
    }
   ],
   "source": [
    "test_c.head()"
   ]
  },
  {
   "cell_type": "code",
   "execution_count": 76,
   "id": "18ab67d3-7a6f-465d-a268-d3d9cb439c6a",
   "metadata": {},
   "outputs": [],
   "source": [
    "test_c.to_csv('predictions2.csv', index=False)\n"
   ]
  },
  {
   "cell_type": "code",
   "execution_count": null,
   "id": "e1dd0cee-0ab7-4cf9-ad4b-4d9e30c1dbe4",
   "metadata": {},
   "outputs": [],
   "source": []
  }
 ],
 "metadata": {
  "kernelspec": {
   "display_name": "Python 3.10 (venv_310)",
   "language": "python",
   "name": "python310"
  },
  "language_info": {
   "codemirror_mode": {
    "name": "ipython",
    "version": 3
   },
   "file_extension": ".py",
   "mimetype": "text/x-python",
   "name": "python",
   "nbconvert_exporter": "python",
   "pygments_lexer": "ipython3",
   "version": "3.10.0"
  }
 },
 "nbformat": 4,
 "nbformat_minor": 5
}
